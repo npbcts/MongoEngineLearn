{
 "cells": [
  {
   "cell_type": "code",
   "execution_count": 3,
   "id": "12def3e8-4d4a-41f4-ad9d-35250f805a15",
   "metadata": {},
   "outputs": [
    {
     "data": {
      "text/plain": [
       "MongoClient(host=['192.168.2.172:27017'], document_class=dict, tz_aware=False, connect=True, read_preference=Primary(), uuidrepresentation=3)"
      ]
     },
     "execution_count": 3,
     "metadata": {},
     "output_type": "execute_result"
    }
   ],
   "source": [
    "from mongoengine import connect, disconnect\n",
    "from mongoengine import Document\n",
    "from mongoengine import StringField, IntField\n",
    "from mongo_config import TEST_DB1, TEST_DB2, TEST_DB3, HOST, PORT, USERNAME, PASSWORD\n",
    "# 连接到已创建的数据库\n",
    "connect(TEST_DB1, host=HOST, port=PORT, username=USERNAME, password=PASSWORD, authentication_source=TEST_DB1, alias=TEST_DB1)\n",
    "connect(TEST_DB2, host=HOST, port=PORT, username=USERNAME, password=PASSWORD, authentication_source=TEST_DB2, alias=TEST_DB2)\n",
    "connect(TEST_DB3, host=HOST, port=PORT, username=USERNAME, password=PASSWORD, authentication_source=TEST_DB3, alias=TEST_DB3)"
   ]
  },
  {
   "cell_type": "markdown",
   "id": "6868d1e0-8b0f-41b2-a43d-bc9ecb31fc37",
   "metadata": {},
   "source": [
    "## 字段参数 Field arguments\n",
    "\n",
    "Each field type can be customized by keyword arguments.\n",
    "\n",
    "`required`: 如果被设置为 `True`, 创建文档实例时不设置此值，将会抛出 `ValidationError` 异常。   \n",
    "`default`: 默认值。  \n",
    "`unique`: 整个集合中此字段唯一，否则抛出异常。bool  \n",
    "`unique_with`: 整个集合中此字段和参数中的字段列表联合起来唯一，否则抛出异常。 **A field name (or list of field names)**  \n",
    "`choices`: **An iterable (e.g. list, tuple or set)** of choices to which the value of this field should be\n",
    "limited.  \n",
    "`validation`: A callable to validate the value of the field."
   ]
  },
  {
   "cell_type": "markdown",
   "id": "0291dbac-421e-4cc8-b0f9-2e27bb0ae415",
   "metadata": {},
   "source": [
    "### required 的使用\n",
    "对于控制字段必须值很重要"
   ]
  },
  {
   "cell_type": "code",
   "execution_count": 14,
   "id": "366de18f-ff86-445e-88a3-b69979296697",
   "metadata": {},
   "outputs": [],
   "source": [
    "# 单一字段的唯一\n",
    "class BookBookidRequired(Document):\n",
    "    bookid = StringField(required=True)\n",
    "    name = StringField()\n",
    "    chapter = StringField(required=True, default=\"2.3.3.1\")\n",
    "    meta = {\"db_alias\": TEST_DB1}"
   ]
  },
  {
   "cell_type": "code",
   "execution_count": 15,
   "id": "087938c6-e400-4b61-a514-f3da9306dd6c",
   "metadata": {},
   "outputs": [
    {
     "data": {
      "text/plain": [
       "<BookBookidRequired: BookBookidRequired object>"
      ]
     },
     "execution_count": 15,
     "metadata": {},
     "output_type": "execute_result"
    }
   ],
   "source": [
    "BookBookidRequired(bookid=\"wx932qq00\", name=\"孙子兵法\").save()"
   ]
  },
  {
   "cell_type": "code",
   "execution_count": 17,
   "id": "e8c06b4d-d393-49ce-b3b5-6f6ee2bca4b1",
   "metadata": {},
   "outputs": [],
   "source": [
    "# 针对 required=True 的字段，如果保存时不设置值,将抛出 ValidationError  异常\n",
    "bk_r = BookBookidRequired(name=\"庄子\")"
   ]
  },
  {
   "cell_type": "code",
   "execution_count": null,
   "id": "3e531c90-5fe2-4b0f-afec-0dbd6136b95c",
   "metadata": {},
   "outputs": [],
   "source": [
    "bk_r.save()"
   ]
  },
  {
   "cell_type": "markdown",
   "id": "dd03dd6c-08e9-4e6b-9e21-f76581c8646c",
   "metadata": {},
   "source": [
    "### unique, unique_with 的使用\n",
    "对于控制根据某几项字段形成唯一文档很重要"
   ]
  },
  {
   "cell_type": "markdown",
   "id": "735c1e6f-2321-4a4c-8ef6-eb4423bc8585",
   "metadata": {},
   "source": [
    "#### 单一字段的唯一"
   ]
  },
  {
   "cell_type": "code",
   "execution_count": 13,
   "id": "39a0ed19-4844-4875-8b94-af05c0ef873d",
   "metadata": {},
   "outputs": [],
   "source": [
    "# 单一字段的唯一\n",
    "class BookBookidUnique(Document):\n",
    "    bookid = StringField(unique=True)\n",
    "    name = StringField()\n",
    "    chapter = StringField(required=True, default=\"2.3.3.1\")\n",
    "    meta = {\"db_alias\": TEST_DB1}"
   ]
  },
  {
   "cell_type": "code",
   "execution_count": 6,
   "id": "316b4b2e-7d37-4872-8bec-5389b6803af1",
   "metadata": {},
   "outputs": [
    {
     "data": {
      "text/plain": [
       "<BookBookidUnique: BookBookidUnique object>"
      ]
     },
     "execution_count": 6,
     "metadata": {},
     "output_type": "execute_result"
    }
   ],
   "source": [
    "BookBookidUnique(bookid=\"wx932qq00\", name=\"孙子兵法\").save()"
   ]
  },
  {
   "cell_type": "code",
   "execution_count": null,
   "id": "c026a97b-7eb5-4ff3-8981-63107344c03f",
   "metadata": {},
   "outputs": [],
   "source": [
    "BookBookidUnique(bookid=\"wx932qq00\", name=\"战国策\").save()\n",
    "# 已经保存 bookid=\"wx932qq00\" 时，再次执行保存此条数据，将抛出以下异常:\n",
    "# NotUniqueError: Tried to save duplicate unique keys \n",
    "#(E11000 duplicate key error collection: engine_learn.book_bookid_unique index: bookid_1 dup key: { bookid: \"wx932qq00\" })"
   ]
  },
  {
   "cell_type": "code",
   "execution_count": 7,
   "id": "1a991456-60bf-4419-b5de-ed8ada44a442",
   "metadata": {},
   "outputs": [
    {
     "data": {
      "text/plain": [
       "<BookBookidUnique: BookBookidUnique object>"
      ]
     },
     "execution_count": 7,
     "metadata": {},
     "output_type": "execute_result"
    }
   ],
   "source": [
    "# 修改id变得唯一之后，可以正常保存\n",
    "BookBookidUnique(bookid=\"wx932qq00aa\", name=\"战国策\").save()"
   ]
  },
  {
   "cell_type": "markdown",
   "id": "94be243e-3f2a-41c1-a02d-30b5359c113c",
   "metadata": {},
   "source": [
    "#### 联合字段的唯一"
   ]
  },
  {
   "cell_type": "code",
   "execution_count": 8,
   "id": "03d9d344-6d0e-448f-96a0-450743d95bd1",
   "metadata": {},
   "outputs": [],
   "source": [
    "# 联合字段的唯一\n",
    "class BookBookidUniqueWith(Document):\n",
    "    bookid = StringField()\n",
    "    name = StringField(unique_with=(\"bookid\",))\n",
    "    chapter = StringField(required=True, default=\"2.3.3.1\")\n",
    "    meta = {\"db_alias\": TEST_DB1}"
   ]
  },
  {
   "cell_type": "code",
   "execution_count": 9,
   "id": "a8341087-4a0e-4626-9652-c17c912be141",
   "metadata": {},
   "outputs": [
    {
     "data": {
      "text/plain": [
       "<BookBookidUniqueWith: BookBookidUniqueWith object>"
      ]
     },
     "execution_count": 9,
     "metadata": {},
     "output_type": "execute_result"
    }
   ],
   "source": [
    "BookBookidUniqueWith(bookid=\"wx932qq00\", name=\"孙子兵法\").save()"
   ]
  },
  {
   "cell_type": "code",
   "execution_count": null,
   "id": "1775e289-d889-4128-8d2c-bd244145e758",
   "metadata": {},
   "outputs": [],
   "source": [
    "BookBookidUniqueWith(bookid=\"wx932qq00\", name=\"孙子兵法\").save()\n",
    "# 不改变  bookid=\"wx932qq00\", name=\"孙子兵法\" 时抛出  NotUniqueError  异常\n",
    "# NotUniqueError: Tried to save duplicate unique keys \n",
    "# (E11000 duplicate key error collection: engine_learn.book_bookid_unique_with index: \n",
    "# name_1_bookid_1 dup key: { name: \"孙子兵法\", bookid: \"wx932qq00\" })"
   ]
  },
  {
   "cell_type": "code",
   "execution_count": 10,
   "id": "6fc0c446-1f2d-4f4c-923f-cf64f538e494",
   "metadata": {},
   "outputs": [
    {
     "data": {
      "text/plain": [
       "<BookBookidUniqueWith: BookBookidUniqueWith object>"
      ]
     },
     "execution_count": 10,
     "metadata": {},
     "output_type": "execute_result"
    }
   ],
   "source": [
    "# 不改变bookid时可以保存\n",
    "BookBookidUniqueWith(bookid=\"wx932qq00\", name=\"战国策\").save()"
   ]
  },
  {
   "cell_type": "code",
   "execution_count": 11,
   "id": "3e98a1fc-adc4-495f-be99-2363ad07c5f1",
   "metadata": {},
   "outputs": [
    {
     "data": {
      "text/plain": [
       "<BookBookidUniqueWith: BookBookidUniqueWith object>"
      ]
     },
     "execution_count": 11,
     "metadata": {},
     "output_type": "execute_result"
    }
   ],
   "source": [
    "# 改变bookid,  不改变name时可以保存\n",
    "BookBookidUniqueWith(bookid=\"wx932qq00aaa\", name=\"孙子兵法\").save()"
   ]
  },
  {
   "cell_type": "markdown",
   "id": "803172f8-acd5-4b7e-a0bc-d9f1ce0e52a1",
   "metadata": {},
   "source": [
    "### validation  的使用\n",
    "\n",
    "A callable to validate the value of the field. The callable takes the value as parameter and\n",
    "should raise a `ValidationError` if validation fails  \n",
    "这个参数对于规范字段值很有帮助，不符合筛选要求的字段值，不能被保存至数据库。"
   ]
  },
  {
   "cell_type": "code",
   "execution_count": 27,
   "id": "df12a7e8-464b-424f-8d98-b2aee9c8b28e",
   "metadata": {},
   "outputs": [],
   "source": [
    "from mongoengine import ValidationError\n",
    "def _not_empty(val):\n",
    "    if not val:\n",
    "        raise ValidationError('value can not be empty')\n",
    "\n",
    "def _id_length(val):\n",
    "    if len(val) != 8:\n",
    "        raise ValidationError('id length is invalidate')\n",
    "\n",
    "class BookValidate(Document):\n",
    "    bookid = StringField(validation=_id_length)  # 传入可执行参数\n",
    "    name = StringField(validation=_not_empty)\n",
    "    chapter = StringField(required=True, default=\"2.3.3.1\")\n",
    "    meta = {\"db_alias\": TEST_DB1}"
   ]
  },
  {
   "cell_type": "code",
   "execution_count": 21,
   "id": "bbbbae20-ca64-4d94-907b-fca0e0ca97d0",
   "metadata": {},
   "outputs": [
    {
     "data": {
      "text/plain": [
       "<BookValidate: BookValidate object>"
      ]
     },
     "execution_count": 21,
     "metadata": {},
     "output_type": "execute_result"
    }
   ],
   "source": [
    "BookValidate(name=\"左传\").save()"
   ]
  },
  {
   "cell_type": "code",
   "execution_count": null,
   "id": "51fcd139-a49d-44f0-a58e-4957d5af0090",
   "metadata": {},
   "outputs": [],
   "source": [
    "BookValidate(name=\"\").save()\n",
    "# 抛出以下异常:\n",
    "# ValidationError: ValidationError (BookValidate:None) (value can not be empty: ['name'])"
   ]
  },
  {
   "cell_type": "code",
   "execution_count": 25,
   "id": "a51eb000-eee5-4e07-999c-70f482068dab",
   "metadata": {},
   "outputs": [
    {
     "data": {
      "text/plain": [
       "<BookValidate: BookValidate object>"
      ]
     },
     "execution_count": 25,
     "metadata": {},
     "output_type": "execute_result"
    }
   ],
   "source": [
    "BookValidate(bookid=\"wx983714\",name=\"老子\").save()"
   ]
  },
  {
   "cell_type": "code",
   "execution_count": null,
   "id": "60ffa942-d4bb-43f1-8c9e-f55925fe4144",
   "metadata": {},
   "outputs": [],
   "source": [
    "BookValidate(bookid=\"wx9\",name=\"荀子\").save()\n",
    "# 抛出以下异常:\n",
    "# ValidationError: ValidationError (BookValidate:None) (id length is invalidate: ['bookid'])"
   ]
  },
  {
   "cell_type": "markdown",
   "id": "bd0c41d7-07fe-46e4-b65b-978f987cb0e8",
   "metadata": {},
   "source": [
    "### choices 的使用\n",
    "\n",
    "此处演示使用复杂的 choices 元组值时的情况\n",
    "\n",
    "Can either be nested tuples of value (stored in mongo) and a human readable key"
   ]
  },
  {
   "cell_type": "code",
   "execution_count": 30,
   "id": "79323f40-c3c0-47c2-ba4e-b5b4a2e167b1",
   "metadata": {},
   "outputs": [],
   "source": [
    "SIZE = (('S', 'Small'),\n",
    "        ('M', 'Medium'),\n",
    "        ('L', 'Large'),\n",
    "        ('XL', 'Extra Large'),\n",
    "        ('XXL', 'Extra Extra Large'))\n",
    "class BookSize(Document):\n",
    "    size = StringField(max_length=3, choices=SIZE)\n",
    "    bookid = StringField()\n",
    "    name = StringField()\n",
    "    chapter = StringField(required=True, default=\"2.3.3.1\")\n",
    "    meta = {\"db_alias\": TEST_DB1}"
   ]
  },
  {
   "cell_type": "code",
   "execution_count": 31,
   "id": "90851ae3-fd56-4f7f-b05c-3dd9faf6212b",
   "metadata": {},
   "outputs": [],
   "source": [
    "bookS = BookSize(bookid=\"wx093kid\", name=\"春秋\")"
   ]
  },
  {
   "cell_type": "code",
   "execution_count": 32,
   "id": "5b93e9cf-e87a-4570-bd4c-2bb7ce988154",
   "metadata": {},
   "outputs": [],
   "source": [
    "bookS.size = \"A\"\n",
    "# 在保存时 抛出异常: \n",
    "# ValidationError: ValidationError (BookSize:None) (Value must be one of ['S', 'M', 'L', 'XL', 'XXL']: ['size'])"
   ]
  },
  {
   "cell_type": "code",
   "execution_count": 34,
   "id": "326ef28d-7c6e-4d16-a4ff-37068172812e",
   "metadata": {},
   "outputs": [],
   "source": [
    "bookS.size = \"S\""
   ]
  },
  {
   "cell_type": "code",
   "execution_count": 35,
   "id": "ef6af697-bed9-4538-95d7-651ac1bb0bbb",
   "metadata": {},
   "outputs": [
    {
     "data": {
      "text/plain": [
       "<BookSize: BookSize object>"
      ]
     },
     "execution_count": 35,
     "metadata": {},
     "output_type": "execute_result"
    }
   ],
   "source": [
    "bookS.save()"
   ]
  },
  {
   "cell_type": "markdown",
   "id": "4a1a74eb-aea7-479f-90de-3f6515f8e2da",
   "metadata": {},
   "source": [
    "保存后的文档:\n",
    "```bash\n",
    "{\n",
    "    \"_id\" : ObjectId(\"63fd727669020dc15e87533e\"),\n",
    "    \"size\" : \"S\",\n",
    "    \"bookid\" : \"wx093kid\",\n",
    "    \"name\" : \"春秋\",\n",
    "    \"chapter\" : \"2.3.3.1\"\n",
    "}bookS = BookSize(bookid=\"wx093kid\", name=\"春秋\")\n",
    "```"
   ]
  },
  {
   "cell_type": "code",
   "execution_count": null,
   "id": "bfaae55e-b782-4ced-a8b1-34aa3bc4fd13",
   "metadata": {},
   "outputs": [],
   "source": [
    "bookS2 = BookSize(bookid=\"wx093kid\", name=\"春秋\")\n",
    "bookS2.size = \"Small\"\n",
    "bookS2.save()\n",
    "# 抛出异常\n",
    "# ValidationError: ValidationError (BookSize:None) (Value must be one of ['S', 'M', 'L', 'XL', 'XXL']: ['size'])\n",
    "# 即 在二维元组的情况下，也只能给此字段赋值 每个元组中 0 位置的值"
   ]
  }
 ],
 "metadata": {
  "kernelspec": {
   "display_name": "Python 3 (ipykernel)",
   "language": "python",
   "name": "python3"
  },
  "language_info": {
   "codemirror_mode": {
    "name": "ipython",
    "version": 3
   },
   "file_extension": ".py",
   "mimetype": "text/x-python",
   "name": "python",
   "nbconvert_exporter": "python",
   "pygments_lexer": "ipython3",
   "version": "3.10.6"
  }
 },
 "nbformat": 4,
 "nbformat_minor": 5
}
