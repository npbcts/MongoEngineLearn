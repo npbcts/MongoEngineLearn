{
 "cells": [
  {
   "cell_type": "code",
   "execution_count": 5,
   "id": "42eb0c37-8242-4d4f-9f0c-0d776aae6cb7",
   "metadata": {},
   "outputs": [
    {
     "data": {
      "text/plain": [
       "MongoClient(host=['192.168.2.172:27017'], document_class=dict, tz_aware=False, connect=True, read_preference=Primary(), uuidrepresentation=3)"
      ]
     },
     "execution_count": 5,
     "metadata": {},
     "output_type": "execute_result"
    }
   ],
   "source": [
    "from mongoengine import connect, disconnect\n",
    "from mongoengine import Document\n",
    "from mongoengine import StringField, IntField,BooleanField\n",
    "from mongo_config import TEST_DB1, TEST_DB2, TEST_DB3, HOST, PORT, USERNAME, PASSWORD\n",
    "connect(TEST_DB1, host=HOST, port=PORT, username=USERNAME, password=PASSWORD, authentication_source=TEST_DB1, alias=TEST_DB1)"
   ]
  },
  {
   "cell_type": "markdown",
   "id": "20f9d04b-fc03-46f7-bfcb-f418582e56f3",
   "metadata": {},
   "source": [
    "## 2.10. Documents migration(文档迁移)\n",
    "\n",
    "The structure of your documents and their associated mongoengine schemas are likely to change over the lifetime of an application. This section provides guidance and recommendations on how to deal with migrations.\n",
    "\n",
    "Due to the very flexible nature of mongodb, migrations of models aren’t trivial and for people that know about alembic for sqlalchemy, there is unfortunately no equivalent library that will manage the migration in an automatic fashion for mongoengine.\n",
    "\n",
    "你的文档和mongoengine模式在应用的生命周期内可能会变化，本节用来指引如何处理这种变化。  \n",
    "实际上，对于拥有灵活属性的mongodb来讲，模型的变化并不能对使用着带来困扰，使用关系型数据库的朋友会深有体会。  \n",
    "但不幸的是，并没有专门的库协助mongoengine处理文档的迁移，迁移的过程需要通过手动处理，但并不复杂。"
   ]
  },
  {
   "cell_type": "markdown",
   "id": "74daf5a6-62cf-499f-aa32-5b265badd4dc",
   "metadata": {},
   "source": [
    "### 2.10.1. Example 1: Addition of a field(添加字段)\n",
    "\n",
    "Let’s start by taking a simple example of a model change and review the different option you have to deal with the migration.\n",
    "\n",
    "Let’s assume we start with the following schema and save an instance:"
   ]
  },
  {
   "cell_type": "code",
   "execution_count": 3,
   "id": "a778305e-3419-4524-bb00-905b62dc3de2",
   "metadata": {},
   "outputs": [
    {
     "name": "stdout",
     "output_type": "stream",
     "text": [
      "[{'_id': ObjectId('640eaf1a2a9e0414ab6332b0'), 'name': 'John Doe'}]\n"
     ]
    }
   ],
   "source": [
    "class User(Document):\n",
    "    name = StringField()\n",
    "    meta ={ \"db_alias\": TEST_DB1}\n",
    "\n",
    "User(name=\"John Doe\").save()\n",
    "\n",
    "# print the objects as they exist in mongodb\n",
    "print(User.objects().as_pymongo())    # [{u'_id': ObjectId('5d06b9c3d7c1f18db3e7c874'), u'name': u'John Doe'}]"
   ]
  },
  {
   "cell_type": "markdown",
   "id": "9c095bc6-a96b-4352-a25f-be919d691c6f",
   "metadata": {},
   "source": [
    "On the next version of your application, let’s now assume that a new field enabled gets added to the existing `User` model with a `default=True`. Thus you simply update the `User` class to the following:"
   ]
  },
  {
   "cell_type": "code",
   "execution_count": 13,
   "id": "e0137e5b-d83b-4c1a-94e2-d0fd7568ef2d",
   "metadata": {},
   "outputs": [],
   "source": [
    "class User(Document):\n",
    "    name = StringField(required=True)\n",
    "    enabled = BooleanField(default=True)\n",
    "    meta ={ \"db_alias\": TEST_DB1}"
   ]
  },
  {
   "cell_type": "markdown",
   "id": "e6ce3fcf-dc38-4990-b6d3-ac23043ee77c",
   "metadata": {},
   "source": [
    "Without applying any migration, we now reload an object from the database into the User class and checks its enabled attribute:"
   ]
  },
  {
   "cell_type": "code",
   "execution_count": 16,
   "id": "caaab32a-26e8-4858-b670-2939f945b3e5",
   "metadata": {},
   "outputs": [
    {
     "name": "stdout",
     "output_type": "stream",
     "text": [
      "{'_id': ObjectId('640eaf1a2a9e0414ab6332b0'), 'name': 'John Doe'}\n",
      "[{'_id': ObjectId('640eaf1a2a9e0414ab6332b0'), 'name': 'John Doe'}, {'_id': ObjectId('640eaf622a9e0414ab6332b1'), 'name': '张三'}]\n"
     ]
    }
   ],
   "source": [
    "# 不实施任何迁移措施的时候，新字段 enable 并没有出现在原有的文档中\n",
    "assert User.objects.count() == 2\n",
    "user = User.objects().first()\n",
    "assert user.enabled is True\n",
    "assert User.objects(enabled=True).count() == 0    # pass\n",
    "assert User.objects(enabled=False).count() == 0   # pass\n",
    "\n",
    "# this is consistent with what we have in the database\n",
    "# in fact, 'enabled' does not exist\n",
    "print(User.objects().as_pymongo().first())    # {u'_id': ObjectId('5d06b9c3d7c1f18db3e7c874'), u'name': u'John'}\n",
    "assert User.objects(enabled=None).count() == 2  # pass\n",
    "print(User.objects().as_pymongo())"
   ]
  },
  {
   "cell_type": "markdown",
   "id": "ff5b85b6-4171-49d8-a962-4e094cc7dc89",
   "metadata": {},
   "source": [
    "As you can see, even if the document wasn’t updated, mongoengine applies the default value seamlessly when it loads the pymongo dict into a `User` instance. At first sight it looks like you don’t need to migrate the existing documents when adding new fields but this actually leads to inconsistencies when it comes to querying.\n",
    "\n",
    "In fact, when querying, mongoengine isn’t trying to account for the default value of the new field and so if you don’t actually migrate the existing documents, you are taking a risk that querying/updating will be missing relevant record.\n",
    "\n",
    "更新/修改文档类后，即使多出字段，查询也不会出错。这样看起来并不需要执行特殊的迁移工作就可以正常工作。但实际上修改字段前后数据库中的内容不一致，会导致查询结果不准确。\n",
    "\n",
    "When adding fields/modifying default values, you can use any of the following to do the migration as a standalone script:\n",
    "当文档模型更改时，可以使用以下的独立脚本执行迁移工作:"
   ]
  },
  {
   "cell_type": "code",
   "execution_count": 19,
   "id": "d60f0829-cb7a-4b5a-9a72-389d73e6e18d",
   "metadata": {},
   "outputs": [
    {
     "data": {
      "text/plain": [
       "2"
      ]
     },
     "execution_count": 19,
     "metadata": {},
     "output_type": "execute_result"
    }
   ],
   "source": [
    "# 将新增字段的默认值填充至修改前的数据中\n",
    "User.objects().update(enabled = True)"
   ]
  },
  {
   "cell_type": "markdown",
   "id": "0ef6ef07-0fd5-41c6-8139-4aec815ea8b0",
   "metadata": {},
   "source": [
    "### 2.10.2. Example 2: Inheritance change(继承文档的变更)\n",
    "\n",
    "Let’s consider the following example:"
   ]
  },
  {
   "cell_type": "code",
   "execution_count": 26,
   "id": "b072d80f-d27d-4cfb-9c59-85f7fd390ed8",
   "metadata": {},
   "outputs": [
    {
     "name": "stdout",
     "output_type": "stream",
     "text": [
      "[{'_id': ObjectId('640eb3c32a9e0414ab6332b2'), '_cls': 'Human.Jedi', 'name': 'Darth Vader', 'dark_side': True, 'light_saber_color': 'red'}, {'_id': ObjectId('640eb3c32a9e0414ab6332b3'), '_cls': 'Human.Jedi', 'name': 'Obi Wan Kenobi', 'dark_side': False, 'light_saber_color': 'blue'}]\n"
     ]
    }
   ],
   "source": [
    "class Human(Document):\n",
    "    name = StringField()\n",
    "    meta = {\"allow_inheritance\": True, \"db_alias\": TEST_DB1 }\n",
    "\n",
    "class Jedi(Human):\n",
    "    dark_side = BooleanField()\n",
    "    light_saber_color = StringField()\n",
    "\n",
    "#Jedi(name=\"Darth Vader\", dark_side=True, light_saber_color=\"red\").save()\n",
    "#Jedi(name=\"Obi Wan Kenobi\", dark_side=False, light_saber_color=\"blue\").save()\n",
    "\n",
    "assert Human.objects.count() == 2\n",
    "assert Jedi.objects.count() == 2\n",
    "\n",
    "# Let's check how these documents got stored in mongodb\n",
    "print(Jedi.objects.as_pymongo())\n",
    "# [\n",
    "#   {'_id': ObjectId('5fac4aaaf61d7fb06046e0f9'), '_cls': 'Human.Jedi', 'name': 'Darth Vader', 'dark_side': True, 'light_saber_color': 'red'},\n",
    "#   {'_id': ObjectId('5fac4ac4f61d7fb06046e0fa'), '_cls': 'Human.Jedi', 'name': 'Obi Wan Kenobi', 'dark_side': False, 'light_saber_color': 'blue'}\n",
    "# ]"
   ]
  },
  {
   "cell_type": "code",
   "execution_count": 22,
   "id": "0b0a8e86-08cb-4dad-af28-173f39eaf845",
   "metadata": {},
   "outputs": [
    {
     "data": {
      "text/plain": [
       "<Human: Human object>"
      ]
     },
     "execution_count": 22,
     "metadata": {},
     "output_type": "execute_result"
    }
   ],
   "source": [
    "# 可以独立添加 父类文档，但没有其他属性；文档中也有 `_cls`字段\n",
    "Human(name=\"张三\").save()"
   ]
  },
  {
   "cell_type": "markdown",
   "id": "9d29ce68-e6fa-4af3-a221-e0bd333b7d2f",
   "metadata": {},
   "source": [
    "As you can observe, when you use inheritance, MongoEngine stores a field named ‘_cls’ behind the scene to keep track of the Document class.\n",
    "\n",
    "Let’s now take the scenario that you want to refactor the inheritance schema and: - Have the Jedi’s with dark_side=True/False become GoodJedi’s/DarkSith - get rid of the ‘dark_side’ field\n",
    "\n",
    "修改思路: 由于 light_saber_color 颜色和 dark_side 的布尔值对应，因此 计划分化出两个类，分别表示 dark_side的真假，并去掉 dark_side属性。\n",
    "\n",
    "move to the following schemas:"
   ]
  },
  {
   "cell_type": "code",
   "execution_count": 30,
   "id": "9cd6079a-27ca-4794-b2c4-7421ed3c99ea",
   "metadata": {},
   "outputs": [],
   "source": [
    "class Human(Document):\n",
    "    name = StringField()\n",
    "    meta = {\"allow_inheritance\": True, \"db_alias\": TEST_DB1 }\n",
    "\n",
    "# attribute 'dark_side' removed\n",
    "class GoodJedi(Human):\n",
    "    light_saber_color = StringField()\n",
    "\n",
    "# new class\n",
    "class BadSith(Human):\n",
    "    light_saber_color = StringField()"
   ]
  },
  {
   "cell_type": "markdown",
   "id": "49544bd3-dbed-49df-846d-4ac95333e04a",
   "metadata": {},
   "source": [
    "MongoEngine doesn’t know about the change or how to map them with the existing data so if you don’t apply any migration, you will observe a strange behavior, as if the collection was suddenly empty.\n",
    "\n",
    "修改后的文档模型，MongoEngine不会自动对应出数据库中不同的类。"
   ]
  },
  {
   "cell_type": "code",
   "execution_count": 31,
   "id": "f665e6a4-46a7-486c-8a47-7e98eb37478c",
   "metadata": {},
   "outputs": [
    {
     "name": "stdout",
     "output_type": "stream",
     "text": [
      "{'_id': ObjectId('640eb3c32a9e0414ab6332b2'), '_cls': 'Human.Jedi', 'name': 'Darth Vader', 'dark_side': True, 'light_saber_color': 'red'}\n"
     ]
    }
   ],
   "source": [
    "# As a reminder, the documents that we inserted\n",
    "# have the _cls field = 'Human.Jedi'\n",
    "\n",
    "# Following has no match\n",
    "# because the query that is used behind the scene is\n",
    "# filtering on {'_cls': 'Human.GoodJedi'}\n",
    "assert GoodJedi.objects().count() == 0\n",
    "\n",
    "# Following has also no match\n",
    "# because it is filtering on {'_cls': {'$in': ('Human', 'Human.GoodJedi', 'Human.BadSith')}}\n",
    "# which has no match\n",
    "assert Human.objects.count() == 0\n",
    "assert Human.objects.first() is None\n",
    "\n",
    "# If we bypass MongoEngine and make use of underlying driver (PyMongo)\n",
    "# we can see that the documents are there\n",
    "humans_coll = Human._get_collection()\n",
    "assert humans_coll.count_documents({}) == 2\n",
    "# print first document\n",
    "print(humans_coll.find_one())\n",
    "# {'_id': ObjectId('5fac4aaaf61d7fb06046e0f9'), '_cls': 'Human.Jedi', 'name': 'Darth Vader', 'dark_side': True, 'light_saber_color': 'red'}"
   ]
  },
  {
   "cell_type": "code",
   "execution_count": 32,
   "id": "a27417d8-6dd7-4bb3-828f-25a9511fb353",
   "metadata": {},
   "outputs": [
    {
     "data": {
      "text/plain": [
       "0"
      ]
     },
     "execution_count": 32,
     "metadata": {},
     "output_type": "execute_result"
    }
   ],
   "source": [
    "Human.objects.count()"
   ]
  },
  {
   "cell_type": "markdown",
   "id": "518f8179-4cf4-4cc9-a7ad-29e1b0674269",
   "metadata": {},
   "source": [
    "As you can see, first obvious problem is that we need to modify ‘_cls’ values based on existing values of ‘dark_side’ documents.  \n",
    "手动修改 `_csl`类，以对应新的文档模型:"
   ]
  },
  {
   "cell_type": "code",
   "execution_count": 33,
   "id": "3642566e-bbb5-4a81-8dc2-d0da4f7f09c8",
   "metadata": {},
   "outputs": [
    {
     "data": {
      "text/plain": [
       "<pymongo.results.UpdateResult at 0x7fb17b959800>"
      ]
     },
     "execution_count": 33,
     "metadata": {},
     "output_type": "execute_result"
    }
   ],
   "source": [
    "humans_coll = Human._get_collection()\n",
    "old_class = 'Human.Jedi'\n",
    "good_jedi_class = 'Human.GoodJedi'\n",
    "bad_sith_class = 'Human.BadSith'\n",
    "humans_coll.update_many({'_cls': old_class, 'dark_side': False}, {'$set': {'_cls': good_jedi_class}})\n",
    "humans_coll.update_many({'_cls': old_class, 'dark_side': True}, {'$set': {'_cls': bad_sith_class}})"
   ]
  },
  {
   "cell_type": "code",
   "execution_count": null,
   "id": "e72ab50a-17b2-4de7-8085-11d751d041c6",
   "metadata": {},
   "outputs": [],
   "source": [
    "# Let’s now check if querying improved in MongoEngine:\n",
    "\n",
    "assert GoodJedi.objects().count() == 1  # Hoorah!\n",
    "assert BadSith.objects().count() == 1   # Hoorah!\n",
    "assert Human.objects.count() == 2       # Hoorah!\n",
    "\n",
    "# let's now check that documents load correctly\n",
    "jedi = GoodJedi.objects().first()\n",
    "# raises FieldDoesNotExist: The fields \"{'dark_side'}\" do not exist on the document \"Human.GoodJedi\"\n",
    "# 修改原来的 `_csl` 属性，并不完全准确， 已存在的 'dark_side' 与 现有文档的 字段不一致，会导致查询错误。\n"
   ]
  },
  {
   "cell_type": "markdown",
   "id": "06471ed5-7650-4c7c-94a1-641e99d4e8a0",
   "metadata": {},
   "source": [
    "In fact we only took care of renaming the _cls values but we havn’t removed the ‘dark_side’ fields which does not exist anymore on the GoodJedi’s and BadSith’s models. Let’s remove the field from the collections:"
   ]
  },
  {
   "cell_type": "code",
   "execution_count": 36,
   "id": "bbd25d86-2962-4895-a4c2-bb93f303c282",
   "metadata": {},
   "outputs": [
    {
     "data": {
      "text/plain": [
       "<pymongo.results.UpdateResult at 0x7fb189108340>"
      ]
     },
     "execution_count": 36,
     "metadata": {},
     "output_type": "execute_result"
    }
   ],
   "source": [
    "# 手动全部删除 dark_side 字段， 使用 unset 操作符\n",
    "humans_coll = Human._get_collection()\n",
    "humans_coll.update_many({}, {'$unset': {'dark_side': 1}})"
   ]
  },
  {
   "cell_type": "code",
   "execution_count": 39,
   "id": "995963dd-b485-42ba-bce5-6f8c0b10bbae",
   "metadata": {},
   "outputs": [
    {
     "data": {
      "text/plain": [
       "[{'_id': ObjectId('640eb3c32a9e0414ab6332b3'), '_cls': 'Human.GoodJedi', 'name': 'Obi Wan Kenobi', 'light_saber_color': 'blue'}]"
      ]
     },
     "execution_count": 39,
     "metadata": {},
     "output_type": "execute_result"
    }
   ],
   "source": [
    "GoodJedi.objects().as_pymongo()"
   ]
  },
  {
   "cell_type": "code",
   "execution_count": null,
   "id": "afaee6c1-198b-409b-9f6e-9f2320f62afd",
   "metadata": {},
   "outputs": [],
   "source": [
    "# 一步完成上述更改\n",
    "#We did this migration in 2 different steps for the sake of example but it could \n",
    "# have been combined with the migration of the _cls fields:\n",
    "\n",
    "humans_coll.update_many(\n",
    "    {'_cls': old_class, 'dark_side': False},\n",
    "    {\n",
    "        '$set': {'_cls': good_jedi_class},\n",
    "        '$unset': {'dark_side': 1}\n",
    "    }\n",
    ")"
   ]
  },
  {
   "cell_type": "markdown",
   "id": "89e95a6b-ee9c-4cdb-b6d4-081f116956cb",
   "metadata": {},
   "source": [
    "### 2.10.3. Example 4: Index removal\n",
    "\n",
    "If you remove an index from your Document class, or remove an indexed Field from your Document class, you’ll need to manually drop the corresponding index. MongoEngine will not do that for you.\n",
    "\n",
    "The way to deal with this case is to identify the name of the index to drop with index_information(), and then drop it with drop_index()\n",
    "\n",
    "当你删除模型中的索引或索引对应的字段时，数据库中的索引不会对应删除，MongoEngine也不会帮你做这件事。\n",
    "\n",
    "Let’s for instance assume that you start with the following Document class: "
   ]
  },
  {
   "cell_type": "code",
   "execution_count": 41,
   "id": "3d648e69-10a0-4b3a-861a-4e9974247490",
   "metadata": {},
   "outputs": [
    {
     "data": {
      "text/plain": [
       "<User: User object>"
      ]
     },
     "execution_count": 41,
     "metadata": {},
     "output_type": "execute_result"
    }
   ],
   "source": [
    "class User2(Document):\n",
    "    name = StringField(index=True)\n",
    "\n",
    "    meta = {\"indexes\": [\"name\"], \"db_alias\": TEST_DB1}\n"
   ]
  },
  {
   "cell_type": "code",
   "execution_count": 43,
   "id": "99b7b858-f703-468c-8997-f2bb6df04124",
   "metadata": {},
   "outputs": [
    {
     "data": {
      "text/plain": [
       "<User2: User2 object>"
      ]
     },
     "execution_count": 43,
     "metadata": {},
     "output_type": "execute_result"
    }
   ],
   "source": [
    "User2(name=\"John Doe\").save()"
   ]
  },
  {
   "cell_type": "markdown",
   "id": "999a7140-0a80-4541-9fa0-d0b65d85be91",
   "metadata": {},
   "source": [
    "当我们使用文档和数据库交互时，就会创建索引。  \n",
    "As soon as you start interacting with the Document collection (when .save() is called in this case), it would create the following indexes:"
   ]
  },
  {
   "cell_type": "code",
   "execution_count": 45,
   "id": "1d5c3e1e-49ef-4364-a067-60f0c6e82c72",
   "metadata": {},
   "outputs": [
    {
     "name": "stdout",
     "output_type": "stream",
     "text": [
      "{'_id_': {'v': 2, 'key': [('_id', 1)]}, 'name_1': {'v': 2, 'key': [('name', 1)], 'background': False}}\n"
     ]
    }
   ],
   "source": [
    "print(User2._get_collection().index_information())\n",
    "# {\n",
    "#  '_id_': {'key': [('_id', 1)], 'v': 2},\n",
    "#  'name_1': {'background': False, 'key': [('name', 1)], 'v': 2},\n",
    "# }"
   ]
  },
  {
   "cell_type": "markdown",
   "id": "b4291b58-5fa5-4233-a98a-23a6133e4751",
   "metadata": {},
   "source": [
    "Thus: ‘_id’ which is the default index and ‘name_1’ which is our custom index. If you would remove the ‘name’ field or its index, you would have to call:"
   ]
  },
  {
   "cell_type": "code",
   "execution_count": 46,
   "id": "13b13261-da45-4453-9df9-5db8230e5101",
   "metadata": {},
   "outputs": [],
   "source": [
    "User2._get_collection().drop_index(\"name_1\")"
   ]
  },
  {
   "cell_type": "markdown",
   "id": "1ea87918-69d7-4538-aa43-0deec5fbb0c4",
   "metadata": {},
   "source": [
    "> When adding new fields or new indexes, MongoEngine will take care of creating them (unless `auto_create_index` is disabled)\n",
    "\n",
    "> 当我们添加新的索引时， MongoEngine会为我们自动创建它（除非 `auto_create_index` 属性被关闭）。"
   ]
  },
  {
   "cell_type": "markdown",
   "id": "9cd4463e-9061-4a8d-8d80-349f61c87264",
   "metadata": {},
   "source": [
    "### 2.10.4. Recommendations（建议）\n",
    "\n",
    "Write migration scripts whenever you do changes to the model schemas\n",
    "\n",
    "Using `DynamicDocument` or `meta = {\"strict\": False}` may help to avoid some migrations or to have the 2 versions of your application to co-exist.\n",
    "\n",
    "使用 `DynamicDocument`(动态文档) or `meta = {\"strict\": False}` (修改属性为 `False` ) 可以避免文档迁移，并且可以保留两个以上的文档模型版本。\n",
    "\n",
    "Write post-processing checks to verify that migrations script worked. See below:"
   ]
  },
  {
   "cell_type": "markdown",
   "id": "836a5a0c-099f-4fef-959c-80044cba27c3",
   "metadata": {},
   "source": [
    "#### `meta = {\"strict\": True}` 时的测试"
   ]
  },
  {
   "cell_type": "code",
   "execution_count": 49,
   "id": "87c24080-39db-4241-bb2a-39754b18ee8f",
   "metadata": {},
   "outputs": [],
   "source": [
    "# version1,建立 用户3 文档模型\n",
    "class User3(Document):\n",
    "    name = StringField(index=True)\n",
    "\n",
    "    meta = {\n",
    "        \"indexes\": [\"name\"], \n",
    "        \"db_alias\": TEST_DB1,\n",
    "        \"strict\": True\n",
    "    }"
   ]
  },
  {
   "cell_type": "code",
   "execution_count": 50,
   "id": "0582d6b0-47c9-455b-8e3c-7bb9b979b58a",
   "metadata": {},
   "outputs": [
    {
     "data": {
      "text/plain": [
       "<User3: User3 object>"
      ]
     },
     "execution_count": 50,
     "metadata": {},
     "output_type": "execute_result"
    }
   ],
   "source": [
    "User3(name=\"小刚\").save()"
   ]
  },
  {
   "cell_type": "code",
   "execution_count": 51,
   "id": "d5100751-dc1e-4c4a-b00d-19c0836e36d4",
   "metadata": {},
   "outputs": [],
   "source": [
    "# version2, 添加了gendr(性别)字段\n",
    "class User3(Document):\n",
    "    name = StringField(index=True)\n",
    "    gender = StringField()\n",
    "    meta = {\n",
    "        \"indexes\": [\"name\"], \n",
    "        \"db_alias\": TEST_DB1,\n",
    "        \"strict\": True\n",
    "    }"
   ]
  },
  {
   "cell_type": "code",
   "execution_count": 55,
   "id": "6399fced-0a8f-4be9-ba68-ea571e709a8e",
   "metadata": {},
   "outputs": [
    {
     "data": {
      "text/plain": [
       "<User3: User3 object>"
      ]
     },
     "execution_count": 55,
     "metadata": {},
     "output_type": "execute_result"
    }
   ],
   "source": [
    "User3(name=\"小明\", gender=\"男\").save()"
   ]
  },
  {
   "cell_type": "code",
   "execution_count": 60,
   "id": "0a2a7416-0238-4dd3-9d00-c0123ccb006a",
   "metadata": {},
   "outputs": [],
   "source": [
    "check_documents(User3, sample_size=2)"
   ]
  },
  {
   "cell_type": "markdown",
   "id": "8e937935-12f0-485e-b533-7fc108ebab44",
   "metadata": {},
   "source": [
    "### 2.10.5. Post-processing checks（后处理检查）\n",
    "\n",
    "The following recipe can be used to sanity check a Document collection after you applied migration. It does not make any assumption on what was migrated, it will fetch 1000 objects randomly and run some quick checks on the documents to make sure the document looks OK. As it is, it will fail on the first occurrence of an error but this is something that can be adapted based on your needs.\n",
    "\n",
    "这是一段通用的 在文档迁移之后进行检查的脚本。检查脚本本身不对文档的迁移做任何假设，只是检查文档是否符合最新的字段设定。如果第一个检查出存在错误，程序就会停止。sample_size指随即选取检查的数量。"
   ]
  },
  {
   "cell_type": "code",
   "execution_count": 47,
   "id": "5d604803-c577-426b-8be3-4c4ed5893de7",
   "metadata": {},
   "outputs": [],
   "source": [
    "# 文档原始版本  getattr(doc, field) 检测不出错误\n",
    "def get_random_oids(collection, sample_size):\n",
    "    pipeline = [{\"$project\": {'_id': 1}}, {\"$sample\": {\"size\": sample_size}}]\n",
    "    return [s['_id'] for s in collection.aggregate(pipeline)]\n",
    "\n",
    "def get_random_documents(DocCls, sample_size):\n",
    "    doc_collection = DocCls._get_collection()\n",
    "    random_oids = get_random_oids(doc_collection, sample_size)\n",
    "    return DocCls.objects(id__in=random_oids)\n",
    "\n",
    "def check_documents(DocCls, sample_size):\n",
    "    for doc in get_random_documents(DocCls, sample_size):\n",
    "        # general validation (types and values)\n",
    "        doc.validate()\n",
    "\n",
    "        # load all subfields,\n",
    "        # this may trigger additional queries if you have ReferenceFields\n",
    "        # so it may be slow\n",
    "        for field in doc._fields:\n",
    "            try:\n",
    "                getattr(doc, field)\n",
    "            except Exception:\n",
    "                LOG.warning(f\"Could not load field {field} in Document {doc.id}\")\n",
    "                raise\n",
    "\n",
    "check_documents(Human, sample_size=1000)"
   ]
  },
  {
   "cell_type": "code",
   "execution_count": 76,
   "id": "90c85111-e2af-44c4-8974-8f0deb7791e9",
   "metadata": {},
   "outputs": [],
   "source": [
    "# 修改后可以正常运行的版本\n",
    "def get_random_oids(collection, sample_size):\n",
    "    pipeline = [{\"$project\": {'_id': 1}}, {\"$sample\": {\"size\": sample_size}}]\n",
    "    return [s['_id'] for s in collection.aggregate(pipeline)]\n",
    "\n",
    "def get_random_documents(DocCls, sample_size):\n",
    "    doc_collection = DocCls._get_collection()\n",
    "    random_oids = get_random_oids(doc_collection, sample_size)\n",
    "    return DocCls.objects(id__in=random_oids)\n",
    "\n",
    "def check_documents(DocCls, sample_size):\n",
    "    for doc in get_random_documents(DocCls, sample_size):\n",
    "        # general validation (types and values)\n",
    "        doc.validate()\n",
    "\n",
    "        # load all subfields,\n",
    "        # this may trigger additional queries if you have ReferenceFields\n",
    "        # so it may be slow\n",
    "        for field in doc._fields:\n",
    "            if getattr(doc, field) is None:\n",
    "                print(f\"Could not load field '{field}' in Document {doc.id}\")\n",
    "                raise\n"
   ]
  },
  {
   "cell_type": "code",
   "execution_count": 79,
   "id": "76f1a161-63ca-4355-a7b4-eb614c8ad3bf",
   "metadata": {},
   "outputs": [],
   "source": [
    "# 全部检查版本\n",
    "def check_documents_all(DocCls):\n",
    "    for doc in DocCls.objects():\n",
    "        # general validation (types and values)\n",
    "        doc.validate()\n",
    "        for field in doc._fields:\n",
    "            if getattr(doc, field) is None:\n",
    "                print(f\"Could not load field '{field}' in Document {doc.id}\")\n",
    "                raise\n"
   ]
  },
  {
   "cell_type": "code",
   "execution_count": 80,
   "id": "8663103d-7b29-4fcd-b22a-a0ff54dce283",
   "metadata": {},
   "outputs": [
    {
     "name": "stdout",
     "output_type": "stream",
     "text": [
      "Could not load field 'gender' in Document 640ed0782a9e0414ab6332bb\n"
     ]
    },
    {
     "ename": "RuntimeError",
     "evalue": "No active exception to reraise",
     "output_type": "error",
     "traceback": [
      "\u001b[0;31m---------------------------------------------------------------------------\u001b[0m",
      "\u001b[0;31mRuntimeError\u001b[0m                              Traceback (most recent call last)",
      "Cell \u001b[0;32mIn [80], line 1\u001b[0m\n\u001b[0;32m----> 1\u001b[0m check_documents_all(User3)\n",
      "Cell \u001b[0;32mIn [79], line 8\u001b[0m, in \u001b[0;36mcheck_documents_all\u001b[0;34m(DocCls)\u001b[0m\n\u001b[1;32m      6\u001b[0m \u001b[38;5;28;01mif\u001b[39;00m \u001b[38;5;28mgetattr\u001b[39m(doc, field) \u001b[38;5;129;01mis\u001b[39;00m \u001b[38;5;28;01mNone\u001b[39;00m:\n\u001b[1;32m      7\u001b[0m     \u001b[38;5;28mprint\u001b[39m(\u001b[38;5;124mf\u001b[39m\u001b[38;5;124m\"\u001b[39m\u001b[38;5;124mCould not load field \u001b[39m\u001b[38;5;124m'\u001b[39m\u001b[38;5;132;01m{\u001b[39;00mfield\u001b[38;5;132;01m}\u001b[39;00m\u001b[38;5;124m'\u001b[39m\u001b[38;5;124m in Document \u001b[39m\u001b[38;5;132;01m{\u001b[39;00mdoc\u001b[38;5;241m.\u001b[39mid\u001b[38;5;132;01m}\u001b[39;00m\u001b[38;5;124m\"\u001b[39m)\n\u001b[0;32m----> 8\u001b[0m     \u001b[38;5;28;01mraise\u001b[39;00m\n",
      "\u001b[0;31mRuntimeError\u001b[0m: No active exception to reraise"
     ]
    }
   ],
   "source": [
    "check_documents_all(User3)"
   ]
  },
  {
   "cell_type": "code",
   "execution_count": 81,
   "id": "a5e5467e-c7cf-4980-8a74-e4b83f47cc39",
   "metadata": {},
   "outputs": [
    {
     "name": "stdout",
     "output_type": "stream",
     "text": [
      "Could not load field gender in Document 640ed0782a9e0414ab6332bb\n"
     ]
    },
    {
     "ename": "RuntimeError",
     "evalue": "No active exception to reraise",
     "output_type": "error",
     "traceback": [
      "\u001b[0;31m---------------------------------------------------------------------------\u001b[0m",
      "\u001b[0;31mRuntimeError\u001b[0m                              Traceback (most recent call last)",
      "Cell \u001b[0;32mIn [81], line 1\u001b[0m\n\u001b[0;32m----> 1\u001b[0m check_documents(User3, \u001b[38;5;241m1000\u001b[39m)\n",
      "Cell \u001b[0;32mIn [76], line 21\u001b[0m, in \u001b[0;36mcheck_documents\u001b[0;34m(DocCls, sample_size)\u001b[0m\n\u001b[1;32m     19\u001b[0m \u001b[38;5;28;01mif\u001b[39;00m \u001b[38;5;28mgetattr\u001b[39m(doc, field) \u001b[38;5;129;01mis\u001b[39;00m \u001b[38;5;28;01mNone\u001b[39;00m:\n\u001b[1;32m     20\u001b[0m     \u001b[38;5;28mprint\u001b[39m(\u001b[38;5;124mf\u001b[39m\u001b[38;5;124m\"\u001b[39m\u001b[38;5;124mCould not load field \u001b[39m\u001b[38;5;132;01m{\u001b[39;00mfield\u001b[38;5;132;01m}\u001b[39;00m\u001b[38;5;124m in Document \u001b[39m\u001b[38;5;132;01m{\u001b[39;00mdoc\u001b[38;5;241m.\u001b[39mid\u001b[38;5;132;01m}\u001b[39;00m\u001b[38;5;124m\"\u001b[39m)\n\u001b[0;32m---> 21\u001b[0m     \u001b[38;5;28;01mraise\u001b[39;00m\n",
      "\u001b[0;31mRuntimeError\u001b[0m: No active exception to reraise"
     ]
    }
   ],
   "source": [
    "check_documents(User3, 1000)"
   ]
  }
 ],
 "metadata": {
  "kernelspec": {
   "display_name": "Python 3 (ipykernel)",
   "language": "python",
   "name": "python3"
  },
  "language_info": {
   "codemirror_mode": {
    "name": "ipython",
    "version": 3
   },
   "file_extension": ".py",
   "mimetype": "text/x-python",
   "name": "python",
   "nbconvert_exporter": "python",
   "pygments_lexer": "ipython3",
   "version": "3.10.6"
  }
 },
 "nbformat": 4,
 "nbformat_minor": 5
}
