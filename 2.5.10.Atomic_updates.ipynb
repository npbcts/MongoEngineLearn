{
 "cells": [
  {
   "cell_type": "code",
   "execution_count": 1,
   "id": "a63a72bb-4448-42ef-8578-bb9bbebd50f5",
   "metadata": {},
   "outputs": [],
   "source": [
    "from book_model import BookAllField"
   ]
  },
  {
   "cell_type": "markdown",
   "id": "2ef05ffa-f248-48ad-8fab-1b03180d97a8",
   "metadata": {},
   "source": [
    "## 2.5.10. Atomic updates(原子更新)\n",
    "\n",
    "Documents may be updated atomically by using the `update_one()`, `update()` and `modify()` methods on a `QuerySet` or `modify()` and `save()` (with save_condition argument) on a Document. There are several different “modifiers” that you may use with these methods:\n",
    "\n",
    "`set` – set a particular value：设置特定值  \n",
    "`set_on_insert` – set only if this is new document `need to add upsert=True`_：只有在新文档时更新值  \n",
    "`unset` – delete a particular value (since MongoDB v1.3)：删除特定值  \n",
    "`max` – update only if value is bigger：较大时更新  \n",
    "`min` – update only if value is smaller：较小时更新  \n",
    "`inc` – increment a value by a given amount：将一个值增加给定数量  \n",
    "`dec` – decrement a value by a given amount：将一个值减少给定数量  \n",
    "`push` – append a value to a list：添加值到列表末尾  \n",
    "`push_all` – append several values to a list：添加多个值到列表末尾  \n",
    "`pop` – remove the first or last element of a list depending on the value：删除列表开头或末尾的一个值  \n",
    "`pull` – remove a value from a list：从列表中删除给定的值  \n",
    "`pull_all` – remove several values from a list：从列表中删除给定的多个值    \n",
    "`add_to_set` – add value to a list only if its not in the list already：仅在列表中没有这个值时添加  \n",
    "`rename` – rename the key name：修改键名"
   ]
  },
  {
   "cell_type": "markdown",
   "id": "84e20c79-197b-4710-9e77-7cc7c29dbc29",
   "metadata": {},
   "source": [
    "The syntax for atomic updates is similar to the querying syntax, but the modifier comes before the field, not after it:\n",
    "\n",
    "原子更新的操作符与查询符号很像，但更新操作符在字段之前(与查询相同，使用双下划线连接字段名称)\n",
    "\n",
    "```python\n",
    "post = BlogPost(title='Test', page_views=0, tags=['database'])\n",
    "post.save()\n",
    "BlogPost.objects(id=post.id).update_one(inc__page_views=1)\n",
    "post.reload()  # the document has been changed, so we need to reload it\n",
    "post.page_views\n",
    "1\n",
    "BlogPost.objects(id=post.id).update_one(set__title='Example Post')\n",
    "post.reload()\n",
    "post.title\n",
    "'Example Post'\n",
    "BlogPost.objects(id=post.id).update_one(push__tags='nosql')\n",
    "post.reload()\n",
    "post.tags\n",
    "['database', 'nosql']\n",
    "```"
   ]
  },
  {
   "cell_type": "markdown",
   "id": "d9184d86-d58a-4781-b811-057c50ac2703",
   "metadata": {},
   "source": [
    "### modifier operator: Inc and Dec"
   ]
  },
  {
   "cell_type": "code",
   "execution_count": 18,
   "id": "c8c6fc6a-f2e4-4a08-84c5-078e34cd69a9",
   "metadata": {},
   "outputs": [
    {
     "data": {
      "text/plain": [
       "10.8"
      ]
     },
     "execution_count": 18,
     "metadata": {},
     "output_type": "execute_result"
    }
   ],
   "source": [
    "BookAllField.objects(name=\"大学\", publishing_house__name=\"人民教育出版社\")[0].price"
   ]
  },
  {
   "cell_type": "code",
   "execution_count": 19,
   "id": "10b7c5ee-132f-4143-8ade-345cc0482c6c",
   "metadata": {},
   "outputs": [
    {
     "data": {
      "text/plain": [
       "1"
      ]
     },
     "execution_count": 19,
     "metadata": {},
     "output_type": "execute_result"
    }
   ],
   "source": [
    "# inc 操作符，在原有的价格上加 1;在 QuerySet 上执行 update_one,而不是 Document 上\n",
    "BookAllField.objects(name=\"大学\", publishing_house__name=\"人民教育出版社\").update_one(inc__price=1)"
   ]
  },
  {
   "cell_type": "code",
   "execution_count": 20,
   "id": "1ee87746-13c7-473b-af42-8dd8b4cc992b",
   "metadata": {},
   "outputs": [
    {
     "data": {
      "text/plain": [
       "11.8"
      ]
     },
     "execution_count": 20,
     "metadata": {},
     "output_type": "execute_result"
    }
   ],
   "source": [
    "# 查询更新后的价格\n",
    "BookAllField.objects(name=\"大学\", publishing_house__name=\"人民教育出版社\")[0].price"
   ]
  },
  {
   "cell_type": "code",
   "execution_count": 21,
   "id": "c4ab029a-8930-44e7-b0ef-61d300eb267e",
   "metadata": {},
   "outputs": [
    {
     "data": {
      "text/plain": [
       "1"
      ]
     },
     "execution_count": 21,
     "metadata": {},
     "output_type": "execute_result"
    }
   ],
   "source": [
    "# inc 操作符，在原有的价格上减 1\n",
    "BookAllField.objects(name=\"大学\", publishing_house__name=\"人民教育出版社\").update_one(dec__price=1)"
   ]
  },
  {
   "cell_type": "code",
   "execution_count": 22,
   "id": "49208536-2fec-4fed-aa34-dc5bbd924219",
   "metadata": {},
   "outputs": [
    {
     "data": {
      "text/plain": [
       "10.8"
      ]
     },
     "execution_count": 22,
     "metadata": {},
     "output_type": "execute_result"
    }
   ],
   "source": [
    "# 查询更新后的价格\n",
    "BookAllField.objects(name=\"大学\", publishing_house__name=\"人民教育出版社\")[0].price"
   ]
  },
  {
   "cell_type": "markdown",
   "id": "610d959c-9334-4bfb-8521-73a5d977208e",
   "metadata": {},
   "source": [
    "### modifier operator:push, push_all; pull, pull_all"
   ]
  },
  {
   "cell_type": "code",
   "execution_count": 23,
   "id": "aef8aa50-e1ee-4589-aa05-6c583ded8309",
   "metadata": {},
   "outputs": [
    {
     "data": {
      "text/plain": [
       "['历史', '经典', '必读']"
      ]
     },
     "execution_count": 23,
     "metadata": {},
     "output_type": "execute_result"
    }
   ],
   "source": [
    "BookAllField.objects(name=\"大学\", publishing_house__name=\"人民教育出版社\")[0].tag"
   ]
  },
  {
   "cell_type": "code",
   "execution_count": 27,
   "id": "f96d4e35-a2e7-4921-88e0-7545198c2b09",
   "metadata": {},
   "outputs": [
    {
     "data": {
      "text/plain": [
       "1"
      ]
     },
     "execution_count": 27,
     "metadata": {},
     "output_type": "execute_result"
    }
   ],
   "source": [
    "# 列表中添加最后一个值\n",
    "BookAllField.objects(name=\"大学\", publishing_house__name=\"人民教育出版社\").update_one(push__tag=\"儒学\")"
   ]
  },
  {
   "cell_type": "code",
   "execution_count": 28,
   "id": "ce1f64f3-3698-4ac5-9cc1-11d66d0f40a2",
   "metadata": {},
   "outputs": [
    {
     "data": {
      "text/plain": [
       "['历史', '经典', '必读', '儒学']"
      ]
     },
     "execution_count": 28,
     "metadata": {},
     "output_type": "execute_result"
    }
   ],
   "source": [
    "BookAllField.objects(name=\"大学\", publishing_house__name=\"人民教育出版社\")[0].tag"
   ]
  },
  {
   "cell_type": "code",
   "execution_count": 29,
   "id": "9b5ba0c8-5633-466e-90dc-f765f09bff7f",
   "metadata": {},
   "outputs": [
    {
     "data": {
      "text/plain": [
       "1"
      ]
     },
     "execution_count": 29,
     "metadata": {},
     "output_type": "execute_result"
    }
   ],
   "source": [
    "# 删除 list 中最后一个值\n",
    "BookAllField.objects(name=\"大学\", publishing_house__name=\"人民教育出版社\").update_one(pull__tag=\"儒学\")"
   ]
  },
  {
   "cell_type": "code",
   "execution_count": 30,
   "id": "42dcd04f-e0af-4cf6-ad49-f8a64376c2bb",
   "metadata": {},
   "outputs": [
    {
     "data": {
      "text/plain": [
       "['历史', '经典', '必读']"
      ]
     },
     "execution_count": 30,
     "metadata": {},
     "output_type": "execute_result"
    }
   ],
   "source": [
    "BookAllField.objects(name=\"大学\", publishing_house__name=\"人民教育出版社\")[0].tag"
   ]
  },
  {
   "cell_type": "code",
   "execution_count": 31,
   "id": "89138add-1090-49f9-b39e-50dfd3866cca",
   "metadata": {},
   "outputs": [
    {
     "data": {
      "text/plain": [
       "1"
      ]
     },
     "execution_count": 31,
     "metadata": {},
     "output_type": "execute_result"
    }
   ],
   "source": [
    "# 列表后，添加多个元素\n",
    "BookAllField.objects(name=\"大学\", publishing_house__name=\"人民教育出版社\").update_one(push_all__tag=[\"儒学\",\"四书\"])"
   ]
  },
  {
   "cell_type": "code",
   "execution_count": 32,
   "id": "53948230-2c8c-4c13-bef6-3560997d18b2",
   "metadata": {},
   "outputs": [
    {
     "data": {
      "text/plain": [
       "['历史', '经典', '必读', '儒学', '四书']"
      ]
     },
     "execution_count": 32,
     "metadata": {},
     "output_type": "execute_result"
    }
   ],
   "source": [
    "BookAllField.objects(name=\"大学\", publishing_house__name=\"人民教育出版社\")[0].tag"
   ]
  },
  {
   "cell_type": "code",
   "execution_count": 33,
   "id": "13237bba-ac0f-475b-ae06-8ef65009c2bb",
   "metadata": {},
   "outputs": [
    {
     "data": {
      "text/plain": [
       "1"
      ]
     },
     "execution_count": 33,
     "metadata": {},
     "output_type": "execute_result"
    }
   ],
   "source": [
    "# 列表后，删除多个元素\n",
    "BookAllField.objects(name=\"大学\", publishing_house__name=\"人民教育出版社\").update_one(pull_all__tag=[\"儒学\",\"四书\"])"
   ]
  },
  {
   "cell_type": "code",
   "execution_count": 34,
   "id": "7886e604-b649-485f-9ec4-91962bc958fc",
   "metadata": {},
   "outputs": [
    {
     "data": {
      "text/plain": [
       "['历史', '经典', '必读']"
      ]
     },
     "execution_count": 34,
     "metadata": {},
     "output_type": "execute_result"
    }
   ],
   "source": [
    "BookAllField.objects(name=\"大学\", publishing_house__name=\"人民教育出版社\")[0].tag"
   ]
  },
  {
   "cell_type": "markdown",
   "id": "c9034436-e991-44d5-931c-dfedde9abba1",
   "metadata": {},
   "source": [
    "### modifier operator:set"
   ]
  },
  {
   "cell_type": "code",
   "execution_count": 35,
   "id": "b04fa4e0-3d8d-452b-9cea-dbfb886d9e86",
   "metadata": {},
   "outputs": [
    {
     "data": {
      "text/plain": [
       "'[{\"_id\": {\"$oid\": \"6408686b248d96a15f6ff2e4\"}, \"bookid\": \"wx0927615ssr\", \"name\": \"大学\", \"ifnewbook\": false, \"shelves_date\": {\"$date\": 1608422400000}, \"author\": {\"$oid\": \"6408686b248d96a15f6ff2e2\"}, \"author_email\": \"zengzi@qq.com\", \"price\": 10.8, \"book_type\": {\"$ref\": \"book_type\", \"$id\": {\"$oid\": \"63fcd4f21be34fe2c671fb44\"}}, \"publishing_house\": {\"name\": \"人民教育出版社\", \"phone\": \"120934876\"}, \"seller\": {\"$ref\": \"seller\", \"$id\": {\"$oid\": \"6408686b248d96a15f6ff2e3\"}}, \"tag\": [\"历史\", \"经典\", \"必读\"]}]'"
      ]
     },
     "execution_count": 35,
     "metadata": {},
     "output_type": "execute_result"
    }
   ],
   "source": [
    "BookAllField.objects(name=\"大学\", publishing_house__name=\"人民教育出版社\").to_json(ensure_ascii=False)"
   ]
  },
  {
   "cell_type": "code",
   "execution_count": 36,
   "id": "ec480dd1-6f57-4109-93d8-75d13c242494",
   "metadata": {},
   "outputs": [
    {
     "data": {
      "text/plain": [
       "1"
      ]
     },
     "execution_count": 36,
     "metadata": {},
     "output_type": "execute_result"
    }
   ],
   "source": [
    "# 使用set 设置值\n",
    "BookAllField.objects(name=\"大学\", publishing_house__name=\"人民教育出版社\").update_one(set__author_email=\"abc@126.com\")"
   ]
  },
  {
   "cell_type": "code",
   "execution_count": 37,
   "id": "21e3dc52-2edb-4bd9-a6ff-9aa0ce2bd7df",
   "metadata": {},
   "outputs": [
    {
     "data": {
      "text/plain": [
       "'[{\"_id\": {\"$oid\": \"6408686b248d96a15f6ff2e4\"}, \"bookid\": \"wx0927615ssr\", \"name\": \"大学\", \"ifnewbook\": false, \"shelves_date\": {\"$date\": 1608422400000}, \"author\": {\"$oid\": \"6408686b248d96a15f6ff2e2\"}, \"author_email\": \"abc@126.com\", \"price\": 10.8, \"book_type\": {\"$ref\": \"book_type\", \"$id\": {\"$oid\": \"63fcd4f21be34fe2c671fb44\"}}, \"publishing_house\": {\"name\": \"人民教育出版社\", \"phone\": \"120934876\"}, \"seller\": {\"$ref\": \"seller\", \"$id\": {\"$oid\": \"6408686b248d96a15f6ff2e3\"}}, \"tag\": [\"历史\", \"经典\", \"必读\"]}]'"
      ]
     },
     "execution_count": 37,
     "metadata": {},
     "output_type": "execute_result"
    }
   ],
   "source": [
    "BookAllField.objects(name=\"大学\", publishing_house__name=\"人民教育出版社\").to_json(ensure_ascii=False)"
   ]
  },
  {
   "cell_type": "markdown",
   "id": "73bdb1dc-f9d0-498e-9512-bd1394577ddb",
   "metadata": {},
   "source": [
    "### Default modifier operator  \n",
    "If no modifier operator is specified the default will be `$set`. So the following sentences are identical:\n",
    "\n",
    "```python\n",
    "BlogPost.objects(id=post.id).update(title='Example Post')\n",
    "BlogPost.objects(id=post.id).update(set__title='Example Post')\n",
    "```"
   ]
  },
  {
   "cell_type": "markdown",
   "id": "6472b833-fe54-401b-8cd6-7a0e092bd524",
   "metadata": {},
   "source": [
    "### push list position\n",
    "\n",
    "From MongoDB version 2.6, push operator supports `$position` value which allows to push values with index::\n",
    "\n",
    "```python\n",
    "post = BlogPost(title=\"Test\", tags=[\"mongo\"])\n",
    "post.save()\n",
    "post.update(push__tags__0=[\"database\", \"code\"])\n",
    "post.reload()\n",
    "post.tags\n",
    "['database', 'code', 'mongo']\n",
    "```"
   ]
  },
  {
   "cell_type": "code",
   "execution_count": null,
   "id": "3e480a47-6496-4401-a426-010828454ba5",
   "metadata": {},
   "outputs": [],
   "source": []
  }
 ],
 "metadata": {
  "kernelspec": {
   "display_name": "Python 3 (ipykernel)",
   "language": "python",
   "name": "python3"
  },
  "language_info": {
   "codemirror_mode": {
    "name": "ipython",
    "version": 3
   },
   "file_extension": ".py",
   "mimetype": "text/x-python",
   "name": "python",
   "nbconvert_exporter": "python",
   "pygments_lexer": "ipython3",
   "version": "3.10.6"
  }
 },
 "nbformat": 4,
 "nbformat_minor": 5
}
