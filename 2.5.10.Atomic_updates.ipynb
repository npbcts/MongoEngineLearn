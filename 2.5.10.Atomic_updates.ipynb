{
 "cells": [
  {
   "cell_type": "code",
   "execution_count": 1,
   "id": "a63a72bb-4448-42ef-8578-bb9bbebd50f5",
   "metadata": {},
   "outputs": [],
   "source": [
    "from book_model import BookAllField"
   ]
  },
  {
   "cell_type": "markdown",
   "id": "2ef05ffa-f248-48ad-8fab-1b03180d97a8",
   "metadata": {},
   "source": [
    "## 2.5.10. Atomic updates(原子更新)\n",
    "\n",
    "Documents may be updated atomically by using the `update_one()`, `update()` and `modify()` methods on a `QuerySet` or `modify()` and `save()` (with save_condition argument) on a Document. There are several different “modifiers” that you may use with these methods:\n",
    "\n",
    "`set` – set a particular value：设置特定值  \n",
    "`set_on_insert` – set only if this is new document `need to add upsert=True`_：只有在新文档时更新值  \n",
    "`unset` – delete a particular value (since MongoDB v1.3)：删除特定值  \n",
    "`max` – update only if value is bigger：较大时更新  \n",
    "`min` – update only if value is smaller：较小时更新  \n",
    "`inc` – increment a value by a given amount：将一个值增加给定数量  \n",
    "`dec` – decrement a value by a given amount：将一个值减少给定数量  \n",
    "`push` – append a value to a list：添加值到列表末尾  \n",
    "`push_all` – append several values to a list：添加多个值到列表末尾  \n",
    "`pop` – remove the first or last element of a list depending on the value：删除列表开头或末尾的一个值  \n",
    "`pull` – remove a value from a list：从列表中删除给定的值  \n",
    "`pull_all` – remove several values from a list：从列表中删除给定的多个值    \n",
    "`add_to_set` – add value to a list only if its not in the list already：仅在列表中没有这个值时添加  \n",
    "`rename` – rename the key name：修改键名"
   ]
  },
  {
   "cell_type": "markdown",
   "id": "84e20c79-197b-4710-9e77-7cc7c29dbc29",
   "metadata": {},
   "source": [
    "The syntax for atomic updates is similar to the querying syntax, but the modifier comes before the field, not after it:\n",
    "\n",
    "原子更新的操作符与查询符号很像，但更新操作符在字段之前(与查询相同，使用双下划线连接字段名称)\n",
    "\n",
    "```python\n",
    "post = BlogPost(title='Test', page_views=0, tags=['database'])\n",
    "post.save()\n",
    "BlogPost.objects(id=post.id).update_one(inc__page_views=1)\n",
    "post.reload()  # the document has been changed, so we need to reload it\n",
    "post.page_views\n",
    "1\n",
    "BlogPost.objects(id=post.id).update_one(set__title='Example Post')\n",
    "post.reload()\n",
    "post.title\n",
    "'Example Post'\n",
    "BlogPost.objects(id=post.id).update_one(push__tags='nosql')\n",
    "post.reload()\n",
    "post.tags\n",
    "['database', 'nosql']\n",
    "```"
   ]
  },
  {
   "cell_type": "code",
   "execution_count": 18,
   "id": "c8c6fc6a-f2e4-4a08-84c5-078e34cd69a9",
   "metadata": {},
   "outputs": [
    {
     "data": {
      "text/plain": [
       "10.8"
      ]
     },
     "execution_count": 18,
     "metadata": {},
     "output_type": "execute_result"
    }
   ],
   "source": [
    "BookAllField.objects(name=\"大学\", publishing_house__name=\"人民教育出版社\")[0].price"
   ]
  },
  {
   "cell_type": "code",
   "execution_count": 19,
   "id": "10b7c5ee-132f-4143-8ade-345cc0482c6c",
   "metadata": {},
   "outputs": [
    {
     "data": {
      "text/plain": [
       "1"
      ]
     },
     "execution_count": 19,
     "metadata": {},
     "output_type": "execute_result"
    }
   ],
   "source": [
    "# inc 操作符，在原有的价格上加 1\n",
    "BookAllField.objects(name=\"大学\", publishing_house__name=\"人民教育出版社\").update_one(inc__price=1)"
   ]
  },
  {
   "cell_type": "code",
   "execution_count": 20,
   "id": "1ee87746-13c7-473b-af42-8dd8b4cc992b",
   "metadata": {},
   "outputs": [
    {
     "data": {
      "text/plain": [
       "11.8"
      ]
     },
     "execution_count": 20,
     "metadata": {},
     "output_type": "execute_result"
    }
   ],
   "source": [
    "# 查询更新后的价格\n",
    "BookAllField.objects(name=\"大学\", publishing_house__name=\"人民教育出版社\")[0].price"
   ]
  },
  {
   "cell_type": "code",
   "execution_count": 21,
   "id": "c4ab029a-8930-44e7-b0ef-61d300eb267e",
   "metadata": {},
   "outputs": [
    {
     "data": {
      "text/plain": [
       "1"
      ]
     },
     "execution_count": 21,
     "metadata": {},
     "output_type": "execute_result"
    }
   ],
   "source": [
    "# inc 操作符，在原有的价格上减 1\n",
    "BookAllField.objects(name=\"大学\", publishing_house__name=\"人民教育出版社\").update_one(dec__price=1)"
   ]
  },
  {
   "cell_type": "code",
   "execution_count": 22,
   "id": "49208536-2fec-4fed-aa34-dc5bbd924219",
   "metadata": {},
   "outputs": [
    {
     "data": {
      "text/plain": [
       "10.8"
      ]
     },
     "execution_count": 22,
     "metadata": {},
     "output_type": "execute_result"
    }
   ],
   "source": [
    "# 查询更新后的价格\n",
    "BookAllField.objects(name=\"大学\", publishing_house__name=\"人民教育出版社\")[0].price"
   ]
  }
 ],
 "metadata": {
  "kernelspec": {
   "display_name": "Python 3 (ipykernel)",
   "language": "python",
   "name": "python3"
  },
  "language_info": {
   "codemirror_mode": {
    "name": "ipython",
    "version": 3
   },
   "file_extension": ".py",
   "mimetype": "text/x-python",
   "name": "python",
   "nbconvert_exporter": "python",
   "pygments_lexer": "ipython3",
   "version": "3.10.6"
  }
 },
 "nbformat": 4,
 "nbformat_minor": 5
}
