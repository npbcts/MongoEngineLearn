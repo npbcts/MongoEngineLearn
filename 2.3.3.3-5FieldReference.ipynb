{
 "cells": [
  {
   "cell_type": "markdown",
   "id": "d50810f0-0fbe-4217-bce8-34cde4e31224",
   "metadata": {},
   "source": [
    "## 文档的创建和实例"
   ]
  },
  {
   "cell_type": "code",
   "execution_count": 2,
   "id": "6a34be15-fcaa-44be-9fe0-9147752bb296",
   "metadata": {},
   "outputs": [],
   "source": [
    "from mongoengine import connect, disconnect\n",
    "from mongoengine import Document\n",
    "from mongoengine import StringField, IntField\n",
    "from mongo_config import TEST_DB1, TEST_DB2, TEST_DB3, HOST, PORT, USERNAME, PASSWORD"
   ]
  },
  {
   "cell_type": "code",
   "execution_count": 4,
   "id": "2b05d6fa-22e8-420f-b9e9-2a0f9f602ef1",
   "metadata": {},
   "outputs": [],
   "source": [
    "from mongoengine import BooleanField, DateTimeField, DictField, EmailField, FloatField, ListField, ReferenceField"
   ]
  },
  {
   "cell_type": "code",
   "execution_count": 3,
   "id": "79663e3f-877c-445b-95e9-123b77493037",
   "metadata": {},
   "outputs": [
    {
     "data": {
      "text/plain": [
       "MongoClient(host=['192.168.2.172:27017'], document_class=dict, tz_aware=False, connect=True, read_preference=Primary(), uuidrepresentation=3)"
      ]
     },
     "execution_count": 3,
     "metadata": {},
     "output_type": "execute_result"
    }
   ],
   "source": [
    "# 连接到已创建的数据库\n",
    "connect(TEST_DB1, host=HOST, port=PORT, username=USERNAME, password=PASSWORD, authentication_source=TEST_DB1, alias=TEST_DB1)\n",
    "connect(TEST_DB2, host=HOST, port=PORT, username=USERNAME, password=PASSWORD, authentication_source=TEST_DB2, alias=TEST_DB2)\n",
    "connect(TEST_DB3, host=HOST, port=PORT, username=USERNAME, password=PASSWORD, authentication_source=TEST_DB3, alias=TEST_DB3)"
   ]
  },
  {
   "cell_type": "code",
   "execution_count": 3,
   "id": "3fb220d1-30e9-4820-9177-c4e0cea3052e",
   "metadata": {},
   "outputs": [],
   "source": [
    "# 继承自Document的文档\n",
    "class Book1(Document):\n",
    "    bookid = StringField()\n",
    "    name = StringField()\n",
    "    count = IntField()\n",
    "    meta = {\"db_alias\": TEST_DB1}\n",
    "Book1(bookid=\"wx000006\", name=\"水浒传\", count=29).save()"
   ]
  },
  {
   "cell_type": "code",
   "execution_count": 6,
   "id": "93bd2947-9376-45cd-9fab-5141355ec879",
   "metadata": {},
   "outputs": [
    {
     "data": {
      "text/plain": [
       "<BookDynamic: BookDynamic object>"
      ]
     },
     "execution_count": 6,
     "metadata": {},
     "output_type": "execute_result"
    }
   ],
   "source": [
    "# 动态文档, 可以在原有的数据模式上动态添加字段\n",
    "from mongoengine import DynamicDocument\n",
    "class BookDynamic(DynamicDocument):\n",
    "    bookid = StringField()\n",
    "    meta = {\"db_alias\": TEST_DB1}\n",
    "bookd = BookDynamic(bookid=\"wx09872\")\n",
    "bookd.tag = [\"小说\", \"经典著作\"]\n",
    "bookd.save()"
   ]
  },
  {
   "cell_type": "code",
   "execution_count": 61,
   "id": "2a20474a-c51b-473f-8cb6-24f1f535f67d",
   "metadata": {},
   "outputs": [],
   "source": [
    "class BookType(Document):\n",
    "    type_name = StringField()\n",
    "    meta = {\"db_alias\": TEST_DB1}"
   ]
  },
  {
   "cell_type": "code",
   "execution_count": 17,
   "id": "ad5e75ef-ae1b-46d5-8d8d-b60d4a4be18d",
   "metadata": {},
   "outputs": [
    {
     "data": {
      "text/plain": [
       "<BookType: BookType object>"
      ]
     },
     "execution_count": 17,
     "metadata": {},
     "output_type": "execute_result"
    }
   ],
   "source": [
    "BookType(type_name=\"经济类\").save()\n",
    "BookType(type_name=\"文学类\").save()\n",
    "BookType(type_name=\"计算机\").save()"
   ]
  },
  {
   "cell_type": "code",
   "execution_count": 59,
   "id": "1d14d565-2e7e-4211-9b64-109dbf424fab",
   "metadata": {},
   "outputs": [],
   "source": [
    "class BookAuthor(Document):\n",
    "    author_name = StringField()\n",
    "    meta = {\"db_alias\": TEST_DB1}"
   ]
  },
  {
   "cell_type": "code",
   "execution_count": 62,
   "id": "741123d4-beb9-422a-b824-7436b35cb52a",
   "metadata": {},
   "outputs": [],
   "source": [
    "class BookAllField(Document):\n",
    "    bookid = StringField()\n",
    "    name = StringField()\n",
    "    ifnewbook = BooleanField()  # 是否为新上架图书\n",
    "    shelves_date = DateTimeField()\n",
    "    author = ReferenceField(BookAuthor)  # 使引用字段执行其他集合\n",
    "    author_email = EmailField()\n",
    "    price = FloatField()\n",
    "    book_type = ReferenceField(BookType)\n",
    "    tag = ListField()\n",
    "    meta = {\"db_alias\": TEST_DB1}"
   ]
  },
  {
   "cell_type": "code",
   "execution_count": 29,
   "id": "24dc634a-40ad-4226-9721-fe1c1824d6e3",
   "metadata": {},
   "outputs": [],
   "source": [
    "book_all = BookAllField(bookid=\"wx092761\")"
   ]
  },
  {
   "cell_type": "code",
   "execution_count": 30,
   "id": "6c15656b-af9c-4a3f-bf5d-f9b6692f05dc",
   "metadata": {},
   "outputs": [
    {
     "data": {
      "text/plain": [
       "<BookAllField: BookAllField object>"
      ]
     },
     "execution_count": 30,
     "metadata": {},
     "output_type": "execute_result"
    }
   ],
   "source": [
    "# 包含使用引用字段的情形\n",
    "book_all.name = \"史记\"\n",
    "book_all.ifnewbook = False\n",
    "book_all.author = BookAuthor(author_name=\"司马迁\").save()  # 此时的引用可以成功\n",
    "book_all.price = 19.8\n",
    "# book_all.book_type = BookType(type_name=\"文学类\")  # 此时不能引用，需要有保存动作，或者查询出已经保存的项目\n",
    "# book_all.book_type = BookType.objects(type_name=\"文学类\") # 没保存成功\n",
    "book_all.tag = [\"历史\", \"经典\"]\n",
    "book_all.save()\n",
    "#  author_email， ？？"
   ]
  },
  {
   "cell_type": "code",
   "execution_count": 43,
   "id": "c8f0d2e5-3d7f-49c3-9933-831d7bc70213",
   "metadata": {},
   "outputs": [],
   "source": [
    "from enum import Enum  # Python 3.4 中新增加了 Enum 枚举类。也就是说，对于这些实例化对象个数固定的类，可以用枚举类来定义\n",
    "class BookTypeEnum(Enum):\n",
    "    IT = \"计算机\"\n",
    "    ECONOMIC = \"经济\"\n",
    "    LITERATURE = \"文学\"\n",
    "    HISTORY = \"历史\"\n",
    "    MATH = \"数学\""
   ]
  },
  {
   "cell_type": "code",
   "execution_count": 46,
   "id": "0f1ceff0-c81d-44a6-96c1-078286adacfc",
   "metadata": {},
   "outputs": [],
   "source": [
    "from mongoengine import EnumField\n",
    "class BookEnum(Document):\n",
    "    bookid = StringField()\n",
    "    name = StringField()\n",
    "    book_type = EnumField(BookTypeEnum, default=BookTypeEnum.IT)\n",
    "    meta = {\"db_alias\": TEST_DB1}"
   ]
  },
  {
   "cell_type": "code",
   "execution_count": 36,
   "id": "bce549b2-a26a-4638-bb1f-bed020ce4500",
   "metadata": {},
   "outputs": [
    {
     "data": {
      "text/plain": [
       "<BookEnum: BookEnum object>"
      ]
     },
     "execution_count": 36,
     "metadata": {},
     "output_type": "execute_result"
    }
   ],
   "source": [
    "# 如果赋值字段不在 Enum类 范围内，将报错\n",
    "book_enum = BookEnum(bookid=\"wx9387221\")\n",
    "book_enum.name = \"论语\"\n",
    "book_enum.book_type = BookTypeEnum.LITERATURE  # 使用Enum类赋值\n",
    "book_enum.save()"
   ]
  },
  {
   "cell_type": "code",
   "execution_count": 42,
   "id": "9f80c392-0d61-4481-91f4-789db0df76af",
   "metadata": {},
   "outputs": [
    {
     "data": {
      "text/plain": [
       "<BookEnum: BookEnum object>"
      ]
     },
     "execution_count": 42,
     "metadata": {},
     "output_type": "execute_result"
    }
   ],
   "source": [
    "# 也可以直接使用Enum的值赋值给字段\n",
    "BookEnum(bookid=\"wx9387e492\", name=\"春秋\", book_type=\"历史\").save()"
   ]
  },
  {
   "cell_type": "code",
   "execution_count": 45,
   "id": "f07d2cdf-9345-409d-9014-dcbf0b24a86c",
   "metadata": {},
   "outputs": [],
   "source": [
    "# 使用字段通用参数choice的情形\n",
    "class BookEnumChoice(Document):\n",
    "    bookid = StringField()\n",
    "    name = StringField()\n",
    "    book_type = EnumField(BookTypeEnum, default=BookTypeEnum.IT, choices=[BookTypeEnum.IT, BookTypeEnum.MATH])\n",
    "    meta = {\"db_alias\": TEST_DB1}"
   ]
  },
  {
   "cell_type": "code",
   "execution_count": null,
   "id": "105b0f88-e29b-45af-8a79-0ffd7c141e19",
   "metadata": {},
   "outputs": [],
   "source": [
    "# choices限定后，如果值不在之内，则报错 ValidationError\n",
    "BookEnumChoice(bookid=\"wx9dd3492\", name=\"春秋\", book_type=\"历史\").save()"
   ]
  },
  {
   "cell_type": "code",
   "execution_count": 48,
   "id": "cfde169c-e83b-4b31-ba68-95d9fae1af91",
   "metadata": {},
   "outputs": [
    {
     "data": {
      "text/plain": [
       "<BookEnumChoice: BookEnumChoice object>"
      ]
     },
     "execution_count": 48,
     "metadata": {},
     "output_type": "execute_result"
    }
   ],
   "source": [
    "BookEnumChoice(bookid=\"wx9dd3492\", name=\"C语言基础\").save()"
   ]
  },
  {
   "cell_type": "code",
   "execution_count": 49,
   "id": "e357fcee-8331-4337-b1ad-12220516f95d",
   "metadata": {},
   "outputs": [
    {
     "data": {
      "text/plain": [
       "<BookEnumChoice: BookEnumChoice object>"
      ]
     },
     "execution_count": 49,
     "metadata": {},
     "output_type": "execute_result"
    }
   ],
   "source": [
    "BookEnumChoice(bookid=\"wx9dd3492\", name=\"Python入门经典\", book_type=BookTypeEnum.MATH).save()"
   ]
  },
  {
   "cell_type": "code",
   "execution_count": 53,
   "id": "91e14af8-3cce-4d5d-a035-286ba4ff2aeb",
   "metadata": {},
   "outputs": [],
   "source": [
    "from datetime import datetime\n",
    "class BookDate(Document):\n",
    "    bookid = StringField()\n",
    "    name = StringField()\n",
    "    chapter = StringField(required=True, default=\"2.3-2.4\")\n",
    "    shelves_date = DateTimeField(default=datetime.now)  # 注意，此时传入参数并不立即执行，即不添加()\n",
    "    meta = {\"db_alias\": TEST_DB1}"
   ]
  },
  {
   "cell_type": "code",
   "execution_count": 52,
   "id": "dfc448f6-dffe-4d9d-aa94-74b9296215ee",
   "metadata": {},
   "outputs": [
    {
     "data": {
      "text/plain": [
       "<BookDate: BookDate object>"
      ]
     },
     "execution_count": 52,
     "metadata": {},
     "output_type": "execute_result"
    }
   ],
   "source": [
    "BookDate(bookid=\"wx93kkid3\", name=\"格林童话\").save()  # 使用默认的日期"
   ]
  },
  {
   "cell_type": "code",
   "execution_count": 54,
   "id": "6df140ac-d761-46a4-8634-e87037b2f7de",
   "metadata": {},
   "outputs": [
    {
     "data": {
      "text/plain": [
       "<BookDate: BookDate object>"
      ]
     },
     "execution_count": 54,
     "metadata": {},
     "output_type": "execute_result"
    }
   ],
   "source": [
    "BookDate(bookid=\"wx9349id3\", name=\"小王子\").save()  # 使用默认的日期"
   ]
  },
  {
   "cell_type": "code",
   "execution_count": 56,
   "id": "c98f205d-f5f1-45a5-9f16-ae5f0d8ccea1",
   "metadata": {},
   "outputs": [
    {
     "data": {
      "text/plain": [
       "<BookDate: BookDate object>"
      ]
     },
     "execution_count": 56,
     "metadata": {},
     "output_type": "execute_result"
    }
   ],
   "source": [
    "# 字符串类型的日期，转化为时间类型的日期并存储至 DateTimeField 字段中\n",
    "book_d = BookDate(bookid=\"wx9326700\", name=\"道德经\")\n",
    "book_d.shelves_date = datetime.strptime(\"2020/12/29 8:8:00\",'%Y/%m/%d %H:%M:%S')\n",
    "book_d.save()\n",
    "# 使用 datetime 进行日期数据类型的操作"
   ]
  },
  {
   "cell_type": "code",
   "execution_count": 5,
   "id": "7609cffc-ec99-40ae-b1e1-66a6b0ba0355",
   "metadata": {},
   "outputs": [],
   "source": [
    "class BookList(Document):\n",
    "    bookid = StringField()\n",
    "    name = StringField()\n",
    "    chapter = StringField(required=True, default=\"2.3-2.4\")\n",
    "    tags = ListField(StringField(max_length=50))\n",
    "    meta = {\"db_alias\": TEST_DB1}"
   ]
  },
  {
   "cell_type": "code",
   "execution_count": 6,
   "id": "0d8d47b3-ac70-4016-a879-90324c124405",
   "metadata": {},
   "outputs": [
    {
     "data": {
      "text/plain": [
       "<BookList: BookList object>"
      ]
     },
     "execution_count": 6,
     "metadata": {},
     "output_type": "execute_result"
    }
   ],
   "source": [
    "book_l = BookList(bookid=\"wx932wq700\", name=\"大学\")\n",
    "book_l.tags = [\"古典名著\", \"儒家经典\"]\n",
    "book_l.save()"
   ]
  },
  {
   "cell_type": "code",
   "execution_count": 8,
   "id": "89de34ee-4517-4776-a550-e24fe44efccb",
   "metadata": {},
   "outputs": [],
   "source": [
    "from mongoengine import EmbeddedDocument, EmbeddedDocumentField\n",
    "class Author(EmbeddedDocument):\n",
    "    name = StringField()\n",
    "    age = StringField()"
   ]
  },
  {
   "cell_type": "code",
   "execution_count": 9,
   "id": "f8de0483-6407-40b7-b434-466d7cd9c42b",
   "metadata": {},
   "outputs": [],
   "source": [
    "class BookWithAuthor(Document):\n",
    "    bookid = StringField()\n",
    "    name = StringField()\n",
    "    chapter = StringField(required=True, default=\"2.3-2.4\")\n",
    "    author = EmbeddedDocumentField(Author)\n",
    "    meta = {\"db_alias\": TEST_DB1}"
   ]
  },
  {
   "cell_type": "code",
   "execution_count": 10,
   "id": "9dfd5b4c-6ae6-4640-bd11-092824b1feeb",
   "metadata": {},
   "outputs": [
    {
     "data": {
      "text/plain": [
       "<BookWithAuthor: BookWithAuthor object>"
      ]
     },
     "execution_count": 10,
     "metadata": {},
     "output_type": "execute_result"
    }
   ],
   "source": [
    "author = Author(name=\"司马迁\", age=\"西汉\")\n",
    "book_a = BookWithAuthor(bookid=\"wx93ll700\", name=\"史记\", author=author)\n",
    "book_a.save()"
   ]
  },
  {
   "cell_type": "markdown",
   "id": "40916496-9680-47ec-be9c-90245abcbb95",
   "metadata": {},
   "source": [
    "mongodb保存结果:\n",
    "```python\n",
    "{\n",
    "    \"_id\" : ObjectId(\"63fe09b96afa912dc75ba51e\"),\n",
    "    \"bookid\" : \"wx93ll700\",\n",
    "    \"name\" : \"史记\",\n",
    "    \"chapter\" : \"2.3-2.4\",\n",
    "    \"author\" : {\n",
    "        \"name\" : \"司马迁\",\n",
    "        \"age\" : \"西汉\"\n",
    "    }\n",
    "}\n",
    "```"
   ]
  },
  {
   "cell_type": "code",
   "execution_count": 11,
   "id": "3347578e-2f52-4bfd-9200-001f8eac0753",
   "metadata": {},
   "outputs": [],
   "source": [
    "# 使用DictFiled 保存\n",
    "class BookDict(Document):\n",
    "    bookid = StringField()\n",
    "    name = StringField()\n",
    "    chapter = StringField(required=True, default=\"2.3-2.4\")\n",
    "    author = DictField()\n",
    "    meta = {\"db_alias\": TEST_DB1}"
   ]
  },
  {
   "cell_type": "code",
   "execution_count": 12,
   "id": "2ad49f00-7df9-43e4-815f-a6b38e2948cb",
   "metadata": {},
   "outputs": [
    {
     "data": {
      "text/plain": [
       "<BookDict: BookDict object>"
      ]
     },
     "execution_count": 12,
     "metadata": {},
     "output_type": "execute_result"
    }
   ],
   "source": [
    "book_d = BookDict(bookid=\"wx93l56700\", name=\"史记\", author={'name':\"司马迁\", 'age':\"西汉\"})\n",
    "book_d.save()"
   ]
  },
  {
   "cell_type": "markdown",
   "id": "76ab859a-f7da-4b02-9b06-f695a4174eb7",
   "metadata": {},
   "source": [
    "mongodb保存结果:\n",
    "```python\n",
    "{\n",
    "    \"_id\" : ObjectId(\"63fe0ab16afa912dc75ba51f\"),\n",
    "    \"bookid\" : \"wx93l56700\",\n",
    "    \"name\" : \"史记\",\n",
    "    \"chapter\" : \"2.3-2.4\",\n",
    "    \"author\" : {\n",
    "        \"name\" : \"司马迁\",\n",
    "        \"age\" : \"西汉\"\n",
    "    }\n",
    "}\n",
    "```"
   ]
  },
  {
   "cell_type": "markdown",
   "id": "9288a882-dad4-4048-9ff3-aadc637791f1",
   "metadata": {},
   "source": [
    "#### 小结：嵌入式文档还是字典字段？\n",
    "从结果看，字典字段和嵌入式文档保存结果一致；但中间的检查过程是使用嵌入式文档的优势。\n",
    "\n",
    "通常，可以使用嵌入式文档代替字典——通常建议使用嵌入式文档，因为字典不支持验证或自定义字段类型。然而，有时您并不知道要存储的内容的结构；在这种情况下使用DictFile是合适的.\n",
    "字典可以存储复杂的数据、其他字典、列表、对其他对象的引用，因此是最灵活的可用字段类型。\n"
   ]
  },
  {
   "cell_type": "markdown",
   "id": "702070a8-0a8e-486b-a874-b8e078ce91cc",
   "metadata": {},
   "source": [
    "### 引用字段 Reference fields"
   ]
  },
  {
   "cell_type": "code",
   "execution_count": 28,
   "id": "ba048af5-3d2a-4d40-891c-d38f5317306b",
   "metadata": {},
   "outputs": [],
   "source": [
    "class BookAuthor(Document):\n",
    "    name = StringField()\n",
    "    age = StringField()\n",
    "    meta = {\"db_alias\": TEST_DB1}"
   ]
  },
  {
   "cell_type": "code",
   "execution_count": 17,
   "id": "2e0cc59f-2792-498d-a929-adbefe386382",
   "metadata": {},
   "outputs": [],
   "source": [
    "class BookReferenceAuthor(Document):\n",
    "    bookid = StringField()\n",
    "    name = StringField()\n",
    "    chapter = StringField(required=True, default=\"2.3-2.4\")\n",
    "    author = ReferenceField(BookAuthor)  # 其他文档作为参数\n",
    "    meta = {\"db_alias\": TEST_DB1}"
   ]
  },
  {
   "cell_type": "code",
   "execution_count": 18,
   "id": "b26b29ce-4482-400a-ae66-a76de7f731cb",
   "metadata": {},
   "outputs": [
    {
     "data": {
      "text/plain": [
       "<BookReferenceAuthor: BookReferenceAuthor object>"
      ]
     },
     "execution_count": 18,
     "metadata": {},
     "output_type": "execute_result"
    }
   ],
   "source": [
    "author = BookAuthor(name=\"司马迁\", age=\"西汉\").save()\n",
    "book_a = BookReferenceAuthor(bookid=\"wx93ll7ppa\", name=\"史记\", author=author)\n",
    "book_a.save()"
   ]
  },
  {
   "cell_type": "markdown",
   "id": "0de05203-6e93-4781-b2d8-46e0736da71f",
   "metadata": {},
   "source": [
    "mongodb储存结果:\n",
    "```json\n",
    "{\n",
    "    \"_id\" : ObjectId(\"63fe11b26afa912dc75ba521\"),\n",
    "    \"bookid\" : \"wx93ll7ppa\",\n",
    "    \"name\" : \"史记\",\n",
    "    \"chapter\" : \"2.3-2.4\",\n",
    "    \"author\" : ObjectId(\"63fe11b26afa912dc75ba520\")\n",
    "}\n",
    "```\n",
    "即引用的文档是以 ObjectId 形式储存的。"
   ]
  },
  {
   "cell_type": "code",
   "execution_count": 23,
   "id": "8e2d4339-cf5d-4e05-ace9-36bd7d1ac74e",
   "metadata": {},
   "outputs": [
    {
     "data": {
      "text/plain": [
       "<BookReferenceAuthor: BookReferenceAuthor object>"
      ]
     },
     "execution_count": 23,
     "metadata": {},
     "output_type": "execute_result"
    }
   ],
   "source": [
    "# 被引用文档已经保存至数据库时的引用操作\n",
    "author_b = BookAuthor.objects(name=\"蒲松龄\").first()\n",
    "book_b = BookReferenceAuthor(bookid=\"wx932wepa\", name=\"聊斋志异\", author=author_b)\n",
    "book_b.save()"
   ]
  },
  {
   "cell_type": "markdown",
   "id": "2c17c267-c0a5-4565-ab19-26d8f50dc0df",
   "metadata": {},
   "source": [
    "### ListFields中的多对多引用(Many to Many with ListFields)"
   ]
  },
  {
   "cell_type": "code",
   "execution_count": 31,
   "id": "85048381-d50d-40a2-933f-27cc53a8ddb3",
   "metadata": {},
   "outputs": [],
   "source": [
    "class BookReferenceMany(Document):\n",
    "    bookid = StringField()\n",
    "    name = StringField()\n",
    "    chapter = StringField(required=True, default=\"2.3-2.4\")\n",
    "    authors = ListField(ReferenceField(BookAuthor))  # 其他文档作为参数\n",
    "    meta = {\"db_alias\": TEST_DB1}"
   ]
  },
  {
   "cell_type": "code",
   "execution_count": 33,
   "id": "11f54a3b-9678-4fd3-990b-756998027f9e",
   "metadata": {},
   "outputs": [
    {
     "data": {
      "text/plain": [
       "<BookReferenceMany: BookReferenceMany object>"
      ]
     },
     "execution_count": 33,
     "metadata": {},
     "output_type": "execute_result"
    }
   ],
   "source": [
    "author_c = BookAuthor.objects(name=\"司马迁\").first()\n",
    "author_d = BookAuthor.objects(name=\"蒲松龄\").first()\n",
    "book_b = BookReferenceMany(bookid=\"wx9322pmcpa\", name=\"聊斋志异史记\", authors=[author_c, author_d])\n",
    "book_b.save()"
   ]
  },
  {
   "cell_type": "code",
   "execution_count": null,
   "id": "1d10df69-4176-43ce-be1e-c61720d2ed24",
   "metadata": {},
   "outputs": [],
   "source": [
    "# 其他应用模式?只引用文档的iD?"
   ]
  },
  {
   "cell_type": "code",
   "execution_count": null,
   "id": "f5087a60-7663-409f-88c0-ca5a3c5702c3",
   "metadata": {},
   "outputs": [],
   "source": []
  }
 ],
 "metadata": {
  "kernelspec": {
   "display_name": "Python 3 (ipykernel)",
   "language": "python",
   "name": "python3"
  },
  "language_info": {
   "codemirror_mode": {
    "name": "ipython",
    "version": 3
   },
   "file_extension": ".py",
   "mimetype": "text/x-python",
   "name": "python",
   "nbconvert_exporter": "python",
   "pygments_lexer": "ipython3",
   "version": "3.10.6"
  }
 },
 "nbformat": 4,
 "nbformat_minor": 5
}
