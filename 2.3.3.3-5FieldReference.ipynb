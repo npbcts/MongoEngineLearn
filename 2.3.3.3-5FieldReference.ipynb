{
 "cells": [
  {
   "cell_type": "markdown",
   "id": "d50810f0-0fbe-4217-bce8-34cde4e31224",
   "metadata": {},
   "source": [
    "## 文档的创建和实例"
   ]
  },
  {
   "cell_type": "code",
   "execution_count": 3,
   "id": "6a34be15-fcaa-44be-9fe0-9147752bb296",
   "metadata": {},
   "outputs": [],
   "source": [
    "from mongoengine import connect, disconnect\n",
    "from mongoengine import Document\n",
    "from mongoengine import StringField, IntField\n",
    "from mongo_config import TEST_DB1, TEST_DB2, TEST_DB3, HOST, PORT, USERNAME, PASSWORD"
   ]
  },
  {
   "cell_type": "code",
   "execution_count": 4,
   "id": "2b05d6fa-22e8-420f-b9e9-2a0f9f602ef1",
   "metadata": {},
   "outputs": [],
   "source": [
    "from mongoengine import BooleanField, DateTimeField, DictField, EmailField, FloatField, ListField, ReferenceField"
   ]
  },
  {
   "cell_type": "code",
   "execution_count": 5,
   "id": "79663e3f-877c-445b-95e9-123b77493037",
   "metadata": {},
   "outputs": [
    {
     "data": {
      "text/plain": [
       "MongoClient(host=['192.168.2.172:27017'], document_class=dict, tz_aware=False, connect=True, read_preference=Primary(), uuidrepresentation=3)"
      ]
     },
     "execution_count": 5,
     "metadata": {},
     "output_type": "execute_result"
    }
   ],
   "source": [
    "# 连接到已创建的数据库\n",
    "connect(TEST_DB1, host=HOST, port=PORT, username=USERNAME, password=PASSWORD, authentication_source=TEST_DB1, alias=TEST_DB1)\n",
    "connect(TEST_DB2, host=HOST, port=PORT, username=USERNAME, password=PASSWORD, authentication_source=TEST_DB2, alias=TEST_DB2)\n",
    "connect(TEST_DB3, host=HOST, port=PORT, username=USERNAME, password=PASSWORD, authentication_source=TEST_DB3, alias=TEST_DB3)"
   ]
  },
  {
   "cell_type": "markdown",
   "id": "aac2bb39-d838-4124-8143-4c036e472fd4",
   "metadata": {},
   "source": [
    "### 引用字段保存的特殊情况\n",
    "\n",
    "注意下述引用字段，保存时的特性：即引用字段修改值后，是否能否同步更新原集合。关注 2.3.1-2文档中的`save()`函数的 `cascade` 参数。"
   ]
  },
  {
   "cell_type": "markdown",
   "id": "702070a8-0a8e-486b-a874-b8e078ce91cc",
   "metadata": {},
   "source": [
    "### 引用字段 Reference fields"
   ]
  },
  {
   "cell_type": "code",
   "execution_count": 6,
   "id": "ba048af5-3d2a-4d40-891c-d38f5317306b",
   "metadata": {},
   "outputs": [],
   "source": [
    "class BookAuthor(Document):\n",
    "    name = StringField()\n",
    "    age = StringField()\n",
    "    meta = {\"db_alias\": TEST_DB1}"
   ]
  },
  {
   "cell_type": "code",
   "execution_count": 17,
   "id": "2e0cc59f-2792-498d-a929-adbefe386382",
   "metadata": {},
   "outputs": [],
   "source": [
    "class BookReferenceAuthor(Document):\n",
    "    bookid = StringField()\n",
    "    name = StringField()\n",
    "    chapter = StringField(required=True, default=\"2.3.3.3-5\")\n",
    "    author = ReferenceField(BookAuthor)  # 其他文档作为参数\n",
    "    meta = {\"db_alias\": TEST_DB1}"
   ]
  },
  {
   "cell_type": "code",
   "execution_count": 18,
   "id": "b26b29ce-4482-400a-ae66-a76de7f731cb",
   "metadata": {},
   "outputs": [
    {
     "data": {
      "text/plain": [
       "<BookReferenceAuthor: BookReferenceAuthor object>"
      ]
     },
     "execution_count": 18,
     "metadata": {},
     "output_type": "execute_result"
    }
   ],
   "source": [
    "author = BookAuthor(name=\"司马迁\", age=\"西汉\").save()\n",
    "book_a = BookReferenceAuthor(bookid=\"wx93ll7ppa\", name=\"史记\", author=author)\n",
    "book_a.save()"
   ]
  },
  {
   "cell_type": "markdown",
   "id": "0de05203-6e93-4781-b2d8-46e0736da71f",
   "metadata": {},
   "source": [
    "mongodb储存结果:\n",
    "```json\n",
    "{\n",
    "    \"_id\" : ObjectId(\"63fe11b26afa912dc75ba521\"),\n",
    "    \"bookid\" : \"wx93ll7ppa\",\n",
    "    \"name\" : \"史记\",\n",
    "    \"chapter\" : \"2.3-2.4\",\n",
    "    \"author\" : ObjectId(\"63fe11b26afa912dc75ba520\")\n",
    "}\n",
    "```\n",
    "即引用的文档是以 ObjectId 形式储存的。"
   ]
  },
  {
   "cell_type": "code",
   "execution_count": 23,
   "id": "8e2d4339-cf5d-4e05-ace9-36bd7d1ac74e",
   "metadata": {},
   "outputs": [
    {
     "data": {
      "text/plain": [
       "<BookReferenceAuthor: BookReferenceAuthor object>"
      ]
     },
     "execution_count": 23,
     "metadata": {},
     "output_type": "execute_result"
    }
   ],
   "source": [
    "# 被引用文档已经保存至数据库时的引用操作\n",
    "author_b = BookAuthor.objects(name=\"蒲松龄\").first()\n",
    "book_b = BookReferenceAuthor(bookid=\"wx932wepa\", name=\"聊斋志异\", author=author_b)\n",
    "book_b.save()"
   ]
  },
  {
   "cell_type": "markdown",
   "id": "2c17c267-c0a5-4565-ab19-26d8f50dc0df",
   "metadata": {},
   "source": [
    "### ListFields中的多对多引用(Many to Many with ListFields)"
   ]
  },
  {
   "cell_type": "code",
   "execution_count": 31,
   "id": "85048381-d50d-40a2-933f-27cc53a8ddb3",
   "metadata": {},
   "outputs": [],
   "source": [
    "class BookReferenceMany(Document):\n",
    "    bookid = StringField()\n",
    "    name = StringField()\n",
    "    chapter = StringField(required=True, default=\"2.3.3.3-5\")\n",
    "    authors = ListField(ReferenceField(BookAuthor))  # 其他文档作为参数\n",
    "    meta = {\"db_alias\": TEST_DB1}"
   ]
  },
  {
   "cell_type": "code",
   "execution_count": 33,
   "id": "11f54a3b-9678-4fd3-990b-756998027f9e",
   "metadata": {},
   "outputs": [
    {
     "data": {
      "text/plain": [
       "<BookReferenceMany: BookReferenceMany object>"
      ]
     },
     "execution_count": 33,
     "metadata": {},
     "output_type": "execute_result"
    }
   ],
   "source": [
    "author_c = BookAuthor.objects(name=\"司马迁\").first()\n",
    "author_d = BookAuthor.objects(name=\"蒲松龄\").first()\n",
    "book_b = BookReferenceMany(bookid=\"wx9322pmcpa\", name=\"聊斋志异史记\", authors=[author_c, author_d])\n",
    "book_b.save()"
   ]
  },
  {
   "cell_type": "markdown",
   "id": "6333f450-a831-4b28-92f0-ef09d88acbd7",
   "metadata": {},
   "source": [
    "### 其他应用模式?只引用文档的iD?如何关联查询?"
   ]
  },
  {
   "cell_type": "markdown",
   "id": "6fa7e1f7-c377-40e3-bc6c-c83697f1ce7f",
   "metadata": {},
   "source": [
    "### 引用文档删除 \n",
    "\n",
    "By default, MongoDB doesn’t check the integrity of your data, so deleting documents that other documents still hold references to will lead to consistency issues. Mongoengine’s ReferenceField adds some functionality to safeguard against these kinds of database integrity problems, providing each reference with a delete rule specification. A delete rule is specified by supplying the reverse_delete_rule attributes on the ReferenceField definition, like this:\n"
   ]
  },
  {
   "cell_type": "code",
   "execution_count": 9,
   "id": "dc783153-192d-4382-9a2e-cff05a63cf07",
   "metadata": {},
   "outputs": [],
   "source": [
    "from mongoengine import CASCADE\n",
    "class BookReferenceDelete(Document):\n",
    "    bookid = StringField()\n",
    "    name = StringField()\n",
    "    chapter = StringField(required=True, default=\"2.3.3.3-5\")\n",
    "    author = ReferenceField(BookAuthor, reverse_delete_rule=CASCADE)  # 其他文档作为参数\n",
    "    meta = {\"db_alias\": TEST_DB1}"
   ]
  },
  {
   "cell_type": "markdown",
   "id": "cebf81a1-bd08-4fd4-befb-fc99994114c4",
   "metadata": {},
   "source": [
    "The declaration in this example means that when an `BookAuthor` object is removed, the `BookReferenceDelete` that references that `author` is removed as well. If a whole batch of `authors` is removed, all BookReferenceDelete pages that are linked are removed as well."
   ]
  },
  {
   "cell_type": "code",
   "execution_count": 11,
   "id": "97b7e111-1dfe-4d89-aeea-8e4e740c97e3",
   "metadata": {},
   "outputs": [
    {
     "data": {
      "text/plain": [
       "<BookReferenceDelete: BookReferenceDelete object>"
      ]
     },
     "execution_count": 11,
     "metadata": {},
     "output_type": "execute_result"
    }
   ],
   "source": [
    "author_del = BookAuthor(name=\"吴敬梓\").save()\n",
    "book_del = BookReferenceDelete(bookid=\"wx93abpmcpa\", name=\"儒林外史\", author=author_del)\n",
    "book_del.save()"
   ]
  },
  {
   "cell_type": "markdown",
   "id": "45114995-e21b-4a4d-9e6b-28c609766b0a",
   "metadata": {},
   "source": [
    "BookReferenceDelete集合的保存结果:\n",
    "```json\n",
    "{\n",
    "    \"_id\" : ObjectId(\"63fea50affbc7d464ef9a543\"),\n",
    "    \"bookid\" : \"wx93abpmcpa\",\n",
    "    \"name\" : \"儒林外史\",\n",
    "    \"chapter\" : \"2.3.3.3-5\",\n",
    "    \"author\" : ObjectId(\"63fea50affbc7d464ef9a542\")\n",
    "}\n",
    "```\n",
    "BookAuthor集合:\n",
    "```json\n",
    "{\n",
    "    \"_id\" : ObjectId(\"63fea50affbc7d464ef9a542\"),\n",
    "    \"name\" : \"吴敬梓\"\n",
    "}\n",
    "```"
   ]
  },
  {
   "cell_type": "code",
   "execution_count": 14,
   "id": "48530314-d51c-4069-8f88-a1e39ebfba29",
   "metadata": {},
   "outputs": [
    {
     "data": {
      "text/plain": [
       "0"
      ]
     },
     "execution_count": 14,
     "metadata": {},
     "output_type": "execute_result"
    }
   ],
   "source": [
    "# 删除 被引用的文档  ObjectId(\"63fea50affbc7d464ef9a542\")\n",
    "BookAuthor.objects(name=\"吴敬梓\").delete()\n",
    "# 1\n",
    "# 删除成功"
   ]
  },
  {
   "cell_type": "code",
   "execution_count": 15,
   "id": "964253d3-756b-4da9-a621-b869e18a1829",
   "metadata": {},
   "outputs": [],
   "source": [
    "# 查询 儒林外史 文档\n",
    "BookReferenceDelete.objects(bookid=\"wx93abpmcpa\", name=\"儒林外史\").first()\n",
    "# 由于设置  reverse_delete_rule=CASCADE， 删除作者后，引用的文档 儒林外史  文档也被删除。\n",
    "# 此查询不返回值"
   ]
  },
  {
   "cell_type": "markdown",
   "id": "05817a2e-217b-48be-bd4a-cd3f496b30a8",
   "metadata": {},
   "source": [
    "#### 关于 引用字段删除的中文翻译和主要参数\n",
    "\n",
    "默认情况下，MongoDB不检查数据的完整性，因此删除其他文档仍然存在引用的文档将导致一致性问题。Mongoengine 的ReferenceField增加了一些功能来防范这些类型的数据库完整性问题，为每个引用提供删除规则规范。通过reverse_delete_rule在ReferenceField定义上提供属性 来指定删除规则，如下所示\n",
    "\n",
    "它的值可以采用以下任何常量：\n",
    "\n",
    "mongoengine.DO_NOTHING\n",
    "这是默认设置，不会执行任何操作。删除速度很快，但可能会导致数据库不一致或悬空引用。\n",
    "\n",
    "mongoengine.DENY\n",
    "如果仍存在对被删除对象的引用，则拒绝删除。\n",
    "\n",
    "mongoengine.NULLIFY\n",
    "删除任何仍然指向被删除对象的对象字段（使用MongoDB的“未设置”操作），从而有效地消除关系。\n",
    "即删除了被引用的字段，对引用它的字段无影响，举个例子，假如，文章的作者字段采用的是引用字段，那么作者一旦被删除，那么，由他写的文章仅仅是没有了作者，他的文章都还在。\n",
    "\n",
    "mongoengine.CASCADE\n",
    "引用字段被删除，则引用此字段的文档也会被删除，\n",
    "举个例子，假如，文章的作者字段采用的是引用字段，那么作者一旦被删除，那么，由他写的文章也都被删除。\n",
    "\n",
    "mongoengine.PULL\n",
    "从ListField（ReferenceField）的任何对象的字段中删除对该对象的引用（使用MongoDB的“拉”操作 ）。"
   ]
  },
  {
   "cell_type": "markdown",
   "id": "070e7f5a-c48c-42a6-af3a-41aa798bb8f5",
   "metadata": {},
   "source": [
    "### 其他引用字段"
   ]
  },
  {
   "cell_type": "markdown",
   "id": "23c1f17e-7481-448a-852d-a2016af52bef",
   "metadata": {},
   "source": [
    "```python\n",
    "class mongoengine.fields.LazyReferenceField( document_type , passthrough = False , dbref = False , reverse_delete_rule = 0 , ** kwargs )\n",
    "```\n",
    "对文档的真正懒惰引用。与它不同的是，`ReferenceField`它不会在访问时自动（懒惰地）取消引用。相反，access `LazyReferenceField` 将返回一个类实例，允许访问pk或通过使用方法`fecth()`手动取消引用。\n",
    "\n",
    "初始化参考字段。\n",
    "\n",
    "参数:   \n",
    "    `dbref` – 将引用存储为`DBRef` 或作为 `ObjectId.id` 。  \n",
    "    `reverse_delete_rule` – 确定删除引用对象时要执行的操作  \n",
    "    `passthrough`——尝试访问未知字段时，`LazyReference`实例将自动调用`fetch()`并尝试检索已获取文档中的字段。请注意，这仅适用于获取字段（而不是设置或删除）。  "
   ]
  },
  {
   "cell_type": "markdown",
   "id": "0fdf5922-f253-476d-86dc-cc0fe0c5d0d7",
   "metadata": {},
   "source": [
    "url: https://mongoengine-odm.readthedocs.io/apireference.html#mongoengine.fields.GenericReferenceField\n",
    "`classmongoengine.fields.GenericReferenceField(*args, **kwargs)`\n",
    "A reference to any Document subclass that will be automatically dereferenced on access (lazily).\n",
    "\n",
    "Note this field works the same way as ReferenceField, doing database I/O access the first time it is accessed (even if it’s to access it pk or id field). To solve this you should consider using the GenericLazyReferenceField.\n",
    "\n",
    "Note\n",
    "\n",
    "Any documents used as a generic reference must be registered in the document registry. Importing the model will automatically register it.\n",
    "\n",
    "You can use the choices param to limit the acceptable Document types\n",
    "\n",
    "Parameters  \n",
    "\n",
    "    db_field – The database field to store this field in (defaults to the name of the field)\n",
    "\n",
    "    required – If the field is required. Whether it has to have a value or not. Defaults to False.\n",
    "\n",
    "    default – (optional) The default value for this field if no value has been set, if the value is set to None or has been unset. It can be a callable.\n",
    "\n",
    "    unique – Is the field value unique or not (Creates an index). Defaults to False.\n",
    "\n",
    "    unique_with – (optional) The other field this field should be unique with (Creates an index).\n",
    "\n",
    "    primary_key – Mark this field as the primary key ((Creates an index)). Defaults to False.\n",
    "\n",
    "    validation – (optional) A callable to validate the value of the field. The callable takes the value as parameter and should raise a ValidationError if validation fails\n",
    "\n",
    "    choices – (optional) The valid choices\n",
    "\n",
    "    null – (optional) If the field value can be null when a default exist. If not set, the default value\n",
    "\n",
    "will be used in case a field with a default value is set to None. Defaults to False. :param sparse: (optional) sparse=True combined with unique=True and required=False\n",
    "\n",
    "means that uniqueness won’t be enforced for None values (Creates an index). Defaults to False.\n",
    "\n",
    "Parameters\n",
    "**kwargs –\n",
    "\n",
    "(optional) Arbitrary indirection-free metadata for this field can be supplied as additional keyword arguments and accessed as attributes of the field. Must not conflict with any existing attributes. Common metadata includes verbose_name and help_text.\n"
   ]
  },
  {
   "cell_type": "markdown",
   "id": "6e641667-3d74-4754-96ed-f3c2516e3b28",
   "metadata": {},
   "source": [
    "url:https://mongoengine-odm.readthedocs.io/apireference.html#mongoengine.fields.GenericLazyReferenceField\n",
    "\n",
    "`classmongoengine.fields.GenericLazyReferenceField(*args, **kwargs)`  \n",
    "A reference to any Document subclass. Unlike the GenericReferenceField it will not be automatically (lazily) dereferenced on access. Instead, access will return a LazyReference class instance, allowing access to pk or manual dereference by using fetch() method.\n",
    "\n",
    "Note\n",
    "\n",
    "Any documents used as a generic reference must be registered in the document registry. Importing the model will automatically register it.\n",
    "\n",
    "You can use the choices param to limit the acceptable Document types\n",
    "\n",
    "Parameters  \n",
    "    \n",
    "    db_field – The database field to store this field in (defaults to the name of the field)\n",
    "\n",
    "    required – If the field is required. Whether it has to have a value or not. Defaults to False.\n",
    "\n",
    "    default – (optional) The default value for this field if no value has been set, if the value is set to None or has been unset. It can be a callable.\n",
    "\n",
    "    unique – Is the field value unique or not (Creates an index). Defaults to False.\n",
    "\n",
    "    unique_with – (optional) The other field this field should be unique with (Creates an index).\n",
    "\n",
    "    primary_key – Mark this field as the primary key ((Creates an index)). Defaults to False.\n",
    "\n",
    "    validation – (optional) A callable to validate the value of the field. The callable takes the value as parameter and should raise a ValidationError if validation fails\n",
    "\n",
    "    choices – (optional) The valid choices\n",
    "\n",
    "    null – (optional) If the field value can be null when a default exist. If not set, the default value\n",
    "\n",
    "will be used in case a field with a default value is set to None. Defaults to False. :param sparse: (optional) sparse=True combined with unique=True and required=False\n",
    "\n",
    "means that uniqueness won’t be enforced for None values (Creates an index). Defaults to False.\n",
    "\n",
    "Parameters\n",
    "**kwargs –\n",
    "\n",
    "(optional) Arbitrary indirection-free metadata for this field can be supplied as additional keyword arguments and accessed as attributes of the field. Must not conflict with any existing attributes. Common metadata includes verbose_name and help_text.\n"
   ]
  },
  {
   "cell_type": "markdown",
   "id": "20937e37-cd94-4b74-989a-f8e77a0307fc",
   "metadata": {},
   "source": [
    "url:\n",
    "https://mongoengine-odm.readthedocs.io/apireference.html#mongoengine.fields.CachedReferenceField\n",
    "\n",
    "`classmongoengine.fields.CachedReferenceField(document_type, fields=None, auto_sync=True, **kwargs)`  \n",
    "A referencefield with cache fields to purpose pseudo-joins\n",
    "\n",
    "Initialises the Cached Reference Field.\n",
    "\n",
    "Parameters  \n",
    "    \n",
    "    document_type – The type of Document that will be referenced\n",
    "\n",
    "    fields – A list of fields to be cached in document\n",
    "\n",
    "    auto_sync – if True documents are auto updated\n",
    "\n",
    "    kwargs – Keyword arguments passed into the parent BaseField"
   ]
  },
  {
   "cell_type": "code",
   "execution_count": null,
   "id": "7f0f0cb9-3504-4350-b7d9-26d3ab494ec2",
   "metadata": {},
   "outputs": [],
   "source": []
  }
 ],
 "metadata": {
  "kernelspec": {
   "display_name": "Python 3 (ipykernel)",
   "language": "python",
   "name": "python3"
  },
  "language_info": {
   "codemirror_mode": {
    "name": "ipython",
    "version": 3
   },
   "file_extension": ".py",
   "mimetype": "text/x-python",
   "name": "python",
   "nbconvert_exporter": "python",
   "pygments_lexer": "ipython3",
   "version": "3.10.6"
  }
 },
 "nbformat": 4,
 "nbformat_minor": 5
}
