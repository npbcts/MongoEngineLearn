{
 "cells": [
  {
   "cell_type": "markdown",
   "id": "f9ae62ae-6eb2-4578-a239-2b81d013160f",
   "metadata": {
    "tags": []
   },
   "source": [
    "## Mongodb的索引和如何在MongoEngine中使用索引"
   ]
  },
  {
   "cell_type": "markdown",
   "id": "a4bdf9c7-cc9e-49f1-99c1-225bdea06c55",
   "metadata": {
    "tags": []
   },
   "source": [
    "### 一、 mongodb的索引简介\n",
    "[索引类型详解](https://mongoing.com/archives/26867), [mongodb中文网，文本索引](https://mongoing.com/docs/text-search.html)\n",
    "\n",
    "- 单键索引, 联合索引  \n",
    "- 除上述两种分类外，还有一些特殊的索引， 如:文本索引| 数组索引 | 稀疏索引 | 地理空间索引 | TTL索引等."
   ]
  },
  {
   "cell_type": "markdown",
   "id": "9e63e394-6a8d-45bf-afaf-851d9bba8a76",
   "metadata": {},
   "source": [
    "#### **索引的类型**"
   ]
  },
  {
   "cell_type": "markdown",
   "id": "a37c35d8-d620-46d8-8732-9b807c17354a",
   "metadata": {},
   "source": [
    "#### 单键索引\n",
    "\n",
    "单键索引即索引的字段只有一个,是最基础的索引方式.  \n",
    "在集合中使用`username`字段, `mongodb`创建一个单键索引,会自动将这个索引命名为 `username_1`\n",
    "\n",
    "在索引优化的原则当中,有很重要的原则就是索引要建立在**基数高的的字段上**,所谓基数就是一个字段上不重复数值的个数,即我们在创建集合时年龄出现的数值是那么这个字段将会有100个不重复的数值,即字段的基数为100,而这个字段只会出现这个两个值,即字段的基础是2,这是一个相当低的基数,在这种情况下,索引的效率并不高并且会导致索引失效.\n",
    "\n",
    "[索引基数](https://blog.csdn.net/mingyundezuoan/article/details/79038989)（cardinality）：索引中不重复的索引值的数量；\n",
    "例如，某个数据列包含值1、3、7、4、7、3，那么它的基数就是4。\n",
    "- 索引基数相对于数据表行数较高（也就是说，列中包含很多不同的值，重复的值很少）的时候，它的工作效果最好。\n",
    "- 如果某数据列含有很多不同的年龄，索引会很快地分辨数据行。\n",
    "- 如果某个数据列用于记录性别（只有”M”和”F”两种值），那么索引的用处就不大。\n",
    "- 如果值出现的几率几乎相等，那么无论搜索哪个值都可能得到一半的数据行。在这些情况下，最好根本不要使用索引，因为查询优化器发现某个值出现在表的数据行中的百分比很高的时候，它一般会忽略索引，进行全表扫描。惯用的百分比界线是”30%”。\n"
   ]
  },
  {
   "cell_type": "markdown",
   "id": "c49d00cc-363d-4bf6-9e5d-4f05f5b53660",
   "metadata": {},
   "source": [
    "#### 联合索引\n",
    "\n",
    "联合索引即索引上会有多个字段,例如使用`age`和 `sex` 两个字段创建一个索引, `{age_1_sex_1}`"
   ]
  },
  {
   "cell_type": "markdown",
   "id": "6d6bb991-a44f-4fb5-8f29-9f383f31d152",
   "metadata": {},
   "source": [
    "#### 联合数组 和 联合数组索引\n",
    "\n",
    "- 数组索引相比于其它索引来说索引条目和体积必然呈倍数增加,例如平均每个文档的数组的为10,那么这个集合的数组索引的条目数量将是普通索引的10倍.\n",
    "\n",
    "- 联合数组索引就是含有数组字段的联合索引,这种索引不支持一个索引中含有多个数组字段,即一个索引中最多能有一个数组字段,这是为了避免索引条目爆炸式增长,假设一个索引中有两个数组字段,那么这个索引条目的数量将是普通索引的n*m倍"
   ]
  },
  {
   "cell_type": "markdown",
   "id": "7881aa66-dc3f-47fd-8991-48cca22c155e",
   "metadata": {},
   "source": [
    "#### 文本索引（中文无法使用）  \n",
    "文本索引将建立索引的文档字段先进行分词再进行检索,但是**目前还不支持中文分词**. [官网-社区版文本索引支持列表](https://www.mongodb.com/docs/manual/reference/text-search-languages/#std-label-text-search-languages)"
   ]
  },
  {
   "cell_type": "markdown",
   "id": "e7196447-70fa-4a75-b7e5-6373fc64c838",
   "metadata": {},
   "source": [
    "#### 哈希索引(无分片，不使用)\n",
    "\n",
    "为了**支持基于哈希的分片**，MongoDB提供了哈希索引类型，索引字段值的哈希值。这些索引在其范围内具有更随机的值分布，但仅 支持等值匹配且不支持范围查询。"
   ]
  },
  {
   "cell_type": "markdown",
   "id": "97db0fe7-a8e5-47d3-bc62-6250644618e3",
   "metadata": {},
   "source": [
    "#### **索引的属性**"
   ]
  },
  {
   "cell_type": "markdown",
   "id": "09d5a913-4274-4eef-9537-b4846c91da66",
   "metadata": {},
   "source": [
    "#### 稀疏索引\n",
    "**一般的索引会根据某个字段为整个集合创建一个索引**,即使某个文档不存这个字段,那么这个索引会把这个文档的这个字段当作 `null` 建立在索引当中.  \n",
    "**稀疏索引不会对文档中不存在的字段建立索引**,如果这个字段存在但是为`null`时,则会创建索引`null`."
   ]
  },
  {
   "cell_type": "markdown",
   "id": "6c2da655-dae1-462b-b897-432d6c7a8dcd",
   "metadata": {},
   "source": [
    "#### 唯一索引  \n",
    "唯一索引就是在建立索引的字段上不能出现重复元素,除了单字段唯一索引还有联合唯一索引以及数组唯一索引(即数组之间不能有元素交集 )"
   ]
  },
  {
   "cell_type": "markdown",
   "id": "af5b128d-6969-4bd4-a6a6-76b37a9a3a1b",
   "metadata": {
    "tags": []
   },
   "source": [
    "#### 部分索引   *3.2版本的新功能。*\n",
    "部分索引仅索引符合特定的过滤表达式的集合中的文档。通过索引集合中的文档子集，部分索引具有较低的存储要求，减少索引创建和维护的性能成本"
   ]
  },
  {
   "cell_type": "markdown",
   "id": "d1ac94c0-25bc-4394-93ac-d529dd564f6a",
   "metadata": {
    "tags": []
   },
   "source": [
    "### 二、 MongoEngine 索引简介 [官方文档](https://mongoengine-odm.readthedocs.io/guide/defining-documents.html#indexes)\n",
    "\n",
    "You can specify indexes on collections to **make querying faster**. This is done by creating a list of index specifications called `indexes` in the `meta` dictionary, where an index specification may either be a single field name, a tuple containing multiple field names, or a dictionary containing a full index definition.\n",
    "\n",
    "因此，索引创建的目的是加快查询速度。"
   ]
  },
  {
   "cell_type": "markdown",
   "id": "c25727a1-3e5d-41f3-baa6-d61046064201",
   "metadata": {},
   "source": [
    "A direction may be specified on fields by **prefixing the field name with a + (for ascending) or a - sign (for descending)**. Note that direction only **matters on compound indexes**. \n",
    "Text indexes may be specified by prefixing the field name with a $. \n",
    "Hashed indexes may be specified by prefixing the field name with a #:\n",
    "\n",
    "复合索引(compound indexes)中, 在字段前加 `+`或 `-` 能够改变其中索引的排序方向。"
   ]
  },
  {
   "cell_type": "markdown",
   "id": "7a43a522-e283-4e6c-b8d8-66bd9b8afb7c",
   "metadata": {},
   "source": [
    "```python\n",
    "class Page(Document):\n",
    "    category = IntField()\n",
    "    title = StringField()\n",
    "    rating = StringField()\n",
    "    created = DateTimeField()\n",
    "    meta = {\n",
    "        'indexes': [\n",
    "            'title',   # single-field index  # 注意建立在基数高的字段上\n",
    "            '$title',  # text index  # 文本索引, 不支持中文\n",
    "            '#title',  # hashed index  # 字段不完整时，注意使用时不会索引到不存在此字段的文档(无分片，不使用)\n",
    "            ('title', '-rating'),  # compound index\n",
    "            ('category', '_cls'),  # compound index\n",
    "            {\n",
    "                'fields': ['created'],\n",
    "                'expireAfterSeconds': 3600  # ttl index\n",
    "            }\n",
    "        ]\n",
    "    }\n",
    "```"
   ]
  },
  {
   "cell_type": "markdown",
   "id": "36dc898d-dbcc-467a-aa2d-5c56c6991aa9",
   "metadata": {
    "tags": []
   },
   "source": [
    "### 三、 单条索引详细的参数\n",
    "\n",
    "(当向`meta = {'indexes': []}`的列表中传入字典时， 可以一并建立关于此项索引字段的其他设置。)  "
   ]
  },
  {
   "cell_type": "markdown",
   "id": "4e04c195-79ad-4593-827d-e5c3f8873e31",
   "metadata": {},
   "source": [
    "If a dictionary is passed then additional options become available. Valid options include, but are not limited to:\n",
    "\n",
    "    fields (Default: None) -> 索引字段\n",
    "    The fields to index. Specified in the same format as described above.\n",
    "\n",
    "    cls (Default: True) -> 为继承文档时，在索引前加入 类名(即不同级别的文档名)\n",
    "    If you have polymorphic models that inherit and have allow_inheritance turned on, you can configure whether the index should have the _cls field added automatically to the start of the index.\n",
    "\n",
    "    sparse (Default: False) -> 本索引是否设置为稀疏索引\n",
    "    Whether the index should be sparse.\n",
    "\n",
    "    unique (Default: False) -> 本索引是否为唯一索引\n",
    "    Whether the index should be unique.\n",
    "\n",
    "    expireAfterSeconds (Optional) -> 允许您通过以秒为单位设置使字段过期的时间来自动使集合中的数据过期。\n",
    "    Allows you to automatically expire data from a collection by setting the time in seconds to expire the a field.\n",
    "\n",
    "    name (Optional) -> 允许你指定索引的名称\n",
    "    Allows you to specify a name for the index\n",
    "\n",
    "    collation (Optional) -> 允许创建不区分大小写的索引\n",
    "    Allows to create case insensitive indexes (MongoDB v3.4+ only)\n"
   ]
  },
  {
   "cell_type": "markdown",
   "id": "fcf958a0-49c4-4b89-8c04-f7662d0b507e",
   "metadata": {
    "tags": []
   },
   "source": [
    "### 四、 全局索引默认参数\n",
    "\n",
    "There are a few top level defaults for all indexes that can be set:\n",
    "\n",
    "```python\n",
    "class Page(Document):\n",
    "    title = StringField()\n",
    "    rating = StringField()\n",
    "    meta = {\n",
    "        'index_opts': {},\n",
    "        'index_background': True,\n",
    "        'index_cls': False,\n",
    "        'auto_create_index': True,\n",
    "        'auto_create_index_on_save': False,\n",
    "    }\n",
    "```"
   ]
  },
  {
   "cell_type": "markdown",
   "id": "6fc6f8b7-703c-40fd-bab0-e829ac15ab18",
   "metadata": {},
   "source": [
    "\n",
    "\n",
    "- index_opts (Optional)  -> 设置任何默认索引选项  \n",
    "Set any default index options - see the full options list\n",
    "\n",
    "- index_background (Optional) -> 设置索引是否应在后台编制索引的默认值(mongodb: 建索引过程会阻塞其它数据库操作，background可指定以后台方式创建索引，即增加 \"background\" 可选参数。 \"background\" 默认值为false。)  \n",
    "Set the default value for if an index should be indexed in the background\n",
    "\n",
    "- index_cls (Optional) -> 一种为 `_cls` 关闭特定索引的方法。  \n",
    "A way to turn off a specific index for _cls.\n",
    "\n",
    "- auto_create_index (Optional) -> 当这是 True （默认）时，MongoEngine 将确保在首次使用 Document 时 MongoDB 中存在正确的索引。这可以在索引单独管理的系统中禁用。**禁用此功能将提高性能**。??  \n",
    "When this is True (default), MongoEngine will ensure that the correct indexes exist in MongoDB when the Document is first used. This can be disabled in systems where indexes are managed separately. Disabling this will improve performance.\n",
    "\n",
    "- auto_create_index_on_save (Optional) -> 当这是 True 时，MongoEngine 将确保每次运行时 MongoDB 中存在正确的索引。**启用它会降低性能**。默认值为`False`。  \n",
    "When this is True, MongoEngine will ensure that the correct indexes exist in MongoDB each time save() is run. Enabling this will degrade performance. The default is False. This option was added in version 0.25.\n",
    "\n",
    "如果从性能考虑， `auto_create_index` 和 `auto_create_index_on_save` 都将被禁用。"
   ]
  },
  {
   "cell_type": "markdown",
   "id": "e37b00d4-2897-4733-aa6a-1d3c3017ba60",
   "metadata": {
    "tags": []
   },
   "source": [
    "### 五、 复合索引和其他类型索引\n",
    "\n",
    "Compound Indexes and Indexing sub documents -> 针对字典，嵌入式子文档中内容建立的索引 \n",
    "Compound indexes can be created by adding the Embedded field or dictionary field name to the index definition.  \n",
    "Sometimes its more efficient to index parts of Embedded / dictionary fields, in this case use ‘dot’ notation to identify the value to index eg: rank.title"
   ]
  },
  {
   "cell_type": "markdown",
   "id": "9a3069ab-2d6e-42ff-b6cb-b415bdc7746e",
   "metadata": {},
   "source": [
    "#### 其他索引  \n",
    "[地理空间索引 Geospatial indexes](https://mongoengine-odm.readthedocs.io/guide/defining-documents.html#geospatial-indexes),  \n",
    "[生存时间 (TTL)索引 Time To Live (TTL) indexes](https://mongoengine-odm.readthedocs.io/guide/defining-documents.html#time-to-live-ttl-indexes),  \n",
    "[比较索引 Comparing Indexes](https://mongoengine-odm.readthedocs.io/guide/defining-documents.html#comparing-indexes)：用`mongoengine.Document.compare_indexes() `将数据库中的 *实际索引* 与 *文档定义* 的索引进行比较。这对于**维护目的很有用**，并确保您拥有适合您的架构的正确索引。"
   ]
  },
  {
   "cell_type": "markdown",
   "id": "9364de6b-a7b2-4305-93b0-8bc81f1cefc1",
   "metadata": {},
   "source": [
    "### 六、 索引练习\n",
    "\n",
    "实际上比较常用的索引是 单键索引，联合数组， 联合索引，混合索引； 单个索引参数和全局索引参数使用默认项目即可."
   ]
  },
  {
   "cell_type": "code",
   "execution_count": 3,
   "id": "2fe8c67c-38a4-476c-b1a1-ef872b2a55b1",
   "metadata": {},
   "outputs": [
    {
     "data": {
      "text/plain": [
       "MongoClient(host=['192.168.2.172:27017'], document_class=dict, tz_aware=False, connect=True, read_preference=Primary(), uuidrepresentation=3)"
      ]
     },
     "execution_count": 3,
     "metadata": {},
     "output_type": "execute_result"
    }
   ],
   "source": [
    "from mongoengine import connect, disconnect\n",
    "from mongoengine import Document\n",
    "from mongoengine import StringField, IntField\n",
    "from mongo_config import TEST_DB1, TEST_DB2, TEST_DB3, HOST, PORT, USERNAME, PASSWORD\n",
    "from mongoengine import BooleanField, DateTimeField, DictField, EmailField, FloatField, ListField, ReferenceField\n",
    "connect(TEST_DB1, host=HOST, port=PORT, username=USERNAME, password=PASSWORD, authentication_source=TEST_DB1, alias=TEST_DB1)"
   ]
  },
  {
   "cell_type": "markdown",
   "id": "438fbc27-a1c0-46f9-ac80-45ea83551278",
   "metadata": {},
   "source": [
    "#### 一般索引的创建"
   ]
  },
  {
   "cell_type": "code",
   "execution_count": 5,
   "id": "d9434f6b-f947-470f-95b6-1779beb1f341",
   "metadata": {},
   "outputs": [],
   "source": [
    "# 单键索引，组合索引\n",
    "class BookWithIndex(Document):\n",
    "    bookid = StringField()\n",
    "    name = StringField()\n",
    "    chapter = StringField(required=True, default=\"2.3.5\")\n",
    "    author = StringField()\n",
    "    meta = {\n",
    "        \"db_alias\": TEST_DB1,\n",
    "        \"indexes\": [\n",
    "            \"bookid\",\n",
    "            (\"bookid\", \"+name\")\n",
    "        ]\n",
    "    }"
   ]
  },
  {
   "cell_type": "code",
   "execution_count": 6,
   "id": "0798c500-18ae-44d5-8a52-bba126190ff9",
   "metadata": {},
   "outputs": [
    {
     "data": {
      "text/plain": [
       "<BookWithIndex: BookWithIndex object>"
      ]
     },
     "execution_count": 6,
     "metadata": {},
     "output_type": "execute_result"
    }
   ],
   "source": [
    "BookWithIndex(bookid=\"2idjs333\", name=\"四书\", author=\"孔子\").save()"
   ]
  },
  {
   "cell_type": "markdown",
   "id": "b88a815a-da4a-4070-8392-054036f23fae",
   "metadata": {},
   "source": [
    "#### 查看某个已建立文档的索引"
   ]
  },
  {
   "cell_type": "code",
   "execution_count": 10,
   "id": "789321dd-3274-4dc4-bc1f-8c93a883b617",
   "metadata": {},
   "outputs": [
    {
     "data": {
      "text/plain": [
       "[[('bookid', 1)], [('bookid', 1), ('name', 1)], [('_id', 1)]]"
      ]
     },
     "execution_count": 10,
     "metadata": {},
     "output_type": "execute_result"
    }
   ],
   "source": [
    "BookWithIndex.list_indexes()"
   ]
  },
  {
   "cell_type": "markdown",
   "id": "c4c385ca-3619-4638-a318-69ef0395709c",
   "metadata": {},
   "source": [
    "#### 复合索引的建立"
   ]
  },
  {
   "cell_type": "code",
   "execution_count": 17,
   "id": "dba53be1-65af-4f02-a85b-228ff984cbfb",
   "metadata": {},
   "outputs": [],
   "source": [
    "from mongoengine import EmbeddedDocument, EmbeddedDocumentField\n",
    "class BookAuthor(EmbeddedDocument):\n",
    "    name = StringField()\n",
    "    age = StringField()\n",
    "    meta = {\"db_alias\": TEST_DB1}\n",
    "# 更复杂的索引 -> 待补充\n",
    "class BookWithCompoundIndex(Document):\n",
    "    bookid = StringField()\n",
    "    name = StringField()\n",
    "    chapter = StringField(required=True, default=\"2.3.5\")\n",
    "    author = EmbeddedDocumentField(BookAuthor)\n",
    "    meta = {\n",
    "        \"db_alias\": TEST_DB1,\n",
    "        \"indexes\": [\n",
    "            \"author.name\",\n",
    "        ]\n",
    "    }\n"
   ]
  },
  {
   "cell_type": "code",
   "execution_count": 18,
   "id": "08bd3da3-6550-488c-85d3-d4cc136da0e3",
   "metadata": {},
   "outputs": [
    {
     "data": {
      "text/plain": [
       "<BookWithCompoundIndex: BookWithCompoundIndex object>"
      ]
     },
     "execution_count": 18,
     "metadata": {},
     "output_type": "execute_result"
    }
   ],
   "source": [
    "aut = BookAuthor(name=\"孔子\", age=\"春秋\")\n",
    "BookWithCompoundIndex(bookid=\"2idjs333\", name=\"四书\", author=aut).save()"
   ]
  },
  {
   "cell_type": "code",
   "execution_count": 19,
   "id": "92dd2ad8-60c6-463d-9c8d-16c6f13d86f2",
   "metadata": {},
   "outputs": [
    {
     "data": {
      "text/plain": [
       "[[('author.name', 1)], [('_id', 1)]]"
      ]
     },
     "execution_count": 19,
     "metadata": {},
     "output_type": "execute_result"
    }
   ],
   "source": [
    "BookWithCompoundIndex.list_indexes()"
   ]
  },
  {
   "cell_type": "markdown",
   "id": "227444f7-3897-46e1-939d-af817b12c398",
   "metadata": {},
   "source": [
    "### 七、 总结\n",
    "\n",
    "索引可以使用mongoengine建立，也可以使用mongodb shell或者界面软件建立。他们所基于的查询和管理方式都是基于mongodb数据库系统, 可以选择便于管理的方法建立和使用索引。"
   ]
  }
 ],
 "metadata": {
  "kernelspec": {
   "display_name": "Python 3 (ipykernel)",
   "language": "python",
   "name": "python3"
  },
  "language_info": {
   "codemirror_mode": {
    "name": "ipython",
    "version": 3
   },
   "file_extension": ".py",
   "mimetype": "text/x-python",
   "name": "python",
   "nbconvert_exporter": "python",
   "pygments_lexer": "ipython3",
   "version": "3.10.6"
  }
 },
 "nbformat": 4,
 "nbformat_minor": 5
}
