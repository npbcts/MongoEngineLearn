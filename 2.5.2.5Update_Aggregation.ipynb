{
 "cells": [
  {
   "cell_type": "markdown",
   "id": "9f501364-2bf6-4d0b-9d76-d596b894ae5e",
   "metadata": {},
   "source": [
    "## 2.5.2.5. Update with Aggregation Pipeline(聚合管道更新)"
   ]
  },
  {
   "cell_type": "markdown",
   "id": "3e2891d0-9ee5-41ab-9b34-2a5e45383bef",
   "metadata": {},
   "source": [
    "### 一、MongoDB中的聚合操作概述  \n",
    "[聚合操作中文社区文档](https://docs.mongoing.com/aggregation)， [聚合视频教程](https://www.bilibili.com/video/BV1xV411z7FH/?spm_id_from=333.337.search-card.all.click&vd_source=db5f224185fdd2c28b4cc762ebce92fe)  \n",
    "\n",
    "聚合操作处理数据记录和 return 计算结果。聚合操作将来自多个文档的值组合在一起，并且可以对分组数据执行各种操作以返回单个结果。 MongoDB 提供了三种执行聚合的方法：*聚合管道*，*map-reduce function*和*单一目的聚合方法*。"
   ]
  },
  {
   "cell_type": "markdown",
   "id": "7e3ecf6a-d48d-4f6a-bd59-ed882381562c",
   "metadata": {},
   "source": [
    "#### 聚合管道 [中文社区文档](https://docs.mongoing.com/aggregation/aggregation-reference/aggregation-pipeline-quick-reference)\n",
    "\n",
    "MongoDB 的Aggregation framework是以数据处理管道的概念为蓝本的。**文档进入多阶段管道，将文档转换为聚合结果**。例如：\n",
    "在这个例子中：\n",
    "\n",
    "```bash\n",
    "db.orders.aggregate([\n",
    "   { $match: { status: \"A\" } },\n",
    "   { $group: { _id: \"$cust_id\", total: { $sum: \"$amount\" } } }\n",
    "])\n",
    "```\n",
    "代码解释：  \n",
    "第一阶段：`$match`阶段按`status`字段过滤文档，并将`status`等于`\"A\"`的文档传递到下一阶段。  \n",
    "此示例中只使用了简单的筛选文档。当然筛选过程中可以使用多种的运算符(算数表达式运算符，数组表达式运算符，布尔表达式运算符，比较表达式运算符，条件表达式运算符，日期，字符串表达式运算符等。)\n",
    "\n",
    "第二阶段：`$group`阶段按`cust_id`字段将文档分组，以计算每个唯一值`cust_id`的金额总和。  \n",
    "其中 `$sum`为(`group`)分组累加运算符，同时还存在其他运算符(详见 [文档](https://docs.mongoing.com/aggregation/aggregation-reference/aggregation-pipeline-quick-reference#lei-jia-qi-group))，包括:\n",
    "- `$avg`: 分组中字段的平均值   \n",
    "- `$max`: 分组中字段的最大值  \n",
    "- `$min`: 分组中字段的最小值  \n",
    "- `$first`: 分组中字段的第一个值  \n",
    "- `$last`: 分组中字段的最后一个值  \n",
    "- `$stdDevPop`: 返回输入值的总体标准偏差  \n",
    "- `$stdDevSamp`: 返回输入值的sample标准偏差。\n",
    "- `$push`: 返回每个 `group` 的表达式值的 `array`\n",
    "- `$addToSet`: 返回每个 `group` 的唯一表达式值的 `array`"
   ]
  },
  {
   "cell_type": "markdown",
   "id": "dae54fc0-e07c-4d2b-9e86-7d59baeb9836",
   "metadata": {},
   "source": [
    "最基本的管道阶段提供_过滤器_，其操作类似于查询和修改输出文档格式的_文档转换_。  \n",
    "其他管道操作提供了用于按特定字段对文档进行分组和排序的工具，以及用于汇总包括文档数组在内的数组内容的工具。另外，管道阶段可以将运算符用于诸如计算平均值或连接字符串之类的任务。  \n",
    "管道使用MongoDB中的原生操作提供有效的数据聚合，并且是MongoDB中数据聚合的首选方法。"
   ]
  },
  {
   "cell_type": "markdown",
   "id": "0fa3d494-c8a6-49fe-8658-e9cc8feaf051",
   "metadata": {},
   "source": [
    "#### Map-Reduce: 较复杂，有待研究  "
   ]
  },
  {
   "cell_type": "markdown",
   "id": "e7c4e183-99b3-4d01-b05c-e79ea0fc2c16",
   "metadata": {},
   "source": [
    "#### 单用途聚合操作\n",
    "\n",
    "`MongoDB` 还提供 `db.collection.estimatedDocumentCount()`, `db.collection.count()`和`db.collection.distinct()`。\n",
    "\n",
    "所有这些操作都聚合来自单个集合的文档。虽然这些操作提供了对常见聚合过程的简单访问，但它们缺乏聚合管道和 map-reduce 的灵活性和功能。"
   ]
  },
  {
   "cell_type": "markdown",
   "id": "6a8d2021-f3ff-45f7-9763-1272860d03b0",
   "metadata": {},
   "source": [
    "`db.collection.count(query，options)`: 返回将_查询集合或视图的find()查询的文档计数。 `db.collection.count()`方法不执行`find()`操作，而是计算并返回匹配查询的结果数。[文档](https://docs.mongoing.com/can-kao/mongo-shell-methods/collection-methods/db-collection-count)\n",
    "\n",
    "`query`: 查询筛选文档(查询筛选条件)  \n",
    "`options`: 可选的参数。修改计数的额外选项  "
   ]
  },
  {
   "cell_type": "markdown",
   "id": "7a223727-013d-4c08-bc4f-0b6efb37abee",
   "metadata": {},
   "source": [
    "`db.collection. distinct(字段，查询，选项)`: 在单个集合或视图中查找指定字段的不同值，并在 array 中返回结果。[中文文档](https://docs.mongoing.com/can-kao/mongo-shell-methods/collection-methods/db-collection-distinct)\n",
    "\n",
    "排除重复项，并返回结果。\n",
    "\n",
    "`field(string)`：  要为其返回不同值的字段。  \n",
    "`query(document)`: 一个查询，指定从中检索不同值的文档。(查询筛选条件)\n",
    "`options(document)`: 见文档描述"
   ]
  },
  {
   "cell_type": "markdown",
   "id": "fa88e6d1-53bc-4bd1-8746-176e2b3774c2",
   "metadata": {},
   "source": [
    "### 二、管道聚合详解\n",
    "聚合方法(db.collection.aggregate)\n",
    "在`db.collection.aggregate`方法中，管道阶段出现在数组中。文档按顺序通过各个阶段。除`$out`, `$merge`和`$geoNear`阶段之外的所有阶段都可以在管道中多次出现。\n",
    "```python\n",
    "db.collection.aggregate( [ { <stage> }, ... ] )\n",
    "```"
   ]
  },
  {
   "cell_type": "markdown",
   "id": "b591b453-94c5-4365-aa49-e44f0c9ee9ce",
   "metadata": {},
   "source": [
    "#### 主要的管道阶段操作符"
   ]
  },
  {
   "cell_type": "markdown",
   "id": "153796a6-0de6-4705-aad4-5a89ac408ec5",
   "metadata": {},
   "source": [
    "- `$match`:  过滤文档流以仅允许匹配的文档未经修改地传递到下一个管道阶段。 `$match`使用标准的 `MongoDB` 查询。对于每个输入文档，输出一个文档(匹配)或零文档(不匹配)。  \n",
    "- `$group`: 按指定的标识符表达式对文档进行分组，并将累加器表达式(如果指定)应用于每个组。使用所有输入文档并*为每个不同的组输出一个文档*。输出文档只包含标识符字段和累积字段(如果指定的话)。  \n",
    "- `$project`: 重新整形流中的每个文档，例如添加新字段或删除现有字段。对于每个输入文档，输出一个文档。 有关删除现有字段，请参见`$unset`。 - `skip`: 输出时跳过一定数量的文档\n",
    "- `limit`: 限制输出文档的数量  "
   ]
  },
  {
   "cell_type": "markdown",
   "id": "b2310a06-074f-47e5-bfdb-2d6a34f03fb0",
   "metadata": {},
   "source": [
    "#### 示例1，`match`+`project`\n",
    "\n",
    "```python\n",
    "db.users.aggregate([\n",
    "    {\"$match\": {\"gender\": \"男\"}},\n",
    "    {\"$skip\": 100},\n",
    "    {\"$limit\": 20},\n",
    "    {\"$project\":{\n",
    "        \"名\": \"$first_name\",\n",
    "        \"姓\": \"$last_name\"\n",
    "    }}\n",
    "])\n",
    "```\n",
    "管道流程解释： 先筛选出 `{\"gender\": \"男\"}`的所有文档,跳过100条文档，限制输入条数为 20, 只输出 两个字段 `first_name`, `last_name`.\n"
   ]
  },
  {
   "cell_type": "markdown",
   "id": "2b39d270-d5f6-4521-90be-b45a6fec7359",
   "metadata": {},
   "source": [
    "#### 示例2，`match`+`group`\n",
    "\n",
    "```python\n",
    "db.users.aggregate([\n",
    "    {\"$match\": {\"gender\": \"女\"}},\n",
    "    {\"$group\":{\n",
    "        \"_id\": \"$DEPARTMENT\",\n",
    "        \"emp_qty\": {\"$sum\": 1}\n",
    "    }}\n",
    "    {\"$match\": {\"emp_qty\": {\"$lt\": 10}}},\n",
    "\n",
    "])\n",
    "```\n",
    "管道流程解释： 先筛选出 `{\"gender\": \"女\"}`的所有文档,对字段 `DEPARTMENT`进行分组统计；统计后，针对结果进行再次筛选，输出上阶段生成文档中`emp_qty`小于10的文档结果。等同于， 查询出部门员工女性小于10人的部门。注意每个阶段中 `$` 符号的使用。\n"
   ]
  },
  {
   "cell_type": "markdown",
   "id": "8fa93825-8f86-464a-87f4-a86926739f96",
   "metadata": {},
   "source": [
    "示例3,`unwind`，展开数组\n",
    "\n",
    "`mongodb`文档如下:\n",
    "```python\n",
    ">db.student.findOne()\n",
    "\n",
    "{\n",
    "    name: \"张三\",\n",
    "    score: [\n",
    "        {subject:\"语文\", socre: 74}，\n",
    "        {subject:\"数学\", socre: 64}，\n",
    "        {subject:\"外语\", socre: 94}，\n",
    "    ]\n",
    "}\n",
    "```\n",
    "使用`unwind`展开数组的结果:\n",
    "\n",
    "```python\n",
    ">db.student.aggregate([{\"$unwind\": \"$score\"}])\n",
    "\n",
    "{name: \"张三\", score: {subject:\"语文\", socre: 74}}\n",
    "{name: \"张三\", score: {subject:\"数学\", socre: 64}}\n",
    "{name: \"张三\", score: {subject:\"外语\", socre: 94}}\n",
    "```"
   ]
  },
  {
   "cell_type": "markdown",
   "id": "641517b4-3b4f-498a-9346-7fc6b0145922",
   "metadata": {},
   "source": [
    "### 三、MongoEngine聚合更新示例\n",
    "\n",
    "It is possible to provide a raw PyMongo aggregation update parameter, which will be integrated directly into the update. This is done by using `__raw__` keyword argument to the update method and provide the pipeline as a list Update with Aggregation Pipeline\n",
    "\n",
    "```python\n",
    "# 'tags' field is set to 'coding is fun'\n",
    "Page.objects(tags='coding').update(__raw__=[\n",
    "    {\"$set\": {\"tags\": {\"$concat\": [\"$tags\", \"is fun\"]}}}\n",
    "    ],\n",
    ")\n",
    "```"
   ]
  },
  {
   "cell_type": "markdown",
   "id": "aaf853d4-d4c6-495a-bab9-d14a6f5e2de5",
   "metadata": {},
   "source": [
    "#### 四、 MongoEngine聚合函数 [文档](https://mongoengine-odm.readthedocs.io/apireference.html#module-mongoengine.queryset)\n",
    "\n",
    "`QuerySet.aggregate(pipeline, *suppl_pipeline, **kwargs)`:\n",
    "    Perform a aggregate function based in your queryset params\n",
    "\n",
    "Parameters\n",
    "    pipeline : list of aggregation commands, see: [document](http://docs.mongodb.org/manual/core/aggregation-pipeline/)  \n",
    "    suppl_pipeline : unpacked list of pipeline (added to support deprecation of the old interface) parameter will be removed shortly  \n",
    "    kwargs : (optional) kwargs dictionary to be passed to pymongo’s aggregate call See [document](https://api.mongodb.com/python/current/api/pymongo/collection.html#pymongo.collection.Collection.aggregate)\n"
   ]
  }
 ],
 "metadata": {
  "kernelspec": {
   "display_name": "Python 3 (ipykernel)",
   "language": "python",
   "name": "python3"
  },
  "language_info": {
   "codemirror_mode": {
    "name": "ipython",
    "version": 3
   },
   "file_extension": ".py",
   "mimetype": "text/x-python",
   "name": "python",
   "nbconvert_exporter": "python",
   "pygments_lexer": "ipython3",
   "version": "3.10.6"
  }
 },
 "nbformat": 4,
 "nbformat_minor": 5
}
