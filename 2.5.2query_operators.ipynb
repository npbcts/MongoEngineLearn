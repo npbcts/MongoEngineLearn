{
 "cells": [
  {
   "cell_type": "markdown",
   "id": "0f47f1ba-6e8a-49b0-a4b8-b86e027144b1",
   "metadata": {},
   "source": [
    "## 2.5.2 查询运算符\n",
    "\n",
    "Operators other than equality may also be used in queries — just attach the operator name to a key with a double-underscore:\n",
    "译：除等号之外的运算符使用带有双下划线的字母关键字表示。\n",
    "```python\n",
    "# Only find users whose age is 18 or less\n",
    "young_users = Users.objects(age__lte=18)\n",
    "```"
   ]
  },
  {
   "cell_type": "markdown",
   "id": "4917a17d-8ab8-435a-aebb-0dd6149b6245",
   "metadata": {},
   "source": [
    "Available operators are as follows:\n",
    "可用的运算符如下:\n",
    "\n",
    "`ne` – not equal to:  不等于\n",
    "\n",
    "`lt` – less than:  小于\n",
    "\n",
    "`lte` – less than or equal to:  小于等于\n",
    "\n",
    "`gt` – greater than:  大于\n",
    "\n",
    "`gte` – greater than or equal to:  大于等于\n",
    "\n",
    "`not` – negate a standard check, may be used before other operators (e.g. `Q(age__not__mod=(5, 0))`)\n",
    "\n",
    "`in` – value is in list (a list of values should be provided): 在列表中\n",
    "\n",
    "`nin` – value is not in list (a list of values should be provided): 不在列表中\n",
    "\n",
    "`mod` – `value % x == y`, where `x` and `y` are two provided values:\n",
    "    字段值是 `x` 的`y`倍\n",
    "\n",
    "`all` – every item in list of values provided is in array: 提供的值列表中的每个项目都在数组中\n",
    "\n",
    "`size` – the size of the array is: 根据数组的长度查询\n",
    "\n",
    "`exists` – value for field exists: 字段值是否存在"
   ]
  },
  {
   "cell_type": "markdown",
   "id": "9b56bf6a-e77e-46da-b7ed-e40c5e432fbb",
   "metadata": {},
   "source": [
    "### 查询运算符练习"
   ]
  },
  {
   "cell_type": "markdown",
   "id": "3ac997f8-cd6c-45f1-85e1-f24e5c340f41",
   "metadata": {},
   "source": [
    "#### `ne` – not equal to:  不等于"
   ]
  },
  {
   "cell_type": "code",
   "execution_count": 1,
   "id": "98aa77f6-134f-40ff-b427-061f90bd91d9",
   "metadata": {},
   "outputs": [],
   "source": [
    "from book_model import BookAllField"
   ]
  },
  {
   "cell_type": "code",
   "execution_count": 3,
   "id": "c6e01f0e-c998-41a4-9bca-50e633286213",
   "metadata": {},
   "outputs": [],
   "source": [
    "# 查找书籍名称不为大学的书\n",
    "querySet0 = BookAllField.objects(name__ne=\"大学\")"
   ]
  },
  {
   "cell_type": "code",
   "execution_count": 4,
   "id": "72aefead-6b79-45ff-9a26-4cc9504b646b",
   "metadata": {},
   "outputs": [
    {
     "data": {
      "text/plain": [
       "19991"
      ]
     },
     "execution_count": 4,
     "metadata": {},
     "output_type": "execute_result"
    }
   ],
   "source": [
    "querySet0.count()"
   ]
  },
  {
   "cell_type": "code",
   "execution_count": 5,
   "id": "f07eea9d-b71f-4c0c-ba6b-6c424fed4634",
   "metadata": {},
   "outputs": [
    {
     "data": {
      "text/plain": [
       "13"
      ]
     },
     "execution_count": 5,
     "metadata": {},
     "output_type": "execute_result"
    }
   ],
   "source": [
    "BookAllField.objects(name=\"大学\").count()"
   ]
  },
  {
   "cell_type": "code",
   "execution_count": 6,
   "id": "16a195b6-3932-48ab-ba4c-a03ad7d17cfc",
   "metadata": {},
   "outputs": [
    {
     "data": {
      "text/plain": [
       "20004"
      ]
     },
     "execution_count": 6,
     "metadata": {},
     "output_type": "execute_result"
    }
   ],
   "source": [
    "BookAllField.objects.count()"
   ]
  },
  {
   "cell_type": "markdown",
   "id": "7ae37ce0-ee76-48dd-921d-e9b5feea065a",
   "metadata": {},
   "source": [
    "#### 数据和时间比较\n",
    "`lt` – less than:  小于  \n",
    "`lte` – less than or equal to:  小于等于  \n",
    "`gt` – greater than:  大于  \n",
    "`gte` – greater than or equal to:  大于等于"
   ]
  },
  {
   "cell_type": "code",
   "execution_count": 15,
   "id": "8dac2eb6-32ab-49ad-b614-e9b17c67f0b5",
   "metadata": {},
   "outputs": [],
   "source": [
    "# 查找价格小于 20 的书\n",
    "querySet1 = BookAllField.objects(price__lt = 20)"
   ]
  },
  {
   "cell_type": "code",
   "execution_count": 12,
   "id": "f0ebcc5a-979e-4e20-8399-896ba1b20ebf",
   "metadata": {},
   "outputs": [
    {
     "data": {
      "text/plain": [
       "1946"
      ]
     },
     "execution_count": 12,
     "metadata": {},
     "output_type": "execute_result"
    }
   ],
   "source": [
    "querySet1.count()"
   ]
  },
  {
   "cell_type": "code",
   "execution_count": 14,
   "id": "356f6adb-de37-4e37-8a1c-d3c9f2d6d561",
   "metadata": {},
   "outputs": [
    {
     "data": {
      "text/plain": [
       "'{\"_id\": {\"$oid\": \"6408686b248d96a15f6ff2e4\"}, \"bookid\": \"wx0927615ssr\", \"name\": \"大学\", \"ifnewbook\": false, \"shelves_date\": {\"$date\": 1608422400000}, \"author\": {\"$oid\": \"6408686b248d96a15f6ff2e2\"}, \"author_email\": \"zengzi@qq.com\", \"price\": 10.8, \"book_type\": {\"$ref\": \"book_type\", \"$id\": {\"$oid\": \"63fcd4f21be34fe2c671fb44\"}}, \"publishing_house\": {\"name\": \"人民教育出版社\", \"phone\": \"120934876\"}, \"seller\": {\"$ref\": \"seller\", \"$id\": {\"$oid\": \"6408686b248d96a15f6ff2e3\"}}, \"tag\": [\"历史\", \"经典\"]}'"
      ]
     },
     "execution_count": 14,
     "metadata": {},
     "output_type": "execute_result"
    }
   ],
   "source": [
    "querySet1.first().to_json(ensure_ascii=False)"
   ]
  },
  {
   "cell_type": "code",
   "execution_count": 3,
   "id": "2a381aba-d079-4241-bf7e-96c4f766d76b",
   "metadata": {},
   "outputs": [],
   "source": [
    "# 查找 1999-12-31之后上架的书\n",
    "from datetime import datetime\n",
    "querySet1 = BookAllField.objects(shelves_date__gt = datetime(1999, 12, 31, 0, 0, 0))"
   ]
  },
  {
   "cell_type": "code",
   "execution_count": 5,
   "id": "4b09c34b-05d8-4f2e-bcdd-36d0cb8d179d",
   "metadata": {},
   "outputs": [
    {
     "data": {
      "text/plain": [
       "8781"
      ]
     },
     "execution_count": 5,
     "metadata": {},
     "output_type": "execute_result"
    }
   ],
   "source": [
    "querySet1.count()"
   ]
  },
  {
   "cell_type": "code",
   "execution_count": 7,
   "id": "16c92315-7694-43dd-8e30-f27eb33751b6",
   "metadata": {},
   "outputs": [],
   "source": [
    "q1 = querySet1.first()"
   ]
  },
  {
   "cell_type": "code",
   "execution_count": 8,
   "id": "601aa55c-ad27-4001-9403-4a3feb9a15c8",
   "metadata": {},
   "outputs": [
    {
     "data": {
      "text/plain": [
       "datetime.datetime(2000, 1, 1, 0, 0)"
      ]
     },
     "execution_count": 8,
     "metadata": {},
     "output_type": "execute_result"
    }
   ],
   "source": [
    "q1.shelves_date"
   ]
  },
  {
   "cell_type": "code",
   "execution_count": 11,
   "id": "e050b6eb-8adc-4a9f-a3ed-51a0663cd086",
   "metadata": {},
   "outputs": [],
   "source": [
    "# 查找 1999-12-31之前上架的书\n",
    "querySet2 = BookAllField.objects(shelves_date__lt = datetime(1999, 12, 31, 0, 0, 0))"
   ]
  },
  {
   "cell_type": "code",
   "execution_count": 13,
   "id": "3aa9b55b-e046-4b32-9341-7a1df3749825",
   "metadata": {},
   "outputs": [
    {
     "data": {
      "text/plain": [
       "datetime.datetime(1970, 1, 1, 0, 0)"
      ]
     },
     "execution_count": 13,
     "metadata": {},
     "output_type": "execute_result"
    }
   ],
   "source": [
    "querySet2.first().shelves_date"
   ]
  },
  {
   "cell_type": "markdown",
   "id": "945e1d03-14ff-4bbb-aedf-54f9f3a7b272",
   "metadata": {},
   "source": [
    "#### 字段值是否存在"
   ]
  },
  {
   "cell_type": "code",
   "execution_count": 17,
   "id": "a337e8a0-5b66-43df-9107-ad1d3d034c07",
   "metadata": {},
   "outputs": [],
   "source": [
    "querySet3 = BookAllField.objects(publishing_house__phone__exists=False)"
   ]
  },
  {
   "cell_type": "code",
   "execution_count": 18,
   "id": "92681311-3c8a-463f-a759-b4fe481a4b73",
   "metadata": {},
   "outputs": [
    {
     "data": {
      "text/plain": [
       "'{\"_id\": {\"$oid\": \"64087c7ecbd07ad56199892e\"}, \"bookid\": \"520330198010035219\", \"name\": \"没有搜索介绍\", \"ifnewbook\": true, \"shelves_date\": {\"$date\": 766713600000}, \"author\": {\"$oid\": \"64087c7ecbd07ad56199892b\"}, \"author_email\": \"fshen@example.org\", \"price\": 24.18, \"book_type\": {\"$ref\": \"book_type\", \"$id\": {\"$oid\": \"64087c7ecbd07ad56199892d\"}}, \"publishing_house\": {\"name\": \"彩虹网络有限公司\", \"address\": \"宁夏回族自治区宁德市海港刘路j座 117099\"}, \"seller\": {\"$ref\": \"seller\", \"$id\": {\"$oid\": \"64087c7ecbd07ad56199892c\"}}, \"tag\": [\"根据\", \"内容\"]}'"
      ]
     },
     "execution_count": 18,
     "metadata": {},
     "output_type": "execute_result"
    }
   ],
   "source": [
    "# 查询出 嵌入式文档 不包含 publishing_house__phone  的文档\n",
    "# 由于两批添加数据的差异， 不包含phone, 即包含 address\n",
    "querySet3.first().to_json(ensure_ascii=False)"
   ]
  },
  {
   "cell_type": "markdown",
   "id": "12e0b7fc-60ef-4f48-af9f-b8e54a2ccffb",
   "metadata": {},
   "source": [
    "#### all 查询， \n",
    "提供的列表值 被包含在 文档的列表字段中； 是 in(单一值) 的相反；"
   ]
  },
  {
   "cell_type": "code",
   "execution_count": 2,
   "id": "0179db40-92fe-4a49-aba9-83465467872e",
   "metadata": {},
   "outputs": [
    {
     "data": {
      "text/plain": [
       "'{\"_id\": {\"$oid\": \"6408686b248d96a15f6ff2e4\"}, \"bookid\": \"wx0927615ssr\", \"name\": \"大学\", \"ifnewbook\": false, \"shelves_date\": {\"$date\": 1608422400000}, \"author\": {\"$oid\": \"6408686b248d96a15f6ff2e2\"}, \"author_email\": \"zengzi@qq.com\", \"price\": 10.8, \"book_type\": {\"$ref\": \"book_type\", \"$id\": {\"$oid\": \"63fcd4f21be34fe2c671fb44\"}}, \"publishing_house\": {\"name\": \"人民教育出版社\", \"phone\": \"120934876\"}, \"seller\": {\"$ref\": \"seller\", \"$id\": {\"$oid\": \"6408686b248d96a15f6ff2e3\"}}, \"tag\": [\"历史\", \"经典\", \"必读\"]}'"
      ]
     },
     "execution_count": 2,
     "metadata": {},
     "output_type": "execute_result"
    }
   ],
   "source": [
    "BookAllField.objects(tag__all=[\"历史\", \"必读\"]).first().to_json(ensure_ascii=False)"
   ]
  },
  {
   "cell_type": "code",
   "execution_count": 3,
   "id": "840c1351-14ae-4b46-9226-08776f3ea55e",
   "metadata": {},
   "outputs": [
    {
     "data": {
      "text/plain": [
       "'{\"_id\": {\"$oid\": \"6408686b248d96a15f6ff2e4\"}, \"bookid\": \"wx0927615ssr\", \"name\": \"大学\", \"ifnewbook\": false, \"shelves_date\": {\"$date\": 1608422400000}, \"author\": {\"$oid\": \"6408686b248d96a15f6ff2e2\"}, \"author_email\": \"zengzi@qq.com\", \"price\": 10.8, \"book_type\": {\"$ref\": \"book_type\", \"$id\": {\"$oid\": \"63fcd4f21be34fe2c671fb44\"}}, \"publishing_house\": {\"name\": \"人民教育出版社\", \"phone\": \"120934876\"}, \"seller\": {\"$ref\": \"seller\", \"$id\": {\"$oid\": \"6408686b248d96a15f6ff2e3\"}}, \"tag\": [\"历史\", \"经典\", \"必读\"]}'"
      ]
     },
     "execution_count": 3,
     "metadata": {},
     "output_type": "execute_result"
    }
   ],
   "source": [
    "BookAllField.objects(tag__in=[\"历史\", \"必读\", \"经典\", \"武学\"]).first().to_json(ensure_ascii=False)"
   ]
  },
  {
   "cell_type": "markdown",
   "id": "4c72faab-52cb-43c1-94f9-712b3169315b",
   "metadata": {},
   "source": [
    "#### size查询"
   ]
  },
  {
   "cell_type": "code",
   "execution_count": 5,
   "id": "d3ee1ea0-1943-400f-9b22-afde74df0bb2",
   "metadata": {},
   "outputs": [
    {
     "data": {
      "text/plain": [
       "'{\"_id\": {\"$oid\": \"6408686b248d96a15f6ff2e4\"}, \"bookid\": \"wx0927615ssr\", \"name\": \"大学\", \"ifnewbook\": false, \"shelves_date\": {\"$date\": 1608422400000}, \"author\": {\"$oid\": \"6408686b248d96a15f6ff2e2\"}, \"author_email\": \"zengzi@qq.com\", \"price\": 10.8, \"book_type\": {\"$ref\": \"book_type\", \"$id\": {\"$oid\": \"63fcd4f21be34fe2c671fb44\"}}, \"publishing_house\": {\"name\": \"人民教育出版社\", \"phone\": \"120934876\"}, \"seller\": {\"$ref\": \"seller\", \"$id\": {\"$oid\": \"6408686b248d96a15f6ff2e3\"}}, \"tag\": [\"历史\", \"经典\", \"必读\"]}'"
      ]
     },
     "execution_count": 5,
     "metadata": {},
     "output_type": "execute_result"
    }
   ],
   "source": [
    "# 使用数组的长度查询\n",
    "BookAllField.objects(tag__size=3).first().to_json(ensure_ascii=False)"
   ]
  },
  {
   "cell_type": "code",
   "execution_count": 6,
   "id": "453dbefe-bae1-4c24-a962-58090b1ad178",
   "metadata": {},
   "outputs": [
    {
     "data": {
      "text/plain": [
       "'{\"_id\": {\"$oid\": \"6408686b248d96a15f6ff2e4\"}, \"bookid\": \"wx0927615ssr\", \"name\": \"大学\", \"ifnewbook\": false, \"shelves_date\": {\"$date\": 1608422400000}, \"author\": {\"$oid\": \"6408686b248d96a15f6ff2e2\"}, \"author_email\": \"zengzi@qq.com\", \"price\": 10.8, \"book_type\": {\"$ref\": \"book_type\", \"$id\": {\"$oid\": \"63fcd4f21be34fe2c671fb44\"}}, \"publishing_house\": {\"name\": \"人民教育出版社\", \"phone\": \"120934876\"}, \"seller\": {\"$ref\": \"seller\", \"$id\": {\"$oid\": \"6408686b248d96a15f6ff2e3\"}}, \"tag\": [\"历史\", \"经典\", \"必读\"]}'"
      ]
     },
     "execution_count": 6,
     "metadata": {},
     "output_type": "execute_result"
    }
   ],
   "source": [
    "BookAllField.objects(name=\"大学\").first().to_json(ensure_ascii=False)"
   ]
  }
 ],
 "metadata": {
  "kernelspec": {
   "display_name": "Python 3 (ipykernel)",
   "language": "python",
   "name": "python3"
  },
  "language_info": {
   "codemirror_mode": {
    "name": "ipython",
    "version": 3
   },
   "file_extension": ".py",
   "mimetype": "text/x-python",
   "name": "python",
   "nbconvert_exporter": "python",
   "pygments_lexer": "ipython3",
   "version": "3.10.6"
  }
 },
 "nbformat": 4,
 "nbformat_minor": 5
}
