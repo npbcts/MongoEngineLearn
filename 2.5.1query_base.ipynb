{
 "cells": [
  {
   "cell_type": "markdown",
   "id": "ef8caa70-b217-45cd-bfc7-db6ae821aa95",
   "metadata": {},
   "source": [
    "# 这是一个汇总文档"
   ]
  },
  {
   "cell_type": "markdown",
   "id": "d50810f0-0fbe-4217-bce8-34cde4e31224",
   "metadata": {},
   "source": [
    "## 文档的创建和实例"
   ]
  },
  {
   "cell_type": "code",
   "execution_count": 21,
   "id": "6a34be15-fcaa-44be-9fe0-9147752bb296",
   "metadata": {},
   "outputs": [],
   "source": [
    "from mongoengine import connect, disconnect\n",
    "from mongoengine import Document\n",
    "from mongoengine import StringField, IntField\n",
    "from mongo_config import TEST_DB1, TEST_DB2, TEST_DB3, HOST, PORT, USERNAME, PASSWORD\n",
    "from mongoengine import BooleanField, DateTimeField, DictField, EmailField, FloatField, ListField, ReferenceField\n",
    "from mongoengine import EmbeddedDocument, EmbeddedDocumentField, LazyReferenceField\n",
    "from datetime import datetime"
   ]
  },
  {
   "cell_type": "code",
   "execution_count": 2,
   "id": "79663e3f-877c-445b-95e9-123b77493037",
   "metadata": {},
   "outputs": [
    {
     "data": {
      "text/plain": [
       "MongoClient(host=['192.168.2.172:27017'], document_class=dict, tz_aware=False, connect=True, read_preference=Primary(), uuidrepresentation=3)"
      ]
     },
     "execution_count": 2,
     "metadata": {},
     "output_type": "execute_result"
    }
   ],
   "source": [
    "# 连接到已创建的数据库\n",
    "connect(TEST_DB1, host=HOST, port=PORT, username=USERNAME, password=PASSWORD, authentication_source=TEST_DB1, alias=TEST_DB1)\n",
    "connect(TEST_DB2, host=HOST, port=PORT, username=USERNAME, password=PASSWORD, authentication_source=TEST_DB2, alias=TEST_DB2)\n",
    "connect(TEST_DB3, host=HOST, port=PORT, username=USERNAME, password=PASSWORD, authentication_source=TEST_DB3, alias=TEST_DB3)"
   ]
  },
  {
   "cell_type": "markdown",
   "id": "6fbb1c20-654a-49c3-909e-e935381d0912",
   "metadata": {},
   "source": [
    "### 查询要使用的全字段文档"
   ]
  },
  {
   "cell_type": "code",
   "execution_count": 13,
   "id": "2a20474a-c51b-473f-8cb6-24f1f535f67d",
   "metadata": {},
   "outputs": [],
   "source": [
    "class BookType(Document):\n",
    "    type_name = StringField()\n",
    "    meta = {\"db_alias\": TEST_DB1}"
   ]
  },
  {
   "cell_type": "code",
   "execution_count": 4,
   "id": "ad5e75ef-ae1b-46d5-8d8d-b60d4a4be18d",
   "metadata": {},
   "outputs": [
    {
     "data": {
      "text/plain": [
       "<BookType: BookType object>"
      ]
     },
     "execution_count": 4,
     "metadata": {},
     "output_type": "execute_result"
    }
   ],
   "source": [
    "BookType(type_name=\"经济类\").save()\n",
    "BookType(type_name=\"文学类\").save()\n",
    "BookType(type_name=\"计算机\").save()"
   ]
  },
  {
   "cell_type": "code",
   "execution_count": 19,
   "id": "1d14d565-2e7e-4211-9b64-109dbf424fab",
   "metadata": {},
   "outputs": [],
   "source": [
    "class BookAuthor(Document):\n",
    "    name = StringField()\n",
    "    age = StringField()\n",
    "    meta = {\"db_alias\": TEST_DB1}"
   ]
  },
  {
   "cell_type": "code",
   "execution_count": 20,
   "id": "41554813-a669-4f78-ae9d-a52826deb5e4",
   "metadata": {},
   "outputs": [],
   "source": [
    "class Seller(Document):\n",
    "    name = StringField()\n",
    "    phone = StringField(regex=\"\\d\")\n",
    "    meta = {\"db_alias\": TEST_DB1}"
   ]
  },
  {
   "cell_type": "code",
   "execution_count": 23,
   "id": "bca1ad33-1529-4a6a-b758-968af44e74a1",
   "metadata": {},
   "outputs": [],
   "source": [
    "class PublishingHouse(EmbeddedDocument):\n",
    "    name =  StringField()\n",
    "    phone =  StringField()"
   ]
  },
  {
   "cell_type": "code",
   "execution_count": 27,
   "id": "741123d4-beb9-422a-b824-7436b35cb52a",
   "metadata": {},
   "outputs": [],
   "source": [
    "class BookAllField(Document):\n",
    "    bookid = StringField(unique=True)\n",
    "    name = StringField()\n",
    "    ifnewbook = BooleanField()  # 是否为新上架图书\n",
    "    shelves_date = DateTimeField()\n",
    "    author = ReferenceField(BookAuthor)  # 使引用字段执行其他集合\n",
    "    author_email = EmailField()\n",
    "    price = FloatField()\n",
    "    book_type = ReferenceField(BookType, dbref=True)  # 将引用ref文档\n",
    "    publishing_house = EmbeddedDocumentField(PublishingHouse)\n",
    "    seller = LazyReferenceField(Seller, dbref=True)\n",
    "    tag = ListField()\n",
    "    meta = {\"db_alias\": TEST_DB1}"
   ]
  },
  {
   "cell_type": "code",
   "execution_count": 28,
   "id": "3556e875-16cc-4f44-bbe1-1df8d7445111",
   "metadata": {},
   "outputs": [
    {
     "data": {
      "text/plain": [
       "<BookAllField: BookAllField object>"
      ]
     },
     "execution_count": 28,
     "metadata": {},
     "output_type": "execute_result"
    }
   ],
   "source": [
    "BookAllField(bookid=\"wx0927615ssr\", name = \"大学\", ifnewbook = False, \n",
    "        shelves_date = datetime.strptime(\"2020/12/20\",\"%Y/%m/%d\"),\n",
    "        price = 10.8, tag = [\"历史\", \"经典\"], author_email = \"zengzi@qq.com\",\n",
    "             author = BookAuthor(name=\"曾子\", age=\"春秋\").save(),\n",
    "             seller = Seller(name=\"当当书店\", phone=\"1288753\").save(),\n",
    "             book_type = BookType.objects(type_name=\"文学类\").first(),\n",
    "             publishing_house = PublishingHouse(name=\"人民教育出版社\", phone=\"120934876\")\n",
    "    ).save()"
   ]
  },
  {
   "cell_type": "code",
   "execution_count": 26,
   "id": "6c15656b-af9c-4a3f-bf5d-f9b6692f05dc",
   "metadata": {},
   "outputs": [
    {
     "data": {
      "text/plain": [
       "<BookAllField: BookAllField object>"
      ]
     },
     "execution_count": 26,
     "metadata": {},
     "output_type": "execute_result"
    }
   ],
   "source": [
    "BookAllField(bookid=\"wx09s15ssr\", name = \"中庸\", ifnewbook = False, \n",
    "        shelves_date = datetime.strptime(\"2020/11/20\",\"%Y/%m/%d\"),\n",
    "        price = 10.8, tag = [\"历史\", \"经典\"], author_email = \"zengzi@qq.com\",\n",
    "             author = BookAuthor(name=\"孔伋\", age=\"春秋\").save(),\n",
    "             seller = Seller(name=\"当当书店\", phone=\"128875ds3\").save(),\n",
    "             book_type = BookType.objects(type_name=\"文学类\").first(),\n",
    "             publishing_house = PublishingHouse(name=\"人民教育出版社\", phone=\"120934876\")\n",
    "    ).save()"
   ]
  },
  {
   "cell_type": "code",
   "execution_count": null,
   "id": "f5087a60-7663-409f-88c0-ca5a3c5702c3",
   "metadata": {},
   "outputs": [],
   "source": []
  }
 ],
 "metadata": {
  "kernelspec": {
   "display_name": "Python 3 (ipykernel)",
   "language": "python",
   "name": "python3"
  },
  "language_info": {
   "codemirror_mode": {
    "name": "ipython",
    "version": 3
   },
   "file_extension": ".py",
   "mimetype": "text/x-python",
   "name": "python",
   "nbconvert_exporter": "python",
   "pygments_lexer": "ipython3",
   "version": "3.10.6"
  }
 },
 "nbformat": 4,
 "nbformat_minor": 5
}
