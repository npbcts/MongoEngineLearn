{
 "cells": [
  {
   "cell_type": "markdown",
   "id": "ef8caa70-b217-45cd-bfc7-db6ae821aa95",
   "metadata": {},
   "source": [
    "# 这是一个汇总文档"
   ]
  },
  {
   "cell_type": "markdown",
   "id": "d50810f0-0fbe-4217-bce8-34cde4e31224",
   "metadata": {},
   "source": [
    "## 文档的创建和实例"
   ]
  },
  {
   "cell_type": "code",
   "execution_count": 1,
   "id": "6a34be15-fcaa-44be-9fe0-9147752bb296",
   "metadata": {
    "tags": []
   },
   "outputs": [],
   "source": [
    "from mongoengine import connect, disconnect\n",
    "from mongoengine import Document\n",
    "from mongoengine import StringField, IntField\n",
    "from mongo_config import TEST_DB1, TEST_DB2, TEST_DB3, HOST, PORT, USERNAME, PASSWORD\n",
    "from mongoengine import BooleanField, DateTimeField, DictField, EmailField, FloatField, ListField, ReferenceField\n",
    "from mongoengine import EmbeddedDocument, EmbeddedDocumentField, LazyReferenceField\n",
    "from datetime import datetime"
   ]
  },
  {
   "cell_type": "code",
   "execution_count": 2,
   "id": "79663e3f-877c-445b-95e9-123b77493037",
   "metadata": {
    "tags": []
   },
   "outputs": [
    {
     "data": {
      "text/plain": [
       "MongoClient(host=['192.168.2.172:27017'], document_class=dict, tz_aware=False, connect=True, read_preference=Primary(), authsource='engine_learn3', uuidrepresentation=3)"
      ]
     },
     "execution_count": 2,
     "metadata": {},
     "output_type": "execute_result"
    }
   ],
   "source": [
    "# 连接到已创建的数据库\n",
    "connect(TEST_DB1, host=HOST, port=PORT, username=USERNAME, password=PASSWORD, authentication_source=TEST_DB1, alias=TEST_DB1)\n",
    "connect(TEST_DB2, host=HOST, port=PORT, username=USERNAME, password=PASSWORD, authentication_source=TEST_DB2, alias=TEST_DB2)\n",
    "connect(TEST_DB3, host=HOST, port=PORT, username=USERNAME, password=PASSWORD, authentication_source=TEST_DB3, alias=TEST_DB3)"
   ]
  },
  {
   "cell_type": "markdown",
   "id": "6fbb1c20-654a-49c3-909e-e935381d0912",
   "metadata": {},
   "source": [
    "### 查询要使用的全字段文档"
   ]
  },
  {
   "cell_type": "code",
   "execution_count": 3,
   "id": "2a20474a-c51b-473f-8cb6-24f1f535f67d",
   "metadata": {
    "tags": []
   },
   "outputs": [],
   "source": [
    "class BookType(Document):\n",
    "    type_name = StringField()\n",
    "    meta = {\"db_alias\": TEST_DB1}"
   ]
  },
  {
   "cell_type": "code",
   "execution_count": 4,
   "id": "1d14d565-2e7e-4211-9b64-109dbf424fab",
   "metadata": {
    "tags": []
   },
   "outputs": [],
   "source": [
    "class BookAuthor(Document):\n",
    "    name = StringField(unique=True)\n",
    "    age = StringField()\n",
    "    meta = {\"db_alias\": TEST_DB1}"
   ]
  },
  {
   "cell_type": "code",
   "execution_count": 5,
   "id": "41554813-a669-4f78-ae9d-a52826deb5e4",
   "metadata": {
    "tags": []
   },
   "outputs": [],
   "source": [
    "class Seller(Document):\n",
    "    name = StringField(unique=True)\n",
    "    phone = StringField(regex=\"^\\d+\")\n",
    "    meta = {\"db_alias\": TEST_DB1}"
   ]
  },
  {
   "cell_type": "code",
   "execution_count": 6,
   "id": "bca1ad33-1529-4a6a-b758-968af44e74a1",
   "metadata": {
    "tags": []
   },
   "outputs": [],
   "source": [
    "class PublishingHouse(EmbeddedDocument):\n",
    "    name =  StringField(unique=True)\n",
    "    address =  StringField()"
   ]
  },
  {
   "cell_type": "code",
   "execution_count": 7,
   "id": "741123d4-beb9-422a-b824-7436b35cb52a",
   "metadata": {
    "tags": []
   },
   "outputs": [],
   "source": [
    "class BookAllField(Document):\n",
    "    bookid = StringField(unique=True)\n",
    "    name = StringField()\n",
    "    ifnewbook = BooleanField()  # 是否为新上架图书\n",
    "    shelves_date = DateTimeField()\n",
    "    author = ReferenceField(BookAuthor)  # 使引用字段执行其他集合\n",
    "    author_email = EmailField()\n",
    "    price = FloatField()\n",
    "    book_type = ReferenceField(BookType, dbref=True)  # 将引用ref文档\n",
    "    publishing_house = EmbeddedDocumentField(PublishingHouse)\n",
    "    seller = LazyReferenceField(Seller, dbref=True)\n",
    "    tag = ListField()\n",
    "    meta = {\"db_alias\": TEST_DB1}"
   ]
  },
  {
   "cell_type": "code",
   "execution_count": 16,
   "id": "9c5b9c5c-df48-456c-9304-79f1030ad187",
   "metadata": {
    "tags": []
   },
   "outputs": [],
   "source": [
    "from typing import List\n",
    "def create_book(\n",
    "        bookid: str, book_name: str, ifnewbook: bool, shelves_date: datetime, price: float, \n",
    "        tag: List[str], author_email: str, author_name: str,  author_age: str, \n",
    "        seller_name: str, seller_phone: str, book_type: str, publish_name: str, publish_address: str\n",
    "    ):\n",
    "    book = BookAllField(bookid=bookid, name = book_name, ifnewbook = ifnewbook, \n",
    "            shelves_date = shelves_date, price = price, tag = tag, author_email = author_email,\n",
    "            publishing_house = PublishingHouse(name=publish_name, address=publish_address)\n",
    "        )\n",
    "    \n",
    "    the_author = BookAuthor.objects(name=author_name).first()\n",
    "    if the_author is None:\n",
    "        the_author = BookAuthor(name=author_name, age=author_age).save()\n",
    "    book.author = the_author\n",
    "    \n",
    "    the_seller = Seller.objects(name=seller_name).first()\n",
    "    if the_seller is None:\n",
    "        the_seller = Seller(name=seller_name, phone=seller_phone).save()\n",
    "    book.seller = the_seller\n",
    "    \n",
    "    \n",
    "    the_book_type = BookType.objects(type_name=book_type).first()\n",
    "    if the_book_type is None:\n",
    "        the_book_type = BookType(type_name=book_type).save()\n",
    "    book.book_type = the_book_type\n",
    "     \n",
    "    book.save()"
   ]
  },
  {
   "cell_type": "code",
   "execution_count": 9,
   "id": "f5087a60-7663-409f-88c0-ca5a3c5702c3",
   "metadata": {
    "tags": []
   },
   "outputs": [],
   "source": [
    "# 模拟数据\n",
    "import random\n",
    "from faker import Faker\n",
    "fkdata = Faker([\"ZH_cn\"])"
   ]
  },
  {
   "cell_type": "code",
   "execution_count": 31,
   "id": "ebd4813c-bd29-406b-9b03-582036e985d3",
   "metadata": {
    "tags": []
   },
   "outputs": [
    {
     "data": {
      "text/plain": [
       "'谢秀梅'"
      ]
     },
     "execution_count": 31,
     "metadata": {},
     "output_type": "execute_result"
    }
   ],
   "source": [
    "# 模拟数据\n",
    "fkdata.name()\n",
    "fkdata.address()\n",
    "fkdata.phone_number()\n",
    "fkdata.company()\n",
    "fkdata.email()\n",
    "fkdata.date()\n",
    "fkdata.boolean()"
   ]
  },
  {
   "cell_type": "code",
   "execution_count": 11,
   "id": "6cce27ec-a40f-4940-b0ef-c69af08d447e",
   "metadata": {
    "tags": []
   },
   "outputs": [],
   "source": [
    "def random_create():\n",
    "    book_name = \"\".join(fkdata.words(random.randint(1, 3)))\n",
    "    create_book(\n",
    "            bookid=fkdata.ssn(), book_name=book_name, ifnewbook=fkdata.boolean(), shelves_date=fkdata.date(), price=random.randint(100, 20000)/100, \n",
    "            tag=fkdata.words(random.randint(1, 3)), author_email=fkdata.email(), author_name=fkdata.name(),  author_age=random.choice(dynasty.split(\"、\")), \n",
    "            seller_name=fkdata.company(), seller_phone=fkdata.phone_number(), book_type=fkdata.word(), publish_name=fkdata.company(), publish_address=fkdata.address()\n",
    "        )"
   ]
  },
  {
   "cell_type": "code",
   "execution_count": 10,
   "id": "4238c25a-ad4d-4304-9a36-4a2a23311e46",
   "metadata": {
    "tags": []
   },
   "outputs": [],
   "source": [
    "dynasty = \"夏朝、商朝、西周、东周、秦朝、西楚、西汉、新朝、玄汉、东汉、三国、曹魏、蜀汉、孙吴、西晋、东晋、十六国、南朝、刘宋、南齐、南梁、南陈、北朝、北魏、东魏、北齐、西魏、北周、隋朝、唐朝、武周、唐朝中后期、五代、后梁、后唐、后晋、后汉、后周、十国、南吴、南唐、前属、后属、南汉、南楚、吴越、闽国、荆国、北汉、北宋、南宋、辽朝、西夏、金朝、元朝、明朝、清朝\""
   ]
  },
  {
   "cell_type": "code",
   "execution_count": 20,
   "id": "2c5063ca-2ec7-4c37-a8c1-07d849f119bc",
   "metadata": {
    "tags": []
   },
   "outputs": [
    {
     "name": "stderr",
     "output_type": "stream",
     "text": [
      "100%|████████████████████████████████████████████████████████████████████████████| 10000/10000 [05:44<00:00, 29.03it/s]\n"
     ]
    }
   ],
   "source": [
    "from tqdm import tqdm\n",
    "for _ in tqdm(range(10000)):\n",
    "    random_create()"
   ]
  },
  {
   "cell_type": "code",
   "execution_count": 34,
   "id": "e56a4fff-8101-4f5c-b29e-42522a94b6a9",
   "metadata": {
    "tags": []
   },
   "outputs": [
    {
     "ename": "AttributeError",
     "evalue": "module 'sys' has no attribute 'setdefaultencoding'",
     "output_type": "error",
     "traceback": [
      "\u001b[1;31m---------------------------------------------------------------------------\u001b[0m",
      "\u001b[1;31mAttributeError\u001b[0m                            Traceback (most recent call last)",
      "Cell \u001b[1;32mIn[34], line 5\u001b[0m\n\u001b[0;32m      3\u001b[0m stdi, stdo, stde \u001b[38;5;241m=\u001b[39m sys\u001b[38;5;241m.\u001b[39mstdin, sys\u001b[38;5;241m.\u001b[39mstdout, sys\u001b[38;5;241m.\u001b[39mstderr\n\u001b[0;32m      4\u001b[0m reload(sys)\n\u001b[1;32m----> 5\u001b[0m \u001b[43msys\u001b[49m\u001b[38;5;241;43m.\u001b[39;49m\u001b[43msetdefaultencoding\u001b[49m(\u001b[38;5;124m'\u001b[39m\u001b[38;5;124mutf-8\u001b[39m\u001b[38;5;124m'\u001b[39m)\n\u001b[0;32m      6\u001b[0m sys\u001b[38;5;241m.\u001b[39mstdin, sys\u001b[38;5;241m.\u001b[39mstdout, sys\u001b[38;5;241m.\u001b[39mstderr \u001b[38;5;241m=\u001b[39m stdi, stdo, stde\n",
      "\u001b[1;31mAttributeError\u001b[0m: module 'sys' has no attribute 'setdefaultencoding'"
     ]
    }
   ],
   "source": [
    "import sys\n",
    "from importlib import reload\n",
    "stdi, stdo, stde = sys.stdin, sys.stdout, sys.stderr\n",
    "reload(sys)\n",
    "sys.setdefaultencoding('utf-8')\n",
    "sys.stdin, sys.stdout, sys.stderr = stdi, stdo, stde"
   ]
  },
  {
   "cell_type": "markdown",
   "id": "7b494343-08c8-42cc-b0f2-e4906ffc4999",
   "metadata": {},
   "source": [
    "### 基本查询-过滤查询\n",
    "\n",
    "The query may be filtered by calling the `QuerySet` object with field lookup keyword arguments. The keys in the keyword arguments correspond to fields on the Document you are querying:"
   ]
  },
  {
   "cell_type": "code",
   "execution_count": 27,
   "id": "9cf5da48-0c23-42c9-9b52-84e5d33ea93f",
   "metadata": {
    "tags": []
   },
   "outputs": [],
   "source": [
    "books = BookAllField.objects(name=\"支持这种\")"
   ]
  },
  {
   "cell_type": "code",
   "execution_count": 31,
   "id": "c2017562-5ff4-42e1-a920-5d5fb17d9aae",
   "metadata": {
    "tags": []
   },
   "outputs": [
    {
     "name": "stdout",
     "output_type": "stream",
     "text": [
      "{\"_id\": {\"$oid\": \"64087d72cbd07ad5619989b5\"}, \"bookid\": \"511600193907182680\", \"name\": \"\\u652f\\u6301\\u8fd9\\u79cd\", \"ifnewbook\": true, \"shelves_date\": {\"$date\": 42854400000}, \"author\": {\"$oid\": \"64087d72cbd07ad5619989b2\"}, \"author_email\": \"luojuan@example.org\", \"price\": 55.46, \"book_type\": {\"$ref\": \"book_type\", \"$id\": {\"$oid\": \"64087d72cbd07ad5619989b4\"}}, \"publishing_house\": {\"name\": \"\\u6234\\u7855\\u7535\\u5b50\\u79d1\\u6280\\u6709\\u9650\\u516c\\u53f8\", \"address\": \"\\u9655\\u897f\\u7701\\u6dd1\\u5170\\u5e02\\u5408\\u5ddd\\u6f6e\\u5dde\\u8defT\\u5ea7 131033\"}, \"seller\": {\"$ref\": \"seller\", \"$id\": {\"$oid\": \"64087d72cbd07ad5619989b3\"}}, \"tag\": [\"\\u5305\\u62ec\", \"\\u5176\\u4ed6\"]}\n"
     ]
    }
   ],
   "source": [
    "for book in books:\n",
    "    print(book.to_json())"
   ]
  },
  {
   "cell_type": "code",
   "execution_count": 29,
   "id": "7ddb92f9-ce0a-40eb-a9c0-c495eb2b2b8b",
   "metadata": {
    "tags": []
   },
   "outputs": [
    {
     "data": {
      "text/plain": [
       "\u001b[1;31mSignature:\u001b[0m \u001b[0mbook\u001b[0m\u001b[1;33m.\u001b[0m\u001b[0mto_json\u001b[0m\u001b[1;33m(\u001b[0m\u001b[1;33m*\u001b[0m\u001b[0margs\u001b[0m\u001b[1;33m,\u001b[0m \u001b[1;33m**\u001b[0m\u001b[0mkwargs\u001b[0m\u001b[1;33m)\u001b[0m\u001b[1;33m\u001b[0m\u001b[1;33m\u001b[0m\u001b[0m\n",
       "\u001b[1;31mDocstring:\u001b[0m\n",
       "Convert this document to JSON.\n",
       "\n",
       ":param use_db_field: Serialize field names as they appear in\n",
       "    MongoDB (as opposed to attribute names on this document).\n",
       "    Defaults to True.\n",
       "\u001b[1;31mFile:\u001b[0m      c:\\users\\kent\\appdata\\local\\packages\\pythonsoftwarefoundation.python.3.8_qbz5n2kfra8p0\\localcache\\local-packages\\python38\\site-packages\\mongoengine\\base\\document.py\n",
       "\u001b[1;31mType:\u001b[0m      method"
      ]
     },
     "metadata": {},
     "output_type": "display_data"
    }
   ],
   "source": [
    "book.to_json?"
   ]
  }
 ],
 "metadata": {
  "kernelspec": {
   "display_name": "Python 3 (ipykernel)",
   "language": "python",
   "name": "python3"
  },
  "language_info": {
   "codemirror_mode": {
    "name": "ipython",
    "version": 3
   },
   "file_extension": ".py",
   "mimetype": "text/x-python",
   "name": "python",
   "nbconvert_exporter": "python",
   "pygments_lexer": "ipython3",
   "version": "3.8.10"
  }
 },
 "nbformat": 4,
 "nbformat_minor": 5
}
