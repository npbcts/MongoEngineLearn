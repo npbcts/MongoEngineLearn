{
 "cells": [
  {
   "cell_type": "markdown",
   "id": "ef8caa70-b217-45cd-bfc7-db6ae821aa95",
   "metadata": {},
   "source": [
    "# 基本查询操作"
   ]
  },
  {
   "cell_type": "markdown",
   "id": "d50810f0-0fbe-4217-bce8-34cde4e31224",
   "metadata": {},
   "source": [
    "## 文档的创建和实例"
   ]
  },
  {
   "cell_type": "code",
   "execution_count": 2,
   "id": "6a34be15-fcaa-44be-9fe0-9147752bb296",
   "metadata": {
    "tags": []
   },
   "outputs": [
    {
     "data": {
      "text/plain": [
       "MongoClient(host=['192.168.2.172:27017'], document_class=dict, tz_aware=False, connect=True, read_preference=Primary(), uuidrepresentation=3)"
      ]
     },
     "execution_count": 2,
     "metadata": {},
     "output_type": "execute_result"
    }
   ],
   "source": [
    "from mongoengine import connect, disconnect\n",
    "from mongoengine import Document\n",
    "from mongoengine import StringField, IntField\n",
    "from mongo_config import TEST_DB1, TEST_DB2, TEST_DB3, HOST, PORT, USERNAME, PASSWORD\n",
    "from mongoengine import BooleanField, DateTimeField, DictField, EmailField, FloatField, ListField, ReferenceField\n",
    "from mongoengine import EmbeddedDocument, EmbeddedDocumentField, LazyReferenceField\n",
    "from datetime import datetime\n",
    "# 连接到已创建的数据库\n",
    "connect(TEST_DB1, host=HOST, port=PORT, username=USERNAME, password=PASSWORD, authentication_source=TEST_DB1, alias=TEST_DB1)\n",
    "connect(TEST_DB2, host=HOST, port=PORT, username=USERNAME, password=PASSWORD, authentication_source=TEST_DB2, alias=TEST_DB2)\n",
    "connect(TEST_DB3, host=HOST, port=PORT, username=USERNAME, password=PASSWORD, authentication_source=TEST_DB3, alias=TEST_DB3)"
   ]
  },
  {
   "cell_type": "markdown",
   "id": "6fbb1c20-654a-49c3-909e-e935381d0912",
   "metadata": {},
   "source": [
    "### 建立查询要使用的全字段文档"
   ]
  },
  {
   "cell_type": "code",
   "execution_count": 3,
   "id": "2a20474a-c51b-473f-8cb6-24f1f535f67d",
   "metadata": {
    "tags": []
   },
   "outputs": [],
   "source": [
    "class BookType(Document):\n",
    "    type_name = StringField()\n",
    "    meta = {\"db_alias\": TEST_DB1}"
   ]
  },
  {
   "cell_type": "code",
   "execution_count": 4,
   "id": "1d14d565-2e7e-4211-9b64-109dbf424fab",
   "metadata": {
    "tags": []
   },
   "outputs": [],
   "source": [
    "class BookAuthor(Document):\n",
    "    name = StringField(unique=True)\n",
    "    age = StringField()\n",
    "    meta = {\"db_alias\": TEST_DB1}"
   ]
  },
  {
   "cell_type": "code",
   "execution_count": 9,
   "id": "41554813-a669-4f78-ae9d-a52826deb5e4",
   "metadata": {
    "tags": []
   },
   "outputs": [],
   "source": [
    "class Seller(Document):\n",
    "    name = StringField()\n",
    "    phone = StringField(regex=\"^\\d+\")\n",
    "    meta = {\"db_alias\": TEST_DB1}"
   ]
  },
  {
   "cell_type": "code",
   "execution_count": 65,
   "id": "bca1ad33-1529-4a6a-b758-968af44e74a1",
   "metadata": {
    "tags": []
   },
   "outputs": [],
   "source": [
    "class PublishingHouse(EmbeddedDocument):\n",
    "    name =  StringField()  # unique=True,注意范围\n",
    "    address =  StringField()"
   ]
  },
  {
   "cell_type": "code",
   "execution_count": 7,
   "id": "741123d4-beb9-422a-b824-7436b35cb52a",
   "metadata": {
    "tags": []
   },
   "outputs": [],
   "source": [
    "class BookAllField(Document):\n",
    "    bookid = StringField(unique=True)\n",
    "    name = StringField()\n",
    "    ifnewbook = BooleanField()  # 是否为新上架图书\n",
    "    shelves_date = DateTimeField()\n",
    "    author = ReferenceField(BookAuthor)  # 使引用字段执行其他集合\n",
    "    author_email = EmailField()\n",
    "    price = FloatField()\n",
    "    book_type = ReferenceField(BookType, dbref=True)  # 将引用ref文档\n",
    "    publishing_house = EmbeddedDocumentField(PublishingHouse)\n",
    "    seller = LazyReferenceField(Seller, dbref=True)\n",
    "    tag = ListField()\n",
    "    meta = {\"db_alias\": TEST_DB1}"
   ]
  },
  {
   "cell_type": "code",
   "execution_count": 16,
   "id": "9c5b9c5c-df48-456c-9304-79f1030ad187",
   "metadata": {
    "tags": []
   },
   "outputs": [],
   "source": [
    "from typing import List\n",
    "def create_book(\n",
    "        bookid: str, book_name: str, ifnewbook: bool, shelves_date: datetime, price: float, \n",
    "        tag: List[str], author_email: str, author_name: str,  author_age: str, \n",
    "        seller_name: str, seller_phone: str, book_type: str, publish_name: str, publish_address: str\n",
    "    ):\n",
    "    book = BookAllField(bookid=bookid, name = book_name, ifnewbook = ifnewbook, \n",
    "            shelves_date = shelves_date, price = price, tag = tag, author_email = author_email,\n",
    "            publishing_house = PublishingHouse(name=publish_name, address=publish_address)\n",
    "        )\n",
    "    \n",
    "    the_author = BookAuthor.objects(name=author_name).first()\n",
    "    if the_author is None:\n",
    "        the_author = BookAuthor(name=author_name, age=author_age).save()\n",
    "    book.author = the_author\n",
    "    \n",
    "    the_seller = Seller.objects(name=seller_name).first()\n",
    "    if the_seller is None:\n",
    "        the_seller = Seller(name=seller_name, phone=seller_phone).save()\n",
    "    book.seller = the_seller\n",
    "    \n",
    "    \n",
    "    the_book_type = BookType.objects(type_name=book_type).first()\n",
    "    if the_book_type is None:\n",
    "        the_book_type = BookType(type_name=book_type).save()\n",
    "    book.book_type = the_book_type\n",
    "     \n",
    "    book.save()"
   ]
  },
  {
   "cell_type": "code",
   "execution_count": 9,
   "id": "f5087a60-7663-409f-88c0-ca5a3c5702c3",
   "metadata": {
    "tags": []
   },
   "outputs": [],
   "source": [
    "# 模拟数据\n",
    "import random\n",
    "from faker import Faker\n",
    "fkdata = Faker([\"ZH_cn\"])"
   ]
  },
  {
   "cell_type": "code",
   "execution_count": 31,
   "id": "ebd4813c-bd29-406b-9b03-582036e985d3",
   "metadata": {
    "tags": []
   },
   "outputs": [
    {
     "data": {
      "text/plain": [
       "'谢秀梅'"
      ]
     },
     "execution_count": 31,
     "metadata": {},
     "output_type": "execute_result"
    }
   ],
   "source": [
    "# 模拟数据\n",
    "fkdata.name()\n",
    "fkdata.address()\n",
    "fkdata.phone_number()\n",
    "fkdata.company()\n",
    "fkdata.email()\n",
    "fkdata.date()\n",
    "fkdata.boolean()"
   ]
  },
  {
   "cell_type": "code",
   "execution_count": 11,
   "id": "6cce27ec-a40f-4940-b0ef-c69af08d447e",
   "metadata": {
    "tags": []
   },
   "outputs": [],
   "source": [
    "def random_create():\n",
    "    book_name = \"\".join(fkdata.words(random.randint(1, 3)))\n",
    "    create_book(\n",
    "            bookid=fkdata.ssn(), book_name=book_name, ifnewbook=fkdata.boolean(), shelves_date=fkdata.date(), price=random.randint(100, 20000)/100, \n",
    "            tag=fkdata.words(random.randint(1, 3)), author_email=fkdata.email(), author_name=fkdata.name(),  author_age=random.choice(dynasty.split(\"、\")), \n",
    "            seller_name=fkdata.company(), seller_phone=fkdata.phone_number(), book_type=fkdata.word(), publish_name=fkdata.company(), publish_address=fkdata.address()\n",
    "        )"
   ]
  },
  {
   "cell_type": "code",
   "execution_count": 10,
   "id": "4238c25a-ad4d-4304-9a36-4a2a23311e46",
   "metadata": {
    "tags": []
   },
   "outputs": [],
   "source": [
    "dynasty = \"夏朝、商朝、西周、东周、秦朝、西楚、西汉、新朝、玄汉、东汉、三国、曹魏、蜀汉、孙吴、西晋、东晋、十六国、南朝、刘宋、南齐、南梁、南陈、北朝、北魏、东魏、北齐、西魏、北周、隋朝、唐朝、武周、唐朝中后期、五代、后梁、后唐、后晋、后汉、后周、十国、南吴、南唐、前属、后属、南汉、南楚、吴越、闽国、荆国、北汉、北宋、南宋、辽朝、西夏、金朝、元朝、明朝、清朝\""
   ]
  },
  {
   "cell_type": "code",
   "execution_count": 20,
   "id": "2c5063ca-2ec7-4c37-a8c1-07d849f119bc",
   "metadata": {
    "tags": []
   },
   "outputs": [
    {
     "name": "stderr",
     "output_type": "stream",
     "text": [
      "100%|████████████████████████████████████████████████████████████████████████████| 10000/10000 [05:44<00:00, 29.03it/s]\n"
     ]
    }
   ],
   "source": [
    "from tqdm import tqdm\n",
    "for _ in tqdm(range(10000)):\n",
    "    random_create()"
   ]
  },
  {
   "cell_type": "markdown",
   "id": "7b494343-08c8-42cc-b0f2-e4906ffc4999",
   "metadata": {},
   "source": [
    "### 基本查询-过滤查询\n",
    "\n",
    "The query may be filtered by calling the `QuerySet` object with field lookup keyword arguments. The keys in the keyword arguments correspond to fields on the Document you are querying:"
   ]
  },
  {
   "cell_type": "markdown",
   "id": "f1bd1bc7-9919-4467-afe5-5d7fbc96042a",
   "metadata": {},
   "source": [
    "#### 普通文档查询及获取引用文档"
   ]
  },
  {
   "cell_type": "code",
   "execution_count": 21,
   "id": "9cf5da48-0c23-42c9-9b52-84e5d33ea93f",
   "metadata": {
    "tags": []
   },
   "outputs": [
    {
     "data": {
      "text/plain": [
       "'{\"_id\": {\"$oid\": \"64087d72cbd07ad5619989b5\"}, \"bookid\": \"511600193907182680\", \"name\": \"支持这种\", \"ifnewbook\": true, \"shelves_date\": {\"$date\": 42854400000}, \"author\": {\"$oid\": \"64087d72cbd07ad5619989b2\"}, \"author_email\": \"luojuan@example.org\", \"price\": 55.46, \"book_type\": {\"$ref\": \"book_type\", \"$id\": {\"$oid\": \"64087d72cbd07ad5619989b4\"}}, \"publishing_house\": {\"name\": \"戴硕电子科技有限公司\", \"address\": \"陕西省淑兰市合川潮州路T座 131033\"}, \"seller\": {\"$ref\": \"seller\", \"$id\": {\"$oid\": \"64087d72cbd07ad5619989b3\"}}, \"tag\": [\"包括\", \"其他\"]}'"
      ]
     },
     "execution_count": 21,
     "metadata": {},
     "output_type": "execute_result"
    }
   ],
   "source": [
    "book1 = BookAllField.objects(name=\"支持这种\").first()\n",
    "book1.to_json(ensure_ascii=False)# to_json 使用json.dump的底层函数，因此可以使用json.dump配置"
   ]
  },
  {
   "cell_type": "code",
   "execution_count": 37,
   "id": "1b206344-2043-45c8-bf9a-b9826912c222",
   "metadata": {},
   "outputs": [
    {
     "data": {
      "text/plain": [
       "'{\"name\": \"戴硕电子科技有限公司\", \"address\": \"陕西省淑兰市合川潮州路T座 131033\"}'"
      ]
     },
     "execution_count": 37,
     "metadata": {},
     "output_type": "execute_result"
    }
   ],
   "source": [
    "# 直接获取嵌入式文档\n",
    "book1.publishing_house.to_json(ensure_ascii=False)"
   ]
  },
  {
   "cell_type": "code",
   "execution_count": 39,
   "id": "db0d6c90-ad12-413e-afd1-f9ad8ec38219",
   "metadata": {},
   "outputs": [
    {
     "data": {
      "text/plain": [
       "'{\"_id\": {\"$oid\": \"64087d72cbd07ad5619989b2\"}, \"name\": \"张彬\", \"age\": \"南朝\"}'"
      ]
     },
     "execution_count": 39,
     "metadata": {},
     "output_type": "execute_result"
    }
   ],
   "source": [
    "# 直接获取引用字段，无dbref\n",
    "book1.author.to_json(ensure_ascii=False)"
   ]
  },
  {
   "cell_type": "code",
   "execution_count": 42,
   "id": "ca27181e-7af2-487c-a762-f20a3f0dd130",
   "metadata": {},
   "outputs": [
    {
     "data": {
      "text/plain": [
       "'{\"_id\": {\"$oid\": \"64087d72cbd07ad5619989b4\"}, \"type_name\": \"帮助\"}'"
      ]
     },
     "execution_count": 42,
     "metadata": {},
     "output_type": "execute_result"
    }
   ],
   "source": [
    "# 直接获取引用字段，有dbref\n",
    "book1.book_type.to_json(ensure_ascii=False)"
   ]
  },
  {
   "cell_type": "code",
   "execution_count": 41,
   "id": "5418b16b-a78e-4363-8a22-d8afc9fb175a",
   "metadata": {},
   "outputs": [
    {
     "data": {
      "text/plain": [
       "'{\"_id\": {\"$oid\": \"64087d72cbd07ad5619989b3\"}, \"name\": \"兰金电子传媒有限公司\", \"phone\": \"18098307014\"}'"
      ]
     },
     "execution_count": 41,
     "metadata": {},
     "output_type": "execute_result"
    }
   ],
   "source": [
    "# 直接获取引用字段;LazyReferenceField 在不使用 .fetch() 在此查询的环境下，不能获取到引用的文档。\n",
    "book1.seller.fetch().to_json(ensure_ascii=False)"
   ]
  },
  {
   "cell_type": "code",
   "execution_count": 66,
   "id": "c2017562-5ff4-42e1-a920-5d5fb17d9aae",
   "metadata": {
    "tags": []
   },
   "outputs": [
    {
     "name": "stdout",
     "output_type": "stream",
     "text": [
      "{\"_id\": {\"$oid\": \"64087d72cbd07ad5619989b5\"}, \"bookid\": \"511600193907182680\", \"name\": \"支持这种\", \"ifnewbook\": true, \"shelves_date\": {\"$date\": 42854400000}, \"author\": {\"$oid\": \"64087d72cbd07ad5619989b2\"}, \"author_email\": \"luojuan@example.org\", \"price\": 55.46, \"book_type\": {\"$ref\": \"book_type\", \"$id\": {\"$oid\": \"64087d72cbd07ad5619989b4\"}}, \"publishing_house\": {\"name\": \"戴硕电子科技有限公司\", \"address\": \"陕西省淑兰市合川潮州路T座 131033\"}, \"seller\": {\"$ref\": \"seller\", \"$id\": {\"$oid\": \"64087d72cbd07ad5619989b3\"}}, \"tag\": [\"包括\", \"其他\"]}\n"
     ]
    }
   ],
   "source": [
    "books = BookAllField.objects(name=\"支持这种\")\n",
    "for book in books:\n",
    "    print(book.to_json(ensure_ascii=False))  \n",
    "# 实际上，由于 BookAllField 的 name 字段唯一，只能查询出一个文档"
   ]
  },
  {
   "cell_type": "markdown",
   "id": "24f3f286-46c5-4217-b0ae-566654c623b8",
   "metadata": {},
   "source": [
    "#### 嵌入式文档查询\n",
    "\n",
    "嵌入式文档上的字段也可以通过使用双下划线代替对象属性访问语法中的点来使用字段查找语法来引用"
   ]
  },
  {
   "cell_type": "code",
   "execution_count": 67,
   "id": "9bd4ab0a-563c-494d-828c-412cf82cb1ca",
   "metadata": {},
   "outputs": [],
   "source": [
    "# 嵌入式文档查询\n",
    "books3 = BookAllField.objects(publishing_house__name=\"戴硕电子科技有限公司\")\n",
    "# book3 数据类型为 QuerySet，使用具体方法查询对应的API"
   ]
  },
  {
   "cell_type": "code",
   "execution_count": 69,
   "id": "588f18cd-6b68-4c92-8716-ca0e511343db",
   "metadata": {},
   "outputs": [
    {
     "data": {
      "text/plain": [
       "'{\"_id\": {\"$oid\": \"64087d72cbd07ad5619989b5\"}, \"bookid\": \"511600193907182680\", \"name\": \"支持这种\", \"ifnewbook\": true, \"shelves_date\": {\"$date\": 42854400000}, \"author\": {\"$oid\": \"64087d72cbd07ad5619989b2\"}, \"author_email\": \"luojuan@example.org\", \"price\": 55.46, \"book_type\": {\"$ref\": \"book_type\", \"$id\": {\"$oid\": \"64087d72cbd07ad5619989b4\"}}, \"publishing_house\": {\"name\": \"戴硕电子科技有限公司\", \"address\": \"陕西省淑兰市合川潮州路T座 131033\"}, \"seller\": {\"$ref\": \"seller\", \"$id\": {\"$oid\": \"64087d72cbd07ad5619989b3\"}}, \"tag\": [\"包括\", \"其他\"]}'"
      ]
     },
     "execution_count": 69,
     "metadata": {},
     "output_type": "execute_result"
    }
   ],
   "source": [
    "books3.first().to_json(ensure_ascii=False)"
   ]
  },
  {
   "cell_type": "code",
   "execution_count": null,
   "id": "1b1518a7-5eff-41a5-a53a-420e7b6950a2",
   "metadata": {},
   "outputs": [],
   "source": [
    "for book in books3:  # book的数据类型: BookAllField object\n",
    "    print(book.name)# to_json 使用json.dump的底层函数，因此可以使用json.dump配置"
   ]
  },
  {
   "cell_type": "code",
   "execution_count": null,
   "id": "dd107207-9f1d-4e1c-ad0d-0ffb3d350454",
   "metadata": {},
   "outputs": [],
   "source": [
    "books3.to_json(ensure_ascii=False)"
   ]
  },
  {
   "cell_type": "markdown",
   "id": "7da0d3d5-f30e-4b25-ac9f-188e98ddccad",
   "metadata": {},
   "source": [
    "#### 原始查询"
   ]
  },
  {
   "cell_type": "code",
   "execution_count": 43,
   "id": "7ddb92f9-ce0a-40eb-a9c0-c495eb2b2b8b",
   "metadata": {
    "tags": []
   },
   "outputs": [],
   "source": [
    "# 原始查询返回的 数据类型为 QuerySet，使用具体方法查询对应的API\n",
    "books2 = BookAllField.objects(__raw__={\"publishing_house.name\": \"戴硕电子科技有限公司\"})\n",
    "for book in books2:\n",
    "    book.to_json(ensure_ascii=False)# to_json 使用json.dump的底层函数，因此可以使用json.dump配置"
   ]
  },
  {
   "cell_type": "code",
   "execution_count": null,
   "id": "74bbaa4f-c9ce-4a5e-a03d-c5a30f69b0ec",
   "metadata": {},
   "outputs": [],
   "source": [
    "books2.to_json(ensure_ascii=False)"
   ]
  },
  {
   "cell_type": "markdown",
   "id": "83e7142e-70e1-4b09-ab80-be2a0399fc61",
   "metadata": {},
   "source": [
    "#### 引用文档查询"
   ]
  },
  {
   "cell_type": "code",
   "execution_count": 89,
   "id": "839e982d-99ab-4fb3-9f37-8ca8e2d27f25",
   "metadata": {},
   "outputs": [],
   "source": [
    "# 先用关键字查询出被引用文档，再用被引用文档查询文档本身\n",
    "filter_author = BookAuthor.objects(name=\"张彬\")\n",
    "books3 = BookAllField.objects(author=filter_author.first())"
   ]
  },
  {
   "cell_type": "code",
   "execution_count": 91,
   "id": "7114aaf9-f4f6-453a-a33a-18dada75a44e",
   "metadata": {},
   "outputs": [
    {
     "data": {
      "text/plain": [
       "'[{\"_id\": {\"$oid\": \"64087d72cbd07ad5619989b5\"}, \"bookid\": \"511600193907182680\", \"name\": \"支持这种\", \"ifnewbook\": true, \"shelves_date\": {\"$date\": 42854400000}, \"author\": {\"$oid\": \"64087d72cbd07ad5619989b2\"}, \"author_email\": \"luojuan@example.org\", \"price\": 55.46, \"book_type\": {\"$ref\": \"book_type\", \"$id\": {\"$oid\": \"64087d72cbd07ad5619989b4\"}}, \"publishing_house\": {\"name\": \"戴硕电子科技有限公司\", \"address\": \"陕西省淑兰市合川潮州路T座 131033\"}, \"seller\": {\"$ref\": \"seller\", \"$id\": {\"$oid\": \"64087d72cbd07ad5619989b3\"}}, \"tag\": [\"包括\", \"其他\"]}, {\"_id\": {\"$oid\": \"64087df3cbd07ad56199aad8\"}, \"bookid\": \"510801200403013639\", \"name\": \"环境使用觉得\", \"ifnewbook\": false, \"shelves_date\": {\"$date\": 919382400000}, \"author\": {\"$oid\": \"64087d72cbd07ad5619989b2\"}, \"author_email\": \"liuyong@example.org\", \"price\": 53.57, \"book_type\": {\"$ref\": \"book_type\", \"$id\": {\"$oid\": \"64087d73cbd07ad561998a36\"}}, \"publishing_house\": {\"name\": \"飞利信科技有限公司\", \"address\": \"福建省福州市城东李路Q座 243722\"}, \"seller\": {\"$ref\": \"seller\", \"$id\": {\"$oid\": \"64087d7ccbd07ad561998db0\"}}, \"tag\": [\"今天\", \"提供\", \"拥有\"]}, {\"_id\": {\"$oid\": \"64087f45cbd07ad56199cbee\"}, \"bookid\": \"610600198411216862\", \"name\": \"欢迎下载公司\", \"ifnewbook\": true, \"shelves_date\": {\"$date\": 1987200000}, \"author\": {\"$oid\": \"64087d72cbd07ad5619989b2\"}, \"author_email\": \"chengjie@example.com\", \"price\": 40.89, \"book_type\": {\"$ref\": \"book_type\", \"$id\": {\"$oid\": \"64087d74cbd07ad561998a9b\"}}, \"publishing_house\": {\"name\": \"四通信息有限公司\", \"address\": \"天津市西宁县长寿通辽路G座 218831\"}, \"seller\": {\"$ref\": \"seller\", \"$id\": {\"$oid\": \"64087d75cbd07ad561998af7\"}}, \"tag\": [\"以下\", \"不同\", \"还有\"]}, {\"_id\": {\"$oid\": \"64087f85cbd07ad56199d60b\"}, \"bookid\": \"140226196307318367\", \"name\": \"主题\", \"ifnewbook\": true, \"shelves_date\": {\"$date\": 530668800000}, \"author\": {\"$oid\": \"64087d72cbd07ad5619989b2\"}, \"author_email\": \"jun28@example.org\", \"price\": 53.94, \"book_type\": {\"$ref\": \"book_type\", \"$id\": {\"$oid\": \"64087d77cbd07ad561998bc7\"}}, \"publishing_house\": {\"name\": \"巨奥信息有限公司\", \"address\": \"黑龙江省瑜县西夏上海路w座 322414\"}, \"seller\": {\"$ref\": \"seller\", \"$id\": {\"$oid\": \"64087d7ccbd07ad561998dc3\"}}, \"tag\": [\"没有\", \"提高\", \"内容\"]}, {\"_id\": {\"$oid\": \"64087fa0cbd07ad56199da25\"}, \"bookid\": \"513228194006239847\", \"name\": \"个人\", \"ifnewbook\": false, \"shelves_date\": {\"$date\": 705974400000}, \"author\": {\"$oid\": \"64087d72cbd07ad5619989b2\"}, \"author_email\": \"xiuyingqin@example.org\", \"price\": 42.12, \"book_type\": {\"$ref\": \"book_type\", \"$id\": {\"$oid\": \"64087d83cbd07ad561999042\"}}, \"publishing_house\": {\"name\": \"图龙信息网络有限公司\", \"address\": \"澳门特别行政区红梅市高明永安路F座 914163\"}, \"seller\": {\"$ref\": \"seller\", \"$id\": {\"$oid\": \"64087d8bcbd07ad5619992b3\"}}, \"tag\": [\"成为\", \"资源\", \"行业\"]}, {\"_id\": {\"$oid\": \"64087fa3cbd07ad56199dab6\"}, \"bookid\": \"62030219811219549X\", \"name\": \"程序自己关于\", \"ifnewbook\": false, \"shelves_date\": {\"$date\": 96854400000}, \"author\": {\"$oid\": \"64087d72cbd07ad5619989b2\"}, \"author_email\": \"alin@example.com\", \"price\": 169.34, \"book_type\": {\"$ref\": \"book_type\", \"$id\": {\"$oid\": \"64087d72cbd07ad5619989b0\"}}, \"publishing_house\": {\"name\": \"艾提科信科技有限公司\", \"address\": \"黑龙江省凤兰县长寿胡街i座 281827\"}, \"seller\": {\"$ref\": \"seller\", \"$id\": {\"$oid\": \"64087d75cbd07ad561998b20\"}}, \"tag\": [\"感觉\"]}, {\"_id\": {\"$oid\": \"64087fabcbd07ad56199dbea\"}, \"bookid\": \"43062319611226687X\", \"name\": \"电影\", \"ifnewbook\": false, \"shelves_date\": {\"$date\": 233798400000}, \"author\": {\"$oid\": \"64087d72cbd07ad5619989b2\"}, \"author_email\": \"apeng@example.com\", \"price\": 96.76, \"book_type\": {\"$ref\": \"book_type\", \"$id\": {\"$oid\": \"64087d79cbd07ad561998caa\"}}, \"publishing_house\": {\"name\": \"新宇龙信息网络有限公司\", \"address\": \"海南省建平县大兴贾街f座 765027\"}, \"seller\": {\"$ref\": \"seller\", \"$id\": {\"$oid\": \"64087d74cbd07ad561998a8a\"}}, \"tag\": [\"或者\", \"大学\", \"中国\"]}, {\"_id\": {\"$oid\": \"64087fd9cbd07ad56199e2da\"}, \"bookid\": \"230702196701188140\", \"name\": \"非常\", \"ifnewbook\": false, \"shelves_date\": {\"$date\": 885772800000}, \"author\": {\"$oid\": \"64087d72cbd07ad5619989b2\"}, \"author_email\": \"eyao@example.com\", \"price\": 148.8, \"book_type\": {\"$ref\": \"book_type\", \"$id\": {\"$oid\": \"64087d7bcbd07ad561998d49\"}}, \"publishing_house\": {\"name\": \"联通时科科技有限公司\", \"address\": \"广西壮族自治区建县西峰李街j座 118523\"}, \"seller\": {\"$ref\": \"seller\", \"$id\": {\"$oid\": \"64087d72cbd07ad5619989a3\"}}, \"tag\": [\"手机\"]}, {\"_id\": {\"$oid\": \"64088084cbd07ad56199fc68\"}, \"bookid\": \"43010419800429311X\", \"name\": \"加入不同公司\", \"ifnewbook\": false, \"shelves_date\": {\"$date\": 199411200000}, \"author\": {\"$oid\": \"64087d72cbd07ad5619989b2\"}, \"author_email\": \"gdong@example.net\", \"price\": 17.18, \"book_type\": {\"$ref\": \"book_type\", \"$id\": {\"$oid\": \"64087d88cbd07ad5619991dd\"}}, \"publishing_house\": {\"name\": \"超艺网络有限公司\", \"address\": \"黑龙江省磊县吉区佛山街Z座 438668\"}, \"seller\": {\"$ref\": \"seller\", \"$id\": {\"$oid\": \"64087d72cbd07ad561998970\"}}, \"tag\": [\"来源\"]}]'"
      ]
     },
     "execution_count": 91,
     "metadata": {},
     "output_type": "execute_result"
    }
   ],
   "source": [
    "books3.to_json(ensure_ascii=False)"
   ]
  }
 ],
 "metadata": {
  "kernelspec": {
   "display_name": "Python 3 (ipykernel)",
   "language": "python",
   "name": "python3"
  },
  "language_info": {
   "codemirror_mode": {
    "name": "ipython",
    "version": 3
   },
   "file_extension": ".py",
   "mimetype": "text/x-python",
   "name": "python",
   "nbconvert_exporter": "python",
   "pygments_lexer": "ipython3",
   "version": "3.10.6"
  }
 },
 "nbformat": 4,
 "nbformat_minor": 5
}
