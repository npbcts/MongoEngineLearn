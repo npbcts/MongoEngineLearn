{
 "cells": [
  {
   "cell_type": "markdown",
   "id": "d50810f0-0fbe-4217-bce8-34cde4e31224",
   "metadata": {},
   "source": [
    "## 文档的创建和实例"
   ]
  },
  {
   "cell_type": "code",
   "execution_count": 2,
   "id": "6a34be15-fcaa-44be-9fe0-9147752bb296",
   "metadata": {
    "tags": []
   },
   "outputs": [],
   "source": [
    "from mongoengine import connect, disconnect\n",
    "from mongoengine import Document\n",
    "from mongoengine import StringField, IntField\n",
    "from mongo_config import TEST_DB1, TEST_DB2, TEST_DB3, HOST, PORT, USERNAME, PASSWORD\n",
    "from mongoengine import BooleanField, DateTimeField, DictField, EmailField, FloatField, ListField, ReferenceField"
   ]
  },
  {
   "cell_type": "code",
   "execution_count": 3,
   "id": "79663e3f-877c-445b-95e9-123b77493037",
   "metadata": {
    "tags": []
   },
   "outputs": [
    {
     "data": {
      "text/plain": [
       "MongoClient(host=['192.168.2.172:27017'], document_class=dict, tz_aware=False, connect=True, read_preference=Primary(), authsource='engine_learn3', uuidrepresentation=3)"
      ]
     },
     "execution_count": 3,
     "metadata": {},
     "output_type": "execute_result"
    }
   ],
   "source": [
    "# 连接到已创建的数据库\n",
    "connect(TEST_DB1, host=HOST, port=PORT, username=USERNAME, password=PASSWORD, authentication_source=TEST_DB1, alias=TEST_DB1)\n",
    "connect(TEST_DB2, host=HOST, port=PORT, username=USERNAME, password=PASSWORD, authentication_source=TEST_DB2, alias=TEST_DB2)\n",
    "connect(TEST_DB3, host=HOST, port=PORT, username=USERNAME, password=PASSWORD, authentication_source=TEST_DB3, alias=TEST_DB3)"
   ]
  },
  {
   "cell_type": "markdown",
   "id": "13f295c7-0e2f-428f-87a7-5e0e6e6cc159",
   "metadata": {},
   "source": [
    "### 静态文档和动态文档"
   ]
  },
  {
   "cell_type": "code",
   "execution_count": 4,
   "id": "3fb220d1-30e9-4820-9177-c4e0cea3052e",
   "metadata": {
    "tags": []
   },
   "outputs": [],
   "source": [
    "# 继承自Document的文档\n",
    "class Book1(Document):\n",
    "    bookid = StringField()\n",
    "    name = StringField()\n",
    "    count = IntField()\n",
    "    meta = {\"db_alias\": TEST_DB1}"
   ]
  },
  {
   "cell_type": "code",
   "execution_count": 4,
   "id": "3f8449ae-faab-4c96-ad1b-e2b3273eb2ee",
   "metadata": {
    "tags": []
   },
   "outputs": [
    {
     "data": {
      "text/plain": [
       "<Book1: Book1 object>"
      ]
     },
     "execution_count": 4,
     "metadata": {},
     "output_type": "execute_result"
    }
   ],
   "source": [
    "# 在静态文档上添加文档中没有的字段,不会被保存在数据库集合的文档中；文档模型中存在的字段可以被保存\n",
    "book1 = Book1(bookid=\"wx000008\", name=\"西游记\", count=39)\n",
    "book1.type = \"文学著作\"\n",
    "book1.save()"
   ]
  },
  {
   "cell_type": "code",
   "execution_count": 5,
   "id": "93bd2947-9376-45cd-9fab-5141355ec879",
   "metadata": {
    "tags": []
   },
   "outputs": [
    {
     "data": {
      "text/plain": [
       "<BookDynamic: BookDynamic object>"
      ]
     },
     "execution_count": 5,
     "metadata": {},
     "output_type": "execute_result"
    }
   ],
   "source": [
    "# 动态文档, 可以在原有的数据模式上动态添加字段\n",
    "from mongoengine import DynamicDocument\n",
    "class BookDynamic(DynamicDocument):\n",
    "    bookid = StringField()\n",
    "    meta = {\"db_alias\": TEST_DB1}\n",
    "bookd = BookDynamic(bookid=\"wx09872\")\n",
    "bookd.tag = [\"小说\", \"经典著作\"]\n",
    "bookd.save()"
   ]
  },
  {
   "cell_type": "markdown",
   "id": "7b3f8a8a-8643-4cd5-86ae-0b4799f03930",
   "metadata": {},
   "source": [
    "### 关于修改文档类:\n",
    "前期建立的文档类(静态),并已经建立并使用，之后修改新增字段时，前期使用生成的文档字段中针对后期新增的部分为空值(非null值，而是字段不存在)。  \n",
    "在原有基础上操作修改后的文档类, 此时并不会报错。"
   ]
  },
  {
   "cell_type": "code",
   "execution_count": 10,
   "id": "9a8ca5e2-14d5-4b40-86f9-77a4e18c1537",
   "metadata": {
    "tags": []
   },
   "outputs": [],
   "source": [
    "# 修改原来的 Book1字段\n",
    "class Book1(Document):\n",
    "    bookid = StringField(unique=True)\n",
    "    name = StringField()\n",
    "    count = IntField()\n",
    "    author = StringField()\n",
    "    meta = {\"db_alias\": TEST_DB1}"
   ]
  },
  {
   "cell_type": "code",
   "execution_count": 12,
   "id": "d96df576-c44e-478f-ac1a-e176edc66a33",
   "metadata": {
    "tags": []
   },
   "outputs": [
    {
     "data": {
      "text/plain": [
       "<Book1: Book1 object>"
      ]
     },
     "execution_count": 12,
     "metadata": {},
     "output_type": "execute_result"
    }
   ],
   "source": [
    "Book1(name=\"红楼梦\", count=89, author=\"曹雪芹\").save()"
   ]
  },
  {
   "cell_type": "code",
   "execution_count": 7,
   "id": "d005a0a4-3f04-46a5-ae24-fef3bcf6dc68",
   "metadata": {
    "tags": []
   },
   "outputs": [
    {
     "data": {
      "text/plain": [
       "'[{\"_id\": {\"$oid\": \"63fec2db3ba566dfccb4e2a5\"}, \"bookid\": \"wx00swde\", \"name\": \"东游记\", \"count\": 20}, {\"_id\": {\"$oid\": \"640bf32d3018ab8dde81e564\"}, \"bookid\": \"wx000006\", \"name\": \"水浒传\", \"count\": 29}, {\"_id\": {\"$oid\": \"640bf3923018ab8dde81e565\"}, \"bookid\": \"wx000008\", \"name\": \"西游记\", \"count\": 39}, {\"_id\": {\"$oid\": \"640bf4513018ab8dde81e566\"}, \"bookid\": \"wx0000064f\", \"name\": \"红楼梦\", \"count\": 9, \"author\": \"曹雪芹\"}, {\"_id\": {\"$oid\": \"640bf6bd90a4848092913a1c\"}, \"bookid\": \"wx0000064f\", \"name\": \"红楼梦\", \"count\": 9, \"author\": \"曹雪芹\"}]'"
      ]
     },
     "execution_count": 7,
     "metadata": {},
     "output_type": "execute_result"
    }
   ],
   "source": [
    "Book1.objects.to_json(ensure_ascii=False)"
   ]
  },
  {
   "cell_type": "markdown",
   "id": "3f1c7ef0-d4d3-4adf-a99a-59a3df3d5cb9",
   "metadata": {},
   "source": [
    "### 创建文档实例\n",
    "\n",
    "To create a new document object, create an instance of the relevant document class, providing values for its fields as constructor keyword arguments. You may provide values for any of the fields on the document:"
   ]
  },
  {
   "cell_type": "markdown",
   "id": "6db8d2de-dd6c-4717-9400-2607fb86dc17",
   "metadata": {},
   "source": [
    "### 保存文档的方法\n",
    "\n",
    "`Book1(bookid=\"wx00swde\", name=\"东游记\", count=9).save()`\n",
    "\n",
    "MongoEngine tracks changes to documents to provide efficient saving. To save the document\n",
    "to the database, call the save() method. If the document does not exist in the database, it\n",
    "will be created. **If it does already exist, then any changes will be updated atomically**.\n",
    "\n",
    "已存在保存的正确使用: 需要在保存文档时使用 primary_key, 或 _id 字段值，否则无法判断文档是否已存在。\n",
    "或者使用objects查询出的文档，修改后再保存即为更新。"
   ]
  },
  {
   "cell_type": "code",
   "execution_count": 15,
   "id": "15310e47-33f9-481b-b4f4-f593a405f938",
   "metadata": {},
   "outputs": [],
   "source": [
    "# 保存新文档;此时调用Book1类创建了一个新文档，即使内容和已有的文档一致，也会被作为一个新文档保存。\n",
    "book_dyj = Book1(bookid=\"wx00swde\", name=\"东游记\", count=9).save()"
   ]
  },
  {
   "cell_type": "code",
   "execution_count": 17,
   "id": "63041543-1327-4df6-b179-fb1dfae7ae8c",
   "metadata": {},
   "outputs": [],
   "source": [
    "# 查询出已存在的文档，修改属性值后保存，即是更新了原有文档\n",
    "book_dyj_doc = Book1.objects(name=\"东游记\").first()"
   ]
  },
  {
   "cell_type": "code",
   "execution_count": 20,
   "id": "83261366-d6b0-4c57-aa03-3504b5887095",
   "metadata": {},
   "outputs": [
    {
     "data": {
      "text/plain": [
       "<Book1: Book1 object>"
      ]
     },
     "execution_count": 20,
     "metadata": {},
     "output_type": "execute_result"
    }
   ],
   "source": [
    "book_dyj.count = 20\n",
    "book_dyj.save()\n",
    "# 保存后，原文档的数量已经发生变化"
   ]
  },
  {
   "cell_type": "markdown",
   "id": "f4b55336-f290-485b-b1b4-d35f70767dd6",
   "metadata": {},
   "source": [
    "### 2.4.1.1. Cascading Saves(级联保存)\n",
    "\n",
    "`Document.cascade_save(**kwargs)`: Recursively save any references and generic references on the document.\n",
    "\n",
    "If your document contains `ReferenceField` or `GenericReferenceField` objects, then by default the `save()` method will **not save any changes to those objects**. If you want all references to be saved also, noting each save is a separate query, then passing `cascade` as True to the save method will cascade any saves.\n",
    "\n",
    "译文:  \n",
    "如果您的文档包含`ReferenceField` or `GenericReferenceField`对象，则默认情况下该  `save()` 方法**不会保存对这些对象的任何更改**。如果您还希望保存所有引用，请注意每次保存都是一个单独的查询，然后将 `True` 传递给保存方法将级联任何保存。"
   ]
  },
  {
   "cell_type": "markdown",
   "id": "6e4488f1-3da7-49b5-a2e6-b88b706132d2",
   "metadata": {},
   "source": [
    "### 删除文档的方法\n",
    "\n",
    "`Book1.objects(name=\"西游记\").delete()`"
   ]
  },
  {
   "cell_type": "code",
   "execution_count": 6,
   "id": "de0003ea-6529-4a81-98eb-894f3777aba8",
   "metadata": {},
   "outputs": [
    {
     "data": {
      "text/plain": [
       "<Book1: Book1 object>"
      ]
     },
     "execution_count": 6,
     "metadata": {},
     "output_type": "execute_result"
    }
   ],
   "source": [
    "Book1(bookid=\"wx00000de\", name=\"西游记\", count=59).save()"
   ]
  },
  {
   "cell_type": "code",
   "execution_count": 9,
   "id": "54b0e753-c1a8-481c-b803-827463fa602c",
   "metadata": {},
   "outputs": [
    {
     "data": {
      "text/plain": [
       "<Book1: Book1 object>"
      ]
     },
     "execution_count": 9,
     "metadata": {},
     "output_type": "execute_result"
    }
   ],
   "source": [
    "Book1.objects(name=\"西游记\").first()\n",
    "# 查询结果如下"
   ]
  },
  {
   "cell_type": "code",
   "execution_count": 10,
   "id": "647c5833-bd3e-41b3-a954-7617d92cc550",
   "metadata": {},
   "outputs": [
    {
     "data": {
      "text/plain": [
       "1"
      ]
     },
     "execution_count": 10,
     "metadata": {},
     "output_type": "execute_result"
    }
   ],
   "source": [
    "Book1.objects(name=\"西游记\").delete()\n",
    "# 删除文档后，返回数量1"
   ]
  },
  {
   "cell_type": "code",
   "execution_count": 11,
   "id": "6cc2ccd4-cefd-4985-8b0a-1a55740ec105",
   "metadata": {},
   "outputs": [],
   "source": [
    "Book1.objects(name=\"西游记\").first()\n",
    "# 再次查询后不返回结果"
   ]
  },
  {
   "cell_type": "code",
   "execution_count": 12,
   "id": "712bfaac-b38d-46a7-abb4-7415eed6bb20",
   "metadata": {},
   "outputs": [
    {
     "data": {
      "text/plain": [
       "0"
      ]
     },
     "execution_count": 12,
     "metadata": {},
     "output_type": "execute_result"
    }
   ],
   "source": [
    "Book1.objects(name=\"西游记\").delete()\n",
    "# 删除不存在的文档，返回 0"
   ]
  },
  {
   "cell_type": "code",
   "execution_count": 13,
   "id": "71809b17-a912-46a6-890a-656defe9f672",
   "metadata": {},
   "outputs": [
    {
     "name": "stdout",
     "output_type": "stream",
     "text": [
      "None\n"
     ]
    }
   ],
   "source": [
    "res = Book1.objects(name=\"西游记\").first()\n",
    "print(res)  # 查询不存在的文档，返回 None"
   ]
  },
  {
   "cell_type": "markdown",
   "id": "2985dde9-13eb-4844-b5d6-a8c9af5d79cc",
   "metadata": {},
   "source": [
    "### 集合 2.3.4. Document collections"
   ]
  },
  {
   "cell_type": "markdown",
   "id": "a65d9d7c-be6d-4b2f-b333-4ba99819ea54",
   "metadata": {},
   "source": [
    "Document classes that inherit directly from `Document` will have their own collection in the database. The name of the collection is by **default the name of the class converted to `snake_case`** (e.g if your Document class is named *CompanyUser*, the corresponding collection would be *company_user*). \n",
    "\n",
    "If you need to change the name of the collection (e.g. to use MongoEngine with an existing database), then create a class dictionary attribute called `meta` on your document, and set collection to the name of the `collection` that you want your document class to use:\n",
    "\n",
    "```python\n",
    "class Page(Document):\n",
    "    title = StringField(max_length=200, required=True)\n",
    "    meta = {'collection': 'cmsPage'}\n",
    "```\n",
    "\n",
    "**总结**\n",
    "\n",
    "- 默认的集合名是文档的类名变化而来， 类似的命名规则为: *CompanyUser* -> *company_user*\n",
    "- 如果想修改集合名称，可以在创建类时 使用 `meta = {'collection': 'cmsPage'}`"
   ]
  },
  {
   "cell_type": "markdown",
   "id": "cfeec782-b58c-43ae-ad27-fb9231674cbe",
   "metadata": {
    "tags": []
   },
   "source": [
    "### 2.3.6 默认排序\n",
    "\n",
    "ordering, 在meta中设置`QuerySet`结果以某一字段默认排序  \n",
    "A *default ordering* can be specified for your `QuerySet` using the `ordering` attribute of `meta`. Ordering will be applied when the `QuerySet` is created, and can be overridden by subsequent calls to `order_by()`."
   ]
  },
  {
   "cell_type": "code",
   "execution_count": 27,
   "id": "03eb36c6-ac34-44bb-bcf8-b70ac0dbdfd6",
   "metadata": {},
   "outputs": [
    {
     "data": {
      "text/plain": [
       "<BookOrdering: BookOrdering object>"
      ]
     },
     "execution_count": 27,
     "metadata": {},
     "output_type": "execute_result"
    }
   ],
   "source": [
    "# 继承自Document的文档\n",
    "class BookOrdering(Document):\n",
    "    bookid = StringField()\n",
    "    name = StringField()\n",
    "    count = IntField()\n",
    "    meta = {\n",
    "        \"db_alias\": TEST_DB1,\n",
    "        'ordering': ['+count']  # +： 升序排列，第一个最小； -： 降序排列， 第一个最大\n",
    "    }\n",
    "BookOrdering(bookid=\"wx000006\", name=\"水浒传\", count=29).save()\n",
    "BookOrdering(bookid=\"wx000007\", name=\"三国演绎\", count=9).save()\n",
    "BookOrdering(bookid=\"wx000007\", name=\"红楼梦\", count=109).save()"
   ]
  },
  {
   "cell_type": "code",
   "execution_count": 28,
   "id": "28a882b0-c072-4809-a159-90ad08c8cd02",
   "metadata": {},
   "outputs": [
    {
     "data": {
      "text/plain": [
       "'[{\"_id\": {\"$oid\": \"63ff4b583ba566dfccb4e2aa\"}, \"bookid\": \"wx000007\", \"name\": \"\\\\u4e09\\\\u56fd\\\\u6f14\\\\u7ece\", \"count\": 9}, {\"_id\": {\"$oid\": \"63ff4b583ba566dfccb4e2a9\"}, \"bookid\": \"wx000006\", \"name\": \"\\\\u6c34\\\\u6d52\\\\u4f20\", \"count\": 29}, {\"_id\": {\"$oid\": \"63ff4b583ba566dfccb4e2ab\"}, \"bookid\": \"wx000007\", \"name\": \"\\\\u7ea2\\\\u697c\\\\u68a6\", \"count\": 109}]'"
      ]
     },
     "execution_count": 28,
     "metadata": {},
     "output_type": "execute_result"
    }
   ],
   "source": [
    "BookOrdering.objects.to_json()"
   ]
  }
 ],
 "metadata": {
  "kernelspec": {
   "display_name": "Python 3 (ipykernel)",
   "language": "python",
   "name": "python3"
  },
  "language_info": {
   "codemirror_mode": {
    "name": "ipython",
    "version": 3
   },
   "file_extension": ".py",
   "mimetype": "text/x-python",
   "name": "python",
   "nbconvert_exporter": "python",
   "pygments_lexer": "ipython3",
   "version": "3.10.6"
  }
 },
 "nbformat": 4,
 "nbformat_minor": 5
}
