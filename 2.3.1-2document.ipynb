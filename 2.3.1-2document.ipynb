{
 "cells": [
  {
   "cell_type": "markdown",
   "id": "d50810f0-0fbe-4217-bce8-34cde4e31224",
   "metadata": {},
   "source": [
    "## 文档的创建和实例"
   ]
  },
  {
   "cell_type": "code",
   "execution_count": 2,
   "id": "6a34be15-fcaa-44be-9fe0-9147752bb296",
   "metadata": {},
   "outputs": [],
   "source": [
    "from mongoengine import connect, disconnect\n",
    "from mongoengine import Document\n",
    "from mongoengine import StringField, IntField\n",
    "from mongo_config import TEST_DB1, TEST_DB2, TEST_DB3, HOST, PORT, USERNAME, PASSWORD"
   ]
  },
  {
   "cell_type": "code",
   "execution_count": 4,
   "id": "2b05d6fa-22e8-420f-b9e9-2a0f9f602ef1",
   "metadata": {},
   "outputs": [],
   "source": [
    "from mongoengine import BooleanField, DateTimeField, DictField, EmailField, FloatField, ListField, ReferenceField"
   ]
  },
  {
   "cell_type": "code",
   "execution_count": 3,
   "id": "79663e3f-877c-445b-95e9-123b77493037",
   "metadata": {},
   "outputs": [
    {
     "data": {
      "text/plain": [
       "MongoClient(host=['192.168.2.172:27017'], document_class=dict, tz_aware=False, connect=True, read_preference=Primary(), uuidrepresentation=3)"
      ]
     },
     "execution_count": 3,
     "metadata": {},
     "output_type": "execute_result"
    }
   ],
   "source": [
    "# 连接到已创建的数据库\n",
    "connect(TEST_DB1, host=HOST, port=PORT, username=USERNAME, password=PASSWORD, authentication_source=TEST_DB1, alias=TEST_DB1)\n",
    "connect(TEST_DB2, host=HOST, port=PORT, username=USERNAME, password=PASSWORD, authentication_source=TEST_DB2, alias=TEST_DB2)\n",
    "connect(TEST_DB3, host=HOST, port=PORT, username=USERNAME, password=PASSWORD, authentication_source=TEST_DB3, alias=TEST_DB3)"
   ]
  },
  {
   "cell_type": "markdown",
   "id": "13f295c7-0e2f-428f-87a7-5e0e6e6cc159",
   "metadata": {},
   "source": [
    "### 静态文档和动态文档"
   ]
  },
  {
   "cell_type": "code",
   "execution_count": 3,
   "id": "3fb220d1-30e9-4820-9177-c4e0cea3052e",
   "metadata": {},
   "outputs": [],
   "source": [
    "# 继承自Document的文档\n",
    "class Book1(Document):\n",
    "    bookid = StringField()\n",
    "    name = StringField()\n",
    "    count = IntField()\n",
    "    meta = {\"db_alias\": TEST_DB1}\n",
    "Book1(bookid=\"wx000006\", name=\"水浒传\", count=29).save()"
   ]
  },
  {
   "cell_type": "code",
   "execution_count": 6,
   "id": "93bd2947-9376-45cd-9fab-5141355ec879",
   "metadata": {},
   "outputs": [
    {
     "data": {
      "text/plain": [
       "<BookDynamic: BookDynamic object>"
      ]
     },
     "execution_count": 6,
     "metadata": {},
     "output_type": "execute_result"
    }
   ],
   "source": [
    "# 动态文档, 可以在原有的数据模式上动态添加字段\n",
    "from mongoengine import DynamicDocument\n",
    "class BookDynamic(DynamicDocument):\n",
    "    bookid = StringField()\n",
    "    meta = {\"db_alias\": TEST_DB1}\n",
    "bookd = BookDynamic(bookid=\"wx09872\")\n",
    "bookd.tag = [\"小说\", \"经典著作\"]\n",
    "bookd.save()"
   ]
  },
  {
   "cell_type": "code",
   "execution_count": null,
   "id": "1d10df69-4176-43ce-be1e-c61720d2ed24",
   "metadata": {},
   "outputs": [],
   "source": []
  },
  {
   "cell_type": "markdown",
   "id": "7b3f8a8a-8643-4cd5-86ae-0b4799f03930",
   "metadata": {},
   "source": [
    "### 关于修改文档类:\n",
    "前期建立的文档类(静态),并已经建立并使用，之后修改新增字段时，前期使用生成的文档字段中针对后期新增的部分为空值。\n",
    "在原有基础上操作修改后的文档类, 此时并不会报错。"
   ]
  },
  {
   "cell_type": "code",
   "execution_count": null,
   "id": "f5087a60-7663-409f-88c0-ca5a3c5702c3",
   "metadata": {},
   "outputs": [],
   "source": []
  }
 ],
 "metadata": {
  "kernelspec": {
   "display_name": "Python 3 (ipykernel)",
   "language": "python",
   "name": "python3"
  },
  "language_info": {
   "codemirror_mode": {
    "name": "ipython",
    "version": 3
   },
   "file_extension": ".py",
   "mimetype": "text/x-python",
   "name": "python",
   "nbconvert_exporter": "python",
   "pygments_lexer": "ipython3",
   "version": "3.10.6"
  }
 },
 "nbformat": 4,
 "nbformat_minor": 5
}
