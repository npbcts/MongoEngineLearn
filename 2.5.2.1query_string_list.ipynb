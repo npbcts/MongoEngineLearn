{
 "cells": [
  {
   "cell_type": "markdown",
   "id": "3edc7e87-a251-4426-a876-47a4aca21128",
   "metadata": {},
   "source": [
    "## 2.5.2.1 String queries(字符串查询)"
   ]
  },
  {
   "cell_type": "markdown",
   "id": "7ee40144-9d45-400a-815a-cf8c49ac38f7",
   "metadata": {},
   "source": [
    "\n",
    "The following operators are available as shortcuts to querying with regular expressions.\n",
    "\n",
    "以下运算符可用作使用正则表达式进行查询的快捷方式：(忽略大写字母的方式不列示):\n",
    "\n",
    "exact – string field exactly matches value: 字符串字段与值完全匹配\n",
    "\n",
    "contains – string field contains value: 字符串字段包含值\n",
    "\n",
    "startswith – string field starts with value: 字符串字段以值开头\n",
    "\n",
    "endswith – string field ends with value: 字符串字段以值结尾\n",
    "\n",
    "wholeword – string field contains whole word: 字符串字段包含整个单词\n",
    "\n",
    "regex – string field match by regex: 正则表达式匹配的字符串字段\n",
    "\n",
    "match – performs an $elemMatch so you can match an entire document within an array\n",
    "    :执行 $elemMatch 以便您可以匹配数组中的整个文档"
   ]
  },
  {
   "cell_type": "markdown",
   "id": "63133268-873a-4d60-a6d4-eb2505a35efc",
   "metadata": {},
   "source": [
    "#### 练习"
   ]
  },
  {
   "cell_type": "code",
   "execution_count": 1,
   "id": "8c295f7d-5376-4ce1-bfa8-5361c8050778",
   "metadata": {},
   "outputs": [],
   "source": [
    "from book_model import BookAllField"
   ]
  },
  {
   "cell_type": "code",
   "execution_count": 8,
   "id": "0d99b234-da00-4295-81d0-316a81d38319",
   "metadata": {},
   "outputs": [
    {
     "data": {
      "text/plain": [
       "'[{\"_id\": {\"$oid\": \"6408686b248d96a15f6ff2e4\"}, \"bookid\": \"wx0927615ssr\", \"name\": \"大学\", \"ifnewbook\": false, \"shelves_date\": {\"$date\": 1608422400000}, \"author\": {\"$oid\": \"6408686b248d96a15f6ff2e2\"}, \"author_email\": \"zengzi@qq.com\", \"price\": 10.8, \"book_type\": {\"$ref\": \"book_type\", \"$id\": {\"$oid\": \"63fcd4f21be34fe2c671fb44\"}}, \"publishing_house\": {\"name\": \"人民教育出版社\", \"phone\": \"120934876\"}, \"seller\": {\"$ref\": \"seller\", \"$id\": {\"$oid\": \"6408686b248d96a15f6ff2e3\"}}, \"tag\": [\"历史\", \"经典\", \"必读\"]}, {\"_id\": {\"$oid\": \"640868c0248d96a15f6ff2e7\"}, \"bookid\": \"wx09s15ssr\", \"name\": \"中庸\", \"ifnewbook\": true, \"shelves_date\": {\"$date\": 1605830400000}, \"author\": {\"$oid\": \"640868c0248d96a15f6ff2e5\"}, \"author_email\": \"kongji@qq.com\", \"price\": 19.8, \"book_type\": {\"$ref\": \"book_type\", \"$id\": {\"$oid\": \"63fcd4f21be34fe2c671fb44\"}}, \"publishing_house\": {\"name\": \"人民教育出版社\", \"phone\": \"120934876\"}, \"seller\": {\"$ref\": \"seller\", \"$id\": {\"$oid\": \"640868c0248d96a15f6ff2e6\"}}, \"tag\": [\"历史\", \"经典\"]}]'"
      ]
     },
     "execution_count": 8,
     "metadata": {},
     "output_type": "execute_result"
    }
   ],
   "source": [
    "# exact\n",
    "BookAllField.objects(publishing_house__name__exact=\"人民教育出版社\").to_json(ensure_ascii=False,)"
   ]
  },
  {
   "cell_type": "code",
   "execution_count": null,
   "id": "d522d75c-b485-419c-98d0-b1653b7934ea",
   "metadata": {},
   "outputs": [],
   "source": [
    "# contains\n",
    "BookAllField.objects(publishing_house__name__contains=\"创汇信息\").to_json(ensure_ascii=False,)"
   ]
  },
  {
   "cell_type": "code",
   "execution_count": 10,
   "id": "32056703-8df8-4ba5-afac-147c0c9081a5",
   "metadata": {},
   "outputs": [
    {
     "data": {
      "text/plain": [
       "'[{\"_id\": {\"$oid\": \"6408686b248d96a15f6ff2e4\"}, \"bookid\": \"wx0927615ssr\", \"name\": \"大学\", \"ifnewbook\": false, \"shelves_date\": {\"$date\": 1608422400000}, \"author\": {\"$oid\": \"6408686b248d96a15f6ff2e2\"}, \"author_email\": \"zengzi@qq.com\", \"price\": 10.8, \"book_type\": {\"$ref\": \"book_type\", \"$id\": {\"$oid\": \"63fcd4f21be34fe2c671fb44\"}}, \"publishing_house\": {\"name\": \"人民教育出版社\", \"phone\": \"120934876\"}, \"seller\": {\"$ref\": \"seller\", \"$id\": {\"$oid\": \"6408686b248d96a15f6ff2e3\"}}, \"tag\": [\"历史\", \"经典\", \"必读\"]}, {\"_id\": {\"$oid\": \"640868c0248d96a15f6ff2e7\"}, \"bookid\": \"wx09s15ssr\", \"name\": \"中庸\", \"ifnewbook\": true, \"shelves_date\": {\"$date\": 1605830400000}, \"author\": {\"$oid\": \"640868c0248d96a15f6ff2e5\"}, \"author_email\": \"kongji@qq.com\", \"price\": 19.8, \"book_type\": {\"$ref\": \"book_type\", \"$id\": {\"$oid\": \"63fcd4f21be34fe2c671fb44\"}}, \"publishing_house\": {\"name\": \"人民教育出版社\", \"phone\": \"120934876\"}, \"seller\": {\"$ref\": \"seller\", \"$id\": {\"$oid\": \"640868c0248d96a15f6ff2e6\"}}, \"tag\": [\"历史\", \"经典\"]}]'"
      ]
     },
     "execution_count": 10,
     "metadata": {},
     "output_type": "execute_result"
    }
   ],
   "source": [
    "# startswith\n",
    "BookAllField.objects(publishing_house__name__startswith=\"人民教育\").to_json(ensure_ascii=False,)"
   ]
  },
  {
   "cell_type": "code",
   "execution_count": 11,
   "id": "eb8dce90-8c11-4379-8499-60ef4ec590a7",
   "metadata": {},
   "outputs": [
    {
     "data": {
      "text/plain": [
       "'[{\"_id\": {\"$oid\": \"6408686b248d96a15f6ff2e4\"}, \"bookid\": \"wx0927615ssr\", \"name\": \"大学\", \"ifnewbook\": false, \"shelves_date\": {\"$date\": 1608422400000}, \"author\": {\"$oid\": \"6408686b248d96a15f6ff2e2\"}, \"author_email\": \"zengzi@qq.com\", \"price\": 10.8, \"book_type\": {\"$ref\": \"book_type\", \"$id\": {\"$oid\": \"63fcd4f21be34fe2c671fb44\"}}, \"publishing_house\": {\"name\": \"人民教育出版社\", \"phone\": \"120934876\"}, \"seller\": {\"$ref\": \"seller\", \"$id\": {\"$oid\": \"6408686b248d96a15f6ff2e3\"}}, \"tag\": [\"历史\", \"经典\", \"必读\"]}, {\"_id\": {\"$oid\": \"640868c0248d96a15f6ff2e7\"}, \"bookid\": \"wx09s15ssr\", \"name\": \"中庸\", \"ifnewbook\": true, \"shelves_date\": {\"$date\": 1605830400000}, \"author\": {\"$oid\": \"640868c0248d96a15f6ff2e5\"}, \"author_email\": \"kongji@qq.com\", \"price\": 19.8, \"book_type\": {\"$ref\": \"book_type\", \"$id\": {\"$oid\": \"63fcd4f21be34fe2c671fb44\"}}, \"publishing_house\": {\"name\": \"人民教育出版社\", \"phone\": \"120934876\"}, \"seller\": {\"$ref\": \"seller\", \"$id\": {\"$oid\": \"640868c0248d96a15f6ff2e6\"}}, \"tag\": [\"历史\", \"经典\"]}]'"
      ]
     },
     "execution_count": 11,
     "metadata": {},
     "output_type": "execute_result"
    }
   ],
   "source": [
    "# endswith\n",
    "BookAllField.objects(publishing_house__name__endswith=\"出版社\").to_json(ensure_ascii=False,)"
   ]
  },
  {
   "cell_type": "code",
   "execution_count": 13,
   "id": "290b2552-ee58-4995-8cc6-d0650d1b18e9",
   "metadata": {},
   "outputs": [
    {
     "data": {
      "text/plain": [
       "'[]'"
      ]
     },
     "execution_count": 13,
     "metadata": {},
     "output_type": "execute_result"
    }
   ],
   "source": [
    "# wholeword 不是用于中文\n",
    "BookAllField.objects(publishing_house__name__wholeword=\"教育\").to_json(ensure_ascii=False,)"
   ]
  },
  {
   "cell_type": "code",
   "execution_count": null,
   "id": "13e3b602-7d10-49d7-9e1c-1f089f568281",
   "metadata": {},
   "outputs": [],
   "source": [
    "# \n",
    "BookAllField.objects(publishing_house__name__regex=\".*电子传媒.*\").to_json(ensure_ascii=False,)"
   ]
  },
  {
   "cell_type": "markdown",
   "id": "4626410c-5a8e-438a-8b9e-cb3c9192c147",
   "metadata": {},
   "source": [
    "### 2.5.2.3. Querying lists\n",
    "\n",
    "#### 给出列表中项目的值查询(不指定位置,能匹配即可)\n",
    "On most fields, this syntax will look up documents where the field specified matches the given value exactly, but when the field refers to a `ListField`, a **single item** may be provided, in which case lists that contain that item will be matched:\n",
    "\n",
    "```python\n",
    "class Page(Document):\n",
    "    tags = ListField(StringField())\n",
    "\n",
    "# This will match all pages that have the word 'coding' as an item in the\n",
    "# 'tags' list\n",
    "Page.objects(tags='coding')\n",
    "```\n",
    "这种情况, 能匹配所有包含这个项目值的列表，而无需指定提供值在列表中的位置。"
   ]
  },
  {
   "cell_type": "code",
   "execution_count": null,
   "id": "c88c2172-f20b-4250-b261-2d7ec688da5b",
   "metadata": {},
   "outputs": [],
   "source": [
    "# 不提供在列表中位置的值， 检索\n",
    "BookAllField.objects(tag=\"历史\").to_json(ensure_ascii=False,)\n",
    "# 只要列表tag中包含 \"历史\",就返回，无论位置"
   ]
  },
  {
   "cell_type": "markdown",
   "id": "12dbcd05-faec-47d1-9608-580113676ace",
   "metadata": {},
   "source": [
    "#### 指定位置 指定项目匹配\n",
    "It is possible to query by position in a list by using a numerical value as a query operator. So if you wanted to find all pages whose first tag was db, you could use the following query:\n",
    "\n",
    "```python\n",
    "Page.objects(tags__0='db')\n",
    "```"
   ]
  },
  {
   "cell_type": "code",
   "execution_count": null,
   "id": "20471bcf-baa2-4476-a7c2-83b300a2ab1a",
   "metadata": {},
   "outputs": [],
   "source": [
    "# 提供在列表中位置的值， 检索\n",
    "BookAllField.objects(tag__0=\"历史\").to_json(ensure_ascii=False,)\n",
    "# 列表tag_0= \"历史\",就返回，无论位置"
   ]
  },
  {
   "cell_type": "markdown",
   "id": "bdc8c05f-8bfa-4feb-8b69-ed9513ecd23e",
   "metadata": {},
   "source": [
    "#### 字符串查询运算符也能用于查询列表:\n",
    "The string queries operators can be used as well for querying a list field, e.g.:\n",
    "\n",
    "```python\n",
    "Page.objects(tags__iexact='db')\n",
    "```"
   ]
  },
  {
   "cell_type": "code",
   "execution_count": 20,
   "id": "2ed4e987-e417-4129-9ad6-d6ebc733c577",
   "metadata": {},
   "outputs": [
    {
     "data": {
      "text/plain": [
       "'[{\"_id\": {\"$oid\": \"6408686b248d96a15f6ff2e4\"}, \"bookid\": \"wx0927615ssr\", \"name\": \"大学\", \"ifnewbook\": false, \"shelves_date\": {\"$date\": 1608422400000}, \"author\": {\"$oid\": \"6408686b248d96a15f6ff2e2\"}, \"author_email\": \"zengzi@qq.com\", \"price\": 10.8, \"book_type\": {\"$ref\": \"book_type\", \"$id\": {\"$oid\": \"63fcd4f21be34fe2c671fb44\"}}, \"publishing_house\": {\"name\": \"人民教育出版社\", \"phone\": \"120934876\"}, \"seller\": {\"$ref\": \"seller\", \"$id\": {\"$oid\": \"6408686b248d96a15f6ff2e3\"}}, \"tag\": [\"历史\", \"经典\", \"必读\"]}]'"
      ]
     },
     "execution_count": 20,
     "metadata": {},
     "output_type": "execute_result"
    }
   ],
   "source": [
    "# 普通字符串查询\n",
    "BookAllField.objects(tag__exact=\"必读\").to_json(ensure_ascii=False,)"
   ]
  },
  {
   "cell_type": "markdown",
   "id": "b65f92e7-8dad-4344-a0df-bc2991087a0c",
   "metadata": {},
   "source": [
    "#### 所有项目中的列表都切片\n",
    "\n",
    "If you only want to fetch part of a list eg: you want to paginate a list, then the slice operator is required:\n",
    "\n",
    "```python\n",
    "# comments - skip 5, limit 10\n",
    "Page.objects.fields(slice__comments=[5, 10])\n",
    "```"
   ]
  },
  {
   "cell_type": "code",
   "execution_count": 27,
   "id": "6b91d623-72c9-4d14-b6eb-6664d3a18bd4",
   "metadata": {},
   "outputs": [],
   "source": [
    "# 所有检出文档，这个指定的tag字段都被切片\n",
    "sg = BookAllField.objects(tag__exact=\"经典\").fields(slice__tag=[0,1])\n",
    "sg[1].tag"
   ]
  },
  {
   "cell_type": "markdown",
   "id": "38b6a2de-6411-4d43-b446-5a0d292449b7",
   "metadata": {},
   "source": [
    "#### 更新时，指定列表的序号??\n",
    "\n",
    "For updating documents, if you don’t know the position in a list, you can use the `$` positional operator\n",
    "\n",
    "```python\n",
    "Post.objects(comments__by=\"joe\").update(**{'inc__comments__$__votes': 1})\n",
    "```"
   ]
  },
  {
   "cell_type": "markdown",
   "id": "a3655304-4079-4909-9544-c5f4ee1b551d",
   "metadata": {},
   "source": [
    "However, this doesn’t map well to the syntax so you can also use a capital S instead\n",
    "\n",
    "```python\n",
    "Post.objects(comments__by=\"joe\").update(inc__comments__S__votes=1)\n",
    "```"
   ]
  }
 ],
 "metadata": {
  "kernelspec": {
   "display_name": "Python 3 (ipykernel)",
   "language": "python",
   "name": "python3"
  },
  "language_info": {
   "codemirror_mode": {
    "name": "ipython",
    "version": 3
   },
   "file_extension": ".py",
   "mimetype": "text/x-python",
   "name": "python",
   "nbconvert_exporter": "python",
   "pygments_lexer": "ipython3",
   "version": "3.10.6"
  }
 },
 "nbformat": 4,
 "nbformat_minor": 5
}
