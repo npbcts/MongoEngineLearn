{
 "cells": [
  {
   "cell_type": "markdown",
   "id": "23cea54a-00af-495e-bf78-ad91a6faca65",
   "metadata": {},
   "source": [
    "## 2.6. Document Validation"
   ]
  },
  {
   "cell_type": "markdown",
   "id": "0cda5383-5fe1-4717-b871-fcc891665ec5",
   "metadata": {},
   "source": [
    "By design, MongoEngine strictly validates the documents right before they are inserted in MongoDB and makes sure they are consistent with the fields defined in your models.\n",
    "\n",
    "设计上，**当你保存文档之前**，MongoEngine严格验证他们确保符合你在模型中定义的字段。\n",
    "\n",
    "MongoEngine makes the assumption that the documents that exists in the DB are compliant with the schema. This means that Mongoengine will not validate a document when an object is loaded from the DB into an instance of your model but this operation may fail under some circumstances (e.g. if there is a field in the document fetched from the database that is not defined in your model).\n",
    "\n",
    "MongoEngine 假设已存在数据库中的文档是符合设计模式的。因此，使用你创建的MongoEngine模型读取数据库中的文档并加载为一个实例时，在某些情况下存在失败(这里的失败指不能准确匹配字段，而不是直接不能读取并报错)的可能。例如，一个已存在的文档缺少你模型中定义的字段，这也意味着，产生这种情况在读取时不会报错。"
   ]
  },
  {
   "cell_type": "markdown",
   "id": "459986c4-f69b-4f55-b8c3-642f0c138785",
   "metadata": {},
   "source": [
    "### 建立的模型同数据库中字段不一致情况测试"
   ]
  },
  {
   "cell_type": "code",
   "execution_count": 1,
   "id": "53a7d279-5af7-4dfc-8ed4-65866cecb2be",
   "metadata": {},
   "outputs": [
    {
     "data": {
      "text/plain": [
       "MongoClient(host=['192.168.2.172:27017'], document_class=dict, tz_aware=False, connect=True, read_preference=Primary(), uuidrepresentation=3)"
      ]
     },
     "execution_count": 1,
     "metadata": {},
     "output_type": "execute_result"
    }
   ],
   "source": [
    "from mongoengine import connect, Document, StringField\n",
    "from mongo_config import TEST_DB1, TEST_DB2, TEST_DB3, HOST, PORT, USERNAME, PASSWORD\n",
    "connect(TEST_DB1, host=HOST, port=PORT, username=USERNAME, password=PASSWORD, authentication_source=TEST_DB1, alias=TEST_DB1)\n"
   ]
  },
  {
   "cell_type": "code",
   "execution_count": 11,
   "id": "23aaf0f9-afb2-4fa6-9add-3ac3d74606ff",
   "metadata": {},
   "outputs": [],
   "source": [
    "class Seller(Document):\n",
    "    name = StringField()\n",
    "    # phone = StringField(regex=\"^\\d+\")\n",
    "    phone2 = StringField(regex=\"^\\d+$\")\n",
    "    meta = {\"db_alias\": TEST_DB1}"
   ]
  },
  {
   "cell_type": "code",
   "execution_count": 3,
   "id": "7b1b98ed-c52a-44b3-b2a3-670324bd62c4",
   "metadata": {},
   "outputs": [
    {
     "data": {
      "text/plain": [
       "'[{\"_id\": {\"$oid\": \"64086a70248d96a15f6ff2e9\"}, \"name\": \"当当书店\", \"phone\": \"1288753\"}, {\"_id\": {\"$oid\": \"64087b3d248d96a15f6ff2ec\"}, \"name\": \"恩悌网络有限公司\", \"phone\": \"15836709368\"}]'"
      ]
     },
     "execution_count": 3,
     "metadata": {},
     "output_type": "execute_result"
    }
   ],
   "source": [
    "Seller.objects().limit(2).to_json(ensure_ascii=False)"
   ]
  },
  {
   "cell_type": "code",
   "execution_count": 4,
   "id": "d28857c8-560d-4c2d-a4eb-f6293b41751a",
   "metadata": {},
   "outputs": [
    {
     "data": {
      "text/plain": [
       "325"
      ]
     },
     "execution_count": 4,
     "metadata": {},
     "output_type": "execute_result"
    }
   ],
   "source": [
    "Seller.objects().count()"
   ]
  },
  {
   "cell_type": "markdown",
   "id": "ea81db5e-7b34-42e2-94de-05397e84a227",
   "metadata": {},
   "source": [
    "### 2.6.1. Built-in validation(内置验证)\n",
    "\n",
    "Mongoengine provides different fields that encapsulate the corresponding validation out of the box. Validation runs when calling `.validate()` or `.save()`\n",
    "\n",
    "Mongoengine提供了封装了相应开箱即用验证的不同字段。当运行 `.validate()` or `.save()`函数时执行验证。\n",
    "\n",
    "```python\n",
    "from mongoengine import Document, EmailField, IntField\n",
    "\n",
    "class User(Document):\n",
    "    email = EmailField()\n",
    "    age = IntField(min_value=0, max_value=99)\n",
    "\n",
    "user = User(email='invalid@', age=24)\n",
    "user.validate()     # raises ValidationError (Invalid email address: ['email'])\n",
    "user.save()         # raises ValidationError (Invalid email address: ['email'])\n",
    "\n",
    "user2 = User(email='john.doe@garbage.com', age=1000)\n",
    "user2.save()        # raises ValidationError (Integer value is too large: ['age'])\n",
    "```"
   ]
  },
  {
   "cell_type": "code",
   "execution_count": null,
   "id": "0481e760-af24-46a1-b950-d77f6b40c5dd",
   "metadata": {},
   "outputs": [],
   "source": [
    "Seller(phone2=\"123m\").validate()"
   ]
  },
  {
   "cell_type": "markdown",
   "id": "e8984445-1459-48c9-9452-c57f8e1707d3",
   "metadata": {},
   "source": [
    "### 2.6.2. Custom validation(定制验证)\n",
    "\n",
    "The following feature can be used to customize the validation:  \n",
    "有以下三种方法可以定制验证, 字段(`Field`)的 `validation`参数, 文档(`Document`)的 `clean` 方法，改写 `Field`类的`validate`函数"
   ]
  },
  {
   "cell_type": "markdown",
   "id": "05b637a3-f218-4053-98e2-43cda84c2075",
   "metadata": {},
   "source": [
    "\n",
    "#### `Field` `validation` parameter  \n",
    "字段(`Field`)的 `validation`参数，可以被用来定制验证函数。\n",
    "\n",
    "```python\n",
    "def not_john_doe(name):\n",
    "    if name == 'John Doe':\n",
    "        raise ValidationError(\"John Doe is not a valid name\")\n",
    "\n",
    "class Person(Document):\n",
    "    full_name = StringField(validation=not_john_doe)\n",
    "\n",
    "Person(full_name='Billy Doe').save()\n",
    "Person(full_name='John Doe').save()  # raises ValidationError (John Doe is not a valid name)\n",
    "```\n"
   ]
  },
  {
   "cell_type": "markdown",
   "id": "1fe03af6-d9d6-41dd-8fa5-89b3f4ebbe11",
   "metadata": {},
   "source": [
    "#### Document `clean` method\n",
    "\n",
    "This method is called as part of `save()` and should be used to provide custom model validation and/or to modify some of the field values prior to validation. For instance, you could use it to automatically provide a value for a field, or to do validation that requires access to more than a single field.\n",
    "\n",
    "文档的 `clean` 也可以被用来验证字段是否合法。`clean` 实际上是 `save()` 的一部分，可以理解为 `save()` 执行前先执行 `clean`。  \n",
    "可以使用这种方法编写验证逻辑，或多字段间的相互验证。\n",
    "\n",
    "```python\n",
    "class Essay(Document):\n",
    "    status = StringField(choices=('Published', 'Draft'), required=True)\n",
    "    pub_date = DateTimeField()\n",
    "\n",
    "    def clean(self):\n",
    "        # Validate that only published essays have a `pub_date`\n",
    "        if self.status == 'Draft' and self.pub_date is not None:\n",
    "            raise ValidationError('Draft entries should not have a publication date.')\n",
    "        # Set the pub_date for published items if not set.\n",
    "        if self.status == 'Published' and self.pub_date is None:\n",
    "            self.pub_date = datetime.now()\n",
    "```\n",
    "\n",
    "> Cleaning is only called if validation is turned on and when calling save().\n",
    "\n",
    "`clean` 只有在验证开启并调用 `save`方法时执行。"
   ]
  },
  {
   "cell_type": "markdown",
   "id": "9e8f33c0-c6d2-4d26-957d-7082c745dbad",
   "metadata": {},
   "source": [
    "#### Adding custom Field classes  \n",
    "改写 `Field`类的`validate`函数\n",
    "\n",
    "We recommend as much as possible to use fields provided by MongoEngine. However, it is also possible to subclass a Field and encapsulate some validation by overriding the validate method\n",
    "\n",
    "```python\n",
    "class AgeField(IntField):\n",
    "\n",
    "    def validate(self, value):\n",
    "        super(AgeField, self).validate(value)     # let IntField.validate run first\n",
    "        if value == 60:\n",
    "            self.error('60 is not allowed')\n",
    "\n",
    "class Person(Document):\n",
    "    age = AgeField(min_value=0, max_value=99)\n",
    "\n",
    "Person(age=20).save()   # passes\n",
    "Person(age=1000).save() # raises ValidationError (Integer value is too large: ['age'])\n",
    "Person(age=60).save()   # raises ValidationError (Person:None) (60 is not allowed: ['age'])\n",
    "```\n",
    "\n",
    "注意改写时，需要继承 原始 `validate` 的内容,即改写前执行 `supper`方法。"
   ]
  },
  {
   "cell_type": "markdown",
   "id": "dae7507b-9f1a-4c68-887b-8dd53e120ce4",
   "metadata": {},
   "source": [
    "### 2.6.3. Skipping validation\n",
    "\n",
    "Although discouraged as it allows to violate fields constraints, if for some reason you need to disable the validation and cleaning of a document when you call save(), you can use .save(validate=False).\n",
    "\n",
    "```python\n",
    "class Person(Document):\n",
    "    age = IntField(max_value=100)\n",
    "\n",
    "Person(age=1000).save()    # raises ValidationError (Integer value is too large)\n",
    "\n",
    "Person(age=1000).save(validate=False)\n",
    "person = Person.objects.first()\n",
    "assert person.age == 1000\n",
    "```\n"
   ]
  }
 ],
 "metadata": {
  "kernelspec": {
   "display_name": "Python 3 (ipykernel)",
   "language": "python",
   "name": "python3"
  },
  "language_info": {
   "codemirror_mode": {
    "name": "ipython",
    "version": 3
   },
   "file_extension": ".py",
   "mimetype": "text/x-python",
   "name": "python",
   "nbconvert_exporter": "python",
   "pygments_lexer": "ipython3",
   "version": "3.10.6"
  }
 },
 "nbformat": 4,
 "nbformat_minor": 5
}
