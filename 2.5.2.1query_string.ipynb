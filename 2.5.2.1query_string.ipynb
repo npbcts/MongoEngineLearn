{
 "cells": [
  {
   "cell_type": "markdown",
   "id": "3edc7e87-a251-4426-a876-47a4aca21128",
   "metadata": {},
   "source": [
    "## 2.5.2.1 String queries(字符串查询)"
   ]
  },
  {
   "cell_type": "markdown",
   "id": "7ee40144-9d45-400a-815a-cf8c49ac38f7",
   "metadata": {},
   "source": [
    "\n",
    "The following operators are available as shortcuts to querying with regular expressions.\n",
    "\n",
    "以下运算符可用作使用正则表达式进行查询的快捷方式：(忽略大写字母的方式不列示):\n",
    "\n",
    "exact – string field exactly matches value: 字符串字段与值完全匹配\n",
    "\n",
    "contains – string field contains value: 字符串字段包含值\n",
    "\n",
    "startswith – string field starts with value: 字符串字段以值开头\n",
    "\n",
    "endswith – string field ends with value: 字符串字段以值结尾\n",
    "\n",
    "wholeword – string field contains whole word: 字符串字段包含整个单词\n",
    "\n",
    "regex – string field match by regex: 正则表达式匹配的字符串字段\n",
    "\n",
    "match – performs an $elemMatch so you can match an entire document within an array\n",
    "    :执行 $elemMatch 以便您可以匹配数组中的整个文档"
   ]
  },
  {
   "cell_type": "markdown",
   "id": "63133268-873a-4d60-a6d4-eb2505a35efc",
   "metadata": {},
   "source": [
    "### 练习"
   ]
  },
  {
   "cell_type": "code",
   "execution_count": 1,
   "id": "8c295f7d-5376-4ce1-bfa8-5361c8050778",
   "metadata": {},
   "outputs": [],
   "source": [
    "from book_model import BookAllField"
   ]
  },
  {
   "cell_type": "code",
   "execution_count": 8,
   "id": "0d99b234-da00-4295-81d0-316a81d38319",
   "metadata": {},
   "outputs": [
    {
     "data": {
      "text/plain": [
       "'[{\"_id\": {\"$oid\": \"6408686b248d96a15f6ff2e4\"}, \"bookid\": \"wx0927615ssr\", \"name\": \"大学\", \"ifnewbook\": false, \"shelves_date\": {\"$date\": 1608422400000}, \"author\": {\"$oid\": \"6408686b248d96a15f6ff2e2\"}, \"author_email\": \"zengzi@qq.com\", \"price\": 10.8, \"book_type\": {\"$ref\": \"book_type\", \"$id\": {\"$oid\": \"63fcd4f21be34fe2c671fb44\"}}, \"publishing_house\": {\"name\": \"人民教育出版社\", \"phone\": \"120934876\"}, \"seller\": {\"$ref\": \"seller\", \"$id\": {\"$oid\": \"6408686b248d96a15f6ff2e3\"}}, \"tag\": [\"历史\", \"经典\", \"必读\"]}, {\"_id\": {\"$oid\": \"640868c0248d96a15f6ff2e7\"}, \"bookid\": \"wx09s15ssr\", \"name\": \"中庸\", \"ifnewbook\": true, \"shelves_date\": {\"$date\": 1605830400000}, \"author\": {\"$oid\": \"640868c0248d96a15f6ff2e5\"}, \"author_email\": \"kongji@qq.com\", \"price\": 19.8, \"book_type\": {\"$ref\": \"book_type\", \"$id\": {\"$oid\": \"63fcd4f21be34fe2c671fb44\"}}, \"publishing_house\": {\"name\": \"人民教育出版社\", \"phone\": \"120934876\"}, \"seller\": {\"$ref\": \"seller\", \"$id\": {\"$oid\": \"640868c0248d96a15f6ff2e6\"}}, \"tag\": [\"历史\", \"经典\"]}]'"
      ]
     },
     "execution_count": 8,
     "metadata": {},
     "output_type": "execute_result"
    }
   ],
   "source": [
    "# exact\n",
    "BookAllField.objects(publishing_house__name__exact=\"人民教育出版社\").to_json(ensure_ascii=False,)"
   ]
  },
  {
   "cell_type": "code",
   "execution_count": null,
   "id": "d522d75c-b485-419c-98d0-b1653b7934ea",
   "metadata": {},
   "outputs": [],
   "source": [
    "# contains\n",
    "BookAllField.objects(publishing_house__name__contains=\"创汇信息\").to_json(ensure_ascii=False,)"
   ]
  },
  {
   "cell_type": "code",
   "execution_count": 10,
   "id": "32056703-8df8-4ba5-afac-147c0c9081a5",
   "metadata": {},
   "outputs": [
    {
     "data": {
      "text/plain": [
       "'[{\"_id\": {\"$oid\": \"6408686b248d96a15f6ff2e4\"}, \"bookid\": \"wx0927615ssr\", \"name\": \"大学\", \"ifnewbook\": false, \"shelves_date\": {\"$date\": 1608422400000}, \"author\": {\"$oid\": \"6408686b248d96a15f6ff2e2\"}, \"author_email\": \"zengzi@qq.com\", \"price\": 10.8, \"book_type\": {\"$ref\": \"book_type\", \"$id\": {\"$oid\": \"63fcd4f21be34fe2c671fb44\"}}, \"publishing_house\": {\"name\": \"人民教育出版社\", \"phone\": \"120934876\"}, \"seller\": {\"$ref\": \"seller\", \"$id\": {\"$oid\": \"6408686b248d96a15f6ff2e3\"}}, \"tag\": [\"历史\", \"经典\", \"必读\"]}, {\"_id\": {\"$oid\": \"640868c0248d96a15f6ff2e7\"}, \"bookid\": \"wx09s15ssr\", \"name\": \"中庸\", \"ifnewbook\": true, \"shelves_date\": {\"$date\": 1605830400000}, \"author\": {\"$oid\": \"640868c0248d96a15f6ff2e5\"}, \"author_email\": \"kongji@qq.com\", \"price\": 19.8, \"book_type\": {\"$ref\": \"book_type\", \"$id\": {\"$oid\": \"63fcd4f21be34fe2c671fb44\"}}, \"publishing_house\": {\"name\": \"人民教育出版社\", \"phone\": \"120934876\"}, \"seller\": {\"$ref\": \"seller\", \"$id\": {\"$oid\": \"640868c0248d96a15f6ff2e6\"}}, \"tag\": [\"历史\", \"经典\"]}]'"
      ]
     },
     "execution_count": 10,
     "metadata": {},
     "output_type": "execute_result"
    }
   ],
   "source": [
    "# startswith\n",
    "BookAllField.objects(publishing_house__name__startswith=\"人民教育\").to_json(ensure_ascii=False,)"
   ]
  },
  {
   "cell_type": "code",
   "execution_count": 11,
   "id": "eb8dce90-8c11-4379-8499-60ef4ec590a7",
   "metadata": {},
   "outputs": [
    {
     "data": {
      "text/plain": [
       "'[{\"_id\": {\"$oid\": \"6408686b248d96a15f6ff2e4\"}, \"bookid\": \"wx0927615ssr\", \"name\": \"大学\", \"ifnewbook\": false, \"shelves_date\": {\"$date\": 1608422400000}, \"author\": {\"$oid\": \"6408686b248d96a15f6ff2e2\"}, \"author_email\": \"zengzi@qq.com\", \"price\": 10.8, \"book_type\": {\"$ref\": \"book_type\", \"$id\": {\"$oid\": \"63fcd4f21be34fe2c671fb44\"}}, \"publishing_house\": {\"name\": \"人民教育出版社\", \"phone\": \"120934876\"}, \"seller\": {\"$ref\": \"seller\", \"$id\": {\"$oid\": \"6408686b248d96a15f6ff2e3\"}}, \"tag\": [\"历史\", \"经典\", \"必读\"]}, {\"_id\": {\"$oid\": \"640868c0248d96a15f6ff2e7\"}, \"bookid\": \"wx09s15ssr\", \"name\": \"中庸\", \"ifnewbook\": true, \"shelves_date\": {\"$date\": 1605830400000}, \"author\": {\"$oid\": \"640868c0248d96a15f6ff2e5\"}, \"author_email\": \"kongji@qq.com\", \"price\": 19.8, \"book_type\": {\"$ref\": \"book_type\", \"$id\": {\"$oid\": \"63fcd4f21be34fe2c671fb44\"}}, \"publishing_house\": {\"name\": \"人民教育出版社\", \"phone\": \"120934876\"}, \"seller\": {\"$ref\": \"seller\", \"$id\": {\"$oid\": \"640868c0248d96a15f6ff2e6\"}}, \"tag\": [\"历史\", \"经典\"]}]'"
      ]
     },
     "execution_count": 11,
     "metadata": {},
     "output_type": "execute_result"
    }
   ],
   "source": [
    "# endswith\n",
    "BookAllField.objects(publishing_house__name__endswith=\"出版社\").to_json(ensure_ascii=False,)"
   ]
  },
  {
   "cell_type": "code",
   "execution_count": 13,
   "id": "290b2552-ee58-4995-8cc6-d0650d1b18e9",
   "metadata": {},
   "outputs": [
    {
     "data": {
      "text/plain": [
       "'[]'"
      ]
     },
     "execution_count": 13,
     "metadata": {},
     "output_type": "execute_result"
    }
   ],
   "source": [
    "# wholeword 不是用于中文\n",
    "BookAllField.objects(publishing_house__name__wholeword=\"教育\").to_json(ensure_ascii=False,)"
   ]
  },
  {
   "cell_type": "code",
   "execution_count": null,
   "id": "13e3b602-7d10-49d7-9e1c-1f089f568281",
   "metadata": {},
   "outputs": [],
   "source": [
    "# \n",
    "BookAllField.objects(publishing_house__name__regex=\".*电子传媒.*\").to_json(ensure_ascii=False,)"
   ]
  }
 ],
 "metadata": {
  "kernelspec": {
   "display_name": "Python 3 (ipykernel)",
   "language": "python",
   "name": "python3"
  },
  "language_info": {
   "codemirror_mode": {
    "name": "ipython",
    "version": 3
   },
   "file_extension": ".py",
   "mimetype": "text/x-python",
   "name": "python",
   "nbconvert_exporter": "python",
   "pygments_lexer": "ipython3",
   "version": "3.10.6"
  }
 },
 "nbformat": 4,
 "nbformat_minor": 5
}
