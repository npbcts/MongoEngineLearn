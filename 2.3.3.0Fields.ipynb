{
 "cells": [
  {
   "cell_type": "markdown",
   "id": "d50810f0-0fbe-4217-bce8-34cde4e31224",
   "metadata": {},
   "source": [
    "## 文档的创建和实例"
   ]
  },
  {
   "cell_type": "code",
   "execution_count": 2,
   "id": "6a34be15-fcaa-44be-9fe0-9147752bb296",
   "metadata": {},
   "outputs": [],
   "source": [
    "from mongoengine import connect, disconnect\n",
    "from mongoengine import Document\n",
    "from mongoengine import StringField, IntField\n",
    "from mongo_config import TEST_DB1, TEST_DB2, TEST_DB3, HOST, PORT, USERNAME, PASSWORD"
   ]
  },
  {
   "cell_type": "code",
   "execution_count": 4,
   "id": "2b05d6fa-22e8-420f-b9e9-2a0f9f602ef1",
   "metadata": {},
   "outputs": [],
   "source": [
    "from mongoengine import BooleanField, DateTimeField, DictField, EmailField, FloatField, ListField, ReferenceField"
   ]
  },
  {
   "cell_type": "code",
   "execution_count": 3,
   "id": "79663e3f-877c-445b-95e9-123b77493037",
   "metadata": {},
   "outputs": [
    {
     "data": {
      "text/plain": [
       "MongoClient(host=['192.168.2.172:27017'], document_class=dict, tz_aware=False, connect=True, read_preference=Primary(), uuidrepresentation=3)"
      ]
     },
     "execution_count": 3,
     "metadata": {},
     "output_type": "execute_result"
    }
   ],
   "source": [
    "# 连接到已创建的数据库\n",
    "connect(TEST_DB1, host=HOST, port=PORT, username=USERNAME, password=PASSWORD, authentication_source=TEST_DB1, alias=TEST_DB1)\n",
    "connect(TEST_DB2, host=HOST, port=PORT, username=USERNAME, password=PASSWORD, authentication_source=TEST_DB2, alias=TEST_DB2)\n",
    "connect(TEST_DB3, host=HOST, port=PORT, username=USERNAME, password=PASSWORD, authentication_source=TEST_DB3, alias=TEST_DB3)"
   ]
  },
  {
   "cell_type": "code",
   "execution_count": 3,
   "id": "3fb220d1-30e9-4820-9177-c4e0cea3052e",
   "metadata": {},
   "outputs": [],
   "source": [
    "# 继承自Document的文档\n",
    "class Book1(Document):\n",
    "    bookid = StringField()\n",
    "    name = StringField()\n",
    "    count = IntField()\n",
    "    meta = {\"db_alias\": TEST_DB1}\n",
    "Book1(bookid=\"wx000006\", name=\"水浒传\", count=29).save()"
   ]
  },
  {
   "cell_type": "code",
   "execution_count": 6,
   "id": "93bd2947-9376-45cd-9fab-5141355ec879",
   "metadata": {},
   "outputs": [
    {
     "data": {
      "text/plain": [
       "<BookDynamic: BookDynamic object>"
      ]
     },
     "execution_count": 6,
     "metadata": {},
     "output_type": "execute_result"
    }
   ],
   "source": [
    "# 动态文档, 可以在原有的数据模式上动态添加字段\n",
    "from mongoengine import DynamicDocument\n",
    "class BookDynamic(DynamicDocument):\n",
    "    bookid = StringField()\n",
    "    meta = {\"db_alias\": TEST_DB1}\n",
    "bookd = BookDynamic(bookid=\"wx09872\")\n",
    "bookd.tag = [\"小说\", \"经典著作\"]\n",
    "bookd.save()"
   ]
  },
  {
   "cell_type": "markdown",
   "id": "6fbb1c20-654a-49c3-909e-e935381d0912",
   "metadata": {},
   "source": [
    "### 一些主要并常用的字段类型"
   ]
  },
  {
   "cell_type": "code",
   "execution_count": 61,
   "id": "2a20474a-c51b-473f-8cb6-24f1f535f67d",
   "metadata": {},
   "outputs": [],
   "source": [
    "class BookType(Document):\n",
    "    type_name = StringField()\n",
    "    meta = {\"db_alias\": TEST_DB1}"
   ]
  },
  {
   "cell_type": "code",
   "execution_count": 17,
   "id": "ad5e75ef-ae1b-46d5-8d8d-b60d4a4be18d",
   "metadata": {},
   "outputs": [
    {
     "data": {
      "text/plain": [
       "<BookType: BookType object>"
      ]
     },
     "execution_count": 17,
     "metadata": {},
     "output_type": "execute_result"
    }
   ],
   "source": [
    "BookType(type_name=\"经济类\").save()\n",
    "BookType(type_name=\"文学类\").save()\n",
    "BookType(type_name=\"计算机\").save()"
   ]
  },
  {
   "cell_type": "code",
   "execution_count": 59,
   "id": "1d14d565-2e7e-4211-9b64-109dbf424fab",
   "metadata": {},
   "outputs": [],
   "source": [
    "class BookAuthor(Document):\n",
    "    author_name = StringField()\n",
    "    meta = {\"db_alias\": TEST_DB1}"
   ]
  },
  {
   "cell_type": "code",
   "execution_count": 62,
   "id": "741123d4-beb9-422a-b824-7436b35cb52a",
   "metadata": {},
   "outputs": [],
   "source": [
    "class BookAllField(Document):\n",
    "    bookid = StringField()\n",
    "    name = StringField()\n",
    "    ifnewbook = BooleanField()  # 是否为新上架图书\n",
    "    shelves_date = DateTimeField()\n",
    "    author = ReferenceField(BookAuthor)  # 使引用字段执行其他集合\n",
    "    author_email = EmailField()\n",
    "    price = FloatField()\n",
    "    book_type = ReferenceField(BookType)\n",
    "    tag = ListField()\n",
    "    meta = {\"db_alias\": TEST_DB1}"
   ]
  },
  {
   "cell_type": "code",
   "execution_count": 29,
   "id": "24dc634a-40ad-4226-9721-fe1c1824d6e3",
   "metadata": {},
   "outputs": [],
   "source": [
    "book_all = BookAllField(bookid=\"wx092761\")"
   ]
  },
  {
   "cell_type": "code",
   "execution_count": 30,
   "id": "6c15656b-af9c-4a3f-bf5d-f9b6692f05dc",
   "metadata": {},
   "outputs": [
    {
     "data": {
      "text/plain": [
       "<BookAllField: BookAllField object>"
      ]
     },
     "execution_count": 30,
     "metadata": {},
     "output_type": "execute_result"
    }
   ],
   "source": [
    "# 包含使用引用字段的情形\n",
    "book_all.name = \"史记\"\n",
    "book_all.ifnewbook = False\n",
    "book_all.author = BookAuthor(author_name=\"司马迁\").save()  # 此时的引用可以成功\n",
    "book_all.price = 19.8\n",
    "# book_all.book_type = BookType(type_name=\"文学类\")  # 此时不能引用，需要有保存动作，或者查询出已经保存的项目\n",
    "# book_all.book_type = BookType.objects(type_name=\"文学类\") # 没保存成功\n",
    "book_all.tag = [\"历史\", \"经典\"]\n",
    "book_all.save()\n",
    "#  author_email， ？？"
   ]
  },
  {
   "cell_type": "code",
   "execution_count": null,
   "id": "1d10df69-4176-43ce-be1e-c61720d2ed24",
   "metadata": {},
   "outputs": [],
   "source": []
  },
  {
   "cell_type": "code",
   "execution_count": null,
   "id": "f5087a60-7663-409f-88c0-ca5a3c5702c3",
   "metadata": {},
   "outputs": [],
   "source": []
  }
 ],
 "metadata": {
  "kernelspec": {
   "display_name": "Python 3 (ipykernel)",
   "language": "python",
   "name": "python3"
  },
  "language_info": {
   "codemirror_mode": {
    "name": "ipython",
    "version": 3
   },
   "file_extension": ".py",
   "mimetype": "text/x-python",
   "name": "python",
   "nbconvert_exporter": "python",
   "pygments_lexer": "ipython3",
   "version": "3.10.6"
  }
 },
 "nbformat": 4,
 "nbformat_minor": 5
}
