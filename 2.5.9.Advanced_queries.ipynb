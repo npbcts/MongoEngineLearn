{
 "cells": [
  {
   "cell_type": "markdown",
   "id": "30f4ef3c-31bf-4d1a-be4b-7b26ffba108a",
   "metadata": {},
   "source": [
    "### 2.5.9. Advanced queries"
   ]
  },
  {
   "cell_type": "markdown",
   "id": "72ce758e-1b3e-4573-a746-83268b643740",
   "metadata": {},
   "source": [
    "Sometimes calling a QuerySet object with keyword arguments can’t fully express the query you want to use – for example if you need to combine a number of constraints using and and or. This is made possible in MongoEngine through the `Q` class. A `Q` object represents part of a query, and can be initialised using the same keyword-argument syntax you use to query documents. To build a complex query, you may combine `Q` objects using the `&` (and) and `|` (or) operators. To use a `Q` object, pass it in as the first positional argument to Document.objects when you filter it by calling it with keyword arguments:\n",
    "\n",
    "```python\n",
    "from mongoengine.queryset.visitor import Q\n",
    "\n",
    "# Get published posts\n",
    "Post.objects(Q(published=True) | Q(publish_date__lte=datetime.now()))\n",
    "\n",
    "# Get top posts\n",
    "Post.objects((Q(featured=True) & Q(hits__gte=1000)) | Q(hits__gte=5000))\n",
    "```\n",
    "\n",
    "> **You have to use bitwise operators**. You cannot use `or`, `and` to combine queries as `Q(a=a) or Q(b=b)` is not the same as `Q(a=a) | Q(b=b)`. As `Q(a=a)` equates to true `Q(a=a) or Q(b=b)` is the same as `Q(a=a)`.\n",
    "\n"
   ]
  }
 ],
 "metadata": {
  "kernelspec": {
   "display_name": "Python 3 (ipykernel)",
   "language": "python",
   "name": "python3"
  },
  "language_info": {
   "codemirror_mode": {
    "name": "ipython",
    "version": 3
   },
   "file_extension": ".py",
   "mimetype": "text/x-python",
   "name": "python",
   "nbconvert_exporter": "python",
   "pygments_lexer": "ipython3",
   "version": "3.10.6"
  }
 },
 "nbformat": 4,
 "nbformat_minor": 5
}
