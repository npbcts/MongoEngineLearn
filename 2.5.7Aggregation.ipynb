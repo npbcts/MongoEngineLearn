{
 "cells": [
  {
   "cell_type": "code",
   "execution_count": 1,
   "id": "9b475ecc-75e6-4d43-bdac-1e6d30833bc0",
   "metadata": {},
   "outputs": [],
   "source": [
    "from book_model import BookAllField"
   ]
  },
  {
   "cell_type": "markdown",
   "id": "df081f75-8ffd-4acc-949a-41e36fa3bea6",
   "metadata": {},
   "source": [
    "## 2.5.7. Aggregation(聚合)\n",
    "\n",
    "MongoDB provides some aggregation methods out of the box, but there are not as many as you typically get with an RDBMS. MongoEngine provides a wrapper around the built-in methods and provides some of its own, which are implemented as Javascript code that is executed on the database server.\n",
    "\n",
    "MongoDB提供聚合方法;同时，MongoEngine(具体由 `mongoengine.queryset.QuerySet`提供)提供了这些方法中常用方法的快捷使用方法。"
   ]
  },
  {
   "cell_type": "markdown",
   "id": "db485bcf-c9b3-4d98-ac0e-3d7b2afbeb16",
   "metadata": {},
   "source": [
    "### 2.5.7.1. Counting results\n",
    "\n",
    "Just as with limiting and skipping results, there is a method on a QuerySet object – `count()`:\n",
    "```python\n",
    "num_users = User.objects.count()\n",
    "```"
   ]
  },
  {
   "cell_type": "code",
   "execution_count": 2,
   "id": "0bc77759-33f6-4372-a548-158f1b2b230b",
   "metadata": {},
   "outputs": [
    {
     "data": {
      "text/plain": [
       "20004"
      ]
     },
     "execution_count": 2,
     "metadata": {},
     "output_type": "execute_result"
    }
   ],
   "source": [
    "BookAllField.objects.count()"
   ]
  },
  {
   "cell_type": "code",
   "execution_count": 3,
   "id": "72f6bb10-a00f-449f-9ccb-b119ca1710e2",
   "metadata": {},
   "outputs": [
    {
     "data": {
      "text/plain": [
       "13"
      ]
     },
     "execution_count": 3,
     "metadata": {},
     "output_type": "execute_result"
    }
   ],
   "source": [
    "BookAllField.objects(name=\"大学\").count()"
   ]
  },
  {
   "cell_type": "markdown",
   "id": "da200098-3e9f-4598-a668-751dd4e3f1b9",
   "metadata": {},
   "source": [
    "### 2.5.7.2. Further aggregation(更强大的聚合)\n",
    "\n",
    "#### **sum**  \n",
    "You may sum over the values of a specific field on documents using sum():\n",
    "```python\n",
    "yearly_expense = Employee.objects.sum('salary')\n",
    "```\n",
    "> If the field isn’t present on a document, that document will be ignored from the sum.  \n",
    "> 字段在文档中不存在，在数据加总时会被忽略"
   ]
  },
  {
   "cell_type": "code",
   "execution_count": 5,
   "id": "8fdddaa1-a688-482b-ac6b-93a7ddddd293",
   "metadata": {},
   "outputs": [
    {
     "data": {
      "text/plain": [
       "1329.51"
      ]
     },
     "execution_count": 5,
     "metadata": {},
     "output_type": "execute_result"
    }
   ],
   "source": [
    "# 查询书 “大学”， 所有单价的总和\n",
    "BookAllField.objects(name=\"大学\").sum(\"price\")"
   ]
  },
  {
   "cell_type": "markdown",
   "id": "d14c3885-9a6d-4990-80be-ffb8ef4d4679",
   "metadata": {},
   "source": [
    "#### **average()**  \n",
    "To get the average (mean) of a field on a collection of documents, use `average()`:\n",
    "\n",
    "```python\n",
    "mean_age = User.objects.average('age')\n",
    "```"
   ]
  },
  {
   "cell_type": "code",
   "execution_count": 6,
   "id": "defce657-7c0f-4136-b153-3fe89a869233",
   "metadata": {},
   "outputs": [
    {
     "data": {
      "text/plain": [
       "102.27"
      ]
     },
     "execution_count": 6,
     "metadata": {},
     "output_type": "execute_result"
    }
   ],
   "source": [
    "# 查询书 “大学”， 平均单价\n",
    "BookAllField.objects(name=\"大学\").average(\"price\")"
   ]
  },
  {
   "cell_type": "code",
   "execution_count": 7,
   "id": "6d6185a9-94b5-4760-8642-bd56abb680f9",
   "metadata": {},
   "outputs": [
    {
     "ename": "AttributeError",
     "evalue": "'QuerySet' object has no attribute 'max'",
     "output_type": "error",
     "traceback": [
      "\u001b[0;31m---------------------------------------------------------------------------\u001b[0m",
      "\u001b[0;31mAttributeError\u001b[0m                            Traceback (most recent call last)",
      "Cell \u001b[0;32mIn [7], line 2\u001b[0m\n\u001b[1;32m      1\u001b[0m \u001b[38;5;66;03m# 查询书 “大学”， 平均单价\u001b[39;00m\n\u001b[0;32m----> 2\u001b[0m BookAllField\u001b[38;5;241m.\u001b[39mobjects(name\u001b[38;5;241m=\u001b[39m\u001b[38;5;124m\"\u001b[39m\u001b[38;5;124m大学\u001b[39m\u001b[38;5;124m\"\u001b[39m)\u001b[38;5;241m.\u001b[39mmax(\u001b[38;5;124m\"\u001b[39m\u001b[38;5;124mprice\u001b[39m\u001b[38;5;124m\"\u001b[39m)\n",
      "\u001b[0;31mAttributeError\u001b[0m: 'QuerySet' object has no attribute 'max'"
     ]
    }
   ],
   "source": [
    "# 查询书 “大学”， 平均单价\n",
    "BookAllField.objects(name=\"大学\").max(\"price\")\n",
    "# max报错，目前只能使用 sum和average,其余需要直接使用 数据库提供的聚合查询方法"
   ]
  },
  {
   "cell_type": "markdown",
   "id": "626b2cb1-a401-4223-ab6e-de99e0fc256b",
   "metadata": {},
   "source": [
    "#### **distinct**, 输出列表"
   ]
  },
  {
   "cell_type": "code",
   "execution_count": 12,
   "id": "35dc380d-82e0-4272-8b1b-ce3fa46284c0",
   "metadata": {},
   "outputs": [
    {
     "data": {
      "text/plain": [
       "13409"
      ]
     },
     "execution_count": 12,
     "metadata": {},
     "output_type": "execute_result"
    }
   ],
   "source": [
    "len(BookAllField.objects().distinct(\"name\"))"
   ]
  },
  {
   "cell_type": "code",
   "execution_count": 20,
   "id": "e46d9f43-36e1-4c98-94fc-92b5c68375dd",
   "metadata": {},
   "outputs": [
    {
     "data": {
      "text/plain": [
       "[False, True]"
      ]
     },
     "execution_count": 20,
     "metadata": {},
     "output_type": "execute_result"
    }
   ],
   "source": [
    "BookAllField.objects().distinct(\"ifnewbook\")"
   ]
  },
  {
   "cell_type": "markdown",
   "id": "56cb81f1-edfe-467c-bcb4-c5353e1708ec",
   "metadata": {},
   "source": [
    "#### **item_frequencies**, 字段值的统计频率字典\n",
    "\n",
    "As MongoDB provides native lists, MongoEngine provides a helper method to get a dictionary of the frequencies of items in lists across an entire collection – `item_frequencies()`. An example of its use would be generating `“tag-clouds”`:\n",
    "\n",
    "```python\n",
    "class Article(Document):\n",
    "    tag = ListField(StringField())\n",
    "\n",
    "# After adding some tagged articles...\n",
    "tag_freqs = Article.objects.item_frequencies('tag', normalize=True)\n",
    "\n",
    "from operator import itemgetter\n",
    "top_tags = sorted(tag_freqs.items(), key=itemgetter(1), reverse=True)[:10]\n",
    "```"
   ]
  },
  {
   "cell_type": "code",
   "execution_count": 19,
   "id": "68d18172-bd46-4a5f-bb5a-7d268d33a4ff",
   "metadata": {},
   "outputs": [
    {
     "data": {
      "text/plain": [
       "{'必读': 5,\n",
       " '一直': 1,\n",
       " '软件': 1,\n",
       " '主题': 1,\n",
       " '历史': 4,\n",
       " '经典': 7,\n",
       " '电子': 1,\n",
       " '东西': 1,\n",
       " '提供': 1,\n",
       " '位置': 1,\n",
       " '电影': 2}"
      ]
     },
     "execution_count": 19,
     "metadata": {},
     "output_type": "execute_result"
    }
   ],
   "source": [
    "# 注意， LazyReference,字典和嵌入式文档不能使用频率统计；列表的频率统计会以列表中的值作为基础；引用类型会显示 id\n",
    "BookAllField.objects(name=\"大学\").item_frequencies(\"tag\")"
   ]
  },
  {
   "cell_type": "markdown",
   "id": "7334f284-e2f5-4143-998c-fa386153a256",
   "metadata": {},
   "source": [
    "### 2.5.7.3. MongoDB aggregation API\n",
    "\n",
    "If you need to run aggregation pipelines, MongoEngine provides an entry point to *Pymongo’s aggregation framework* through `aggregate()`. **Check out Pymongo’s documentation** for the syntax and pipeline. An example of its use would be:\n",
    "\n",
    "```python\n",
    "class Person(Document):\n",
    "    name = StringField()\n",
    "\n",
    "Person(name='John').save()\n",
    "Person(name='Bob').save()\n",
    "\n",
    "pipeline = [\n",
    "    {\"$sort\" : {\"name\" : -1}},\n",
    "    {\"$project\": {\"_id\": 0, \"name\": {\"$toUpper\": \"$name\"}}}\n",
    "    ]\n",
    "data = Person.objects().aggregate(pipeline)\n",
    "assert data == [{'name': 'BOB'}, {'name': 'JOHN'}]\n",
    "```"
   ]
  }
 ],
 "metadata": {
  "kernelspec": {
   "display_name": "Python 3 (ipykernel)",
   "language": "python",
   "name": "python3"
  },
  "language_info": {
   "codemirror_mode": {
    "name": "ipython",
    "version": 3
   },
   "file_extension": ".py",
   "mimetype": "text/x-python",
   "name": "python",
   "nbconvert_exporter": "python",
   "pygments_lexer": "ipython3",
   "version": "3.10.6"
  }
 },
 "nbformat": 4,
 "nbformat_minor": 5
}
