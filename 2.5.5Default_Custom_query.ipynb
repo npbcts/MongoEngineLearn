{
 "cells": [
  {
   "cell_type": "markdown",
   "id": "1e1bd706-dbc5-4a5c-9cf8-5b496ef17d0e",
   "metadata": {},
   "source": [
    "### 2.5.5. Default Document queries(修改默认文档查询方法)\n",
    "\n",
    "By default, the objects `objects` attribute on a document returns a `QuerySet` that doesn’t filter the collection – it returns all objects. This may be changed by defining a method on a document that modifies a queryset. The method should accept two arguments – `doc_cls` and `queryset`. The first argument is the `Document` class that the method is defined on (in this sense, the method is more like a `classmethod()` than a regular method), and the second argument is the initial queryset. The method needs to be decorated with `queryset_manager()` in order for it to be recognised.\n",
    "\n",
    "可以为文档类定义默认查询方法。可以修改原来的 `objects`方法，也可以定义单独的 查询方法。"
   ]
  },
  {
   "cell_type": "markdown",
   "id": "dfef99de-63ac-4f95-b4ae-bbb617a68970",
   "metadata": {},
   "source": [
    "```python\n",
    "class BlogPost(Document):\n",
    "    title = StringField()\n",
    "    date = DateTimeField()\n",
    "\n",
    "    @queryset_manager\n",
    "    def objects(doc_cls, queryset):\n",
    "        # This may actually also be done by defining a default ordering for\n",
    "        # the document, but this illustrates the use of manager methods\n",
    "        return queryset.order_by('-date')\n",
    "```"
   ]
  },
  {
   "cell_type": "markdown",
   "id": "9b67ec96-6d7f-4965-82f9-e71d01f1207d",
   "metadata": {},
   "source": [
    "You don’t need to call your method `objects` – you may define as many custom manager methods as you like:\n",
    "\n",
    "```python\n",
    "class BlogPost(Document):\n",
    "    title = StringField()\n",
    "    published = BooleanField()\n",
    "\n",
    "    @queryset_manager\n",
    "    def live_posts(doc_cls, queryset):\n",
    "        return queryset.filter(published=True)\n",
    "\n",
    "BlogPost(title='test1', published=False).save()\n",
    "BlogPost(title='test2', published=True).save()\n",
    "assert len(BlogPost.objects) == 2\n",
    "assert len(BlogPost.live_posts()) == 1\n",
    "```"
   ]
  },
  {
   "cell_type": "markdown",
   "id": "fd491c3d-5dd8-47ec-8be0-90083e7166cb",
   "metadata": {},
   "source": [
    "### 2.5.6. Custom QuerySets(另一种定制化查询的方法)\n",
    "\n",
    "Should you want to add custom methods for interacting with or filtering documents, extending the `QuerySet` class may be the way to go. To use a custom `QuerySet` class on a document, set `queryset_class` to the custom class in a Document’s `meta` dictionary:\n",
    "\n",
    "```python\n",
    "class AwesomerQuerySet(QuerySet):\n",
    "\n",
    "    def get_awesome(self):\n",
    "        return self.filter(awesome=True)\n",
    "\n",
    "class Page(Document):\n",
    "    meta = {'queryset_class': AwesomerQuerySet}\n",
    "\n",
    "# To call:\n",
    "Page.objects.get_awesome()\n",
    "```"
   ]
  }
 ],
 "metadata": {
  "kernelspec": {
   "display_name": "Python 3 (ipykernel)",
   "language": "python",
   "name": "python3"
  },
  "language_info": {
   "codemirror_mode": {
    "name": "ipython",
    "version": 3
   },
   "file_extension": ".py",
   "mimetype": "text/x-python",
   "name": "python",
   "nbconvert_exporter": "python",
   "pygments_lexer": "ipython3",
   "version": "3.10.6"
  }
 },
 "nbformat": 4,
 "nbformat_minor": 5
}
