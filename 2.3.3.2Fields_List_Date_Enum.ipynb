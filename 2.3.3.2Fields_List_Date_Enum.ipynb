{
 "cells": [
  {
   "cell_type": "markdown",
   "id": "d50810f0-0fbe-4217-bce8-34cde4e31224",
   "metadata": {},
   "source": [
    "## 文档的创建和实例"
   ]
  },
  {
   "cell_type": "code",
   "execution_count": 2,
   "id": "6a34be15-fcaa-44be-9fe0-9147752bb296",
   "metadata": {},
   "outputs": [],
   "source": [
    "from mongoengine import connect, disconnect\n",
    "from mongoengine import Document\n",
    "from mongoengine import StringField, IntField\n",
    "from mongo_config import TEST_DB1, TEST_DB2, TEST_DB3, HOST, PORT, USERNAME, PASSWORD"
   ]
  },
  {
   "cell_type": "code",
   "execution_count": 4,
   "id": "2b05d6fa-22e8-420f-b9e9-2a0f9f602ef1",
   "metadata": {},
   "outputs": [],
   "source": [
    "from mongoengine import BooleanField, DateTimeField, DictField, EmailField, FloatField, ListField, ReferenceField"
   ]
  },
  {
   "cell_type": "code",
   "execution_count": 3,
   "id": "79663e3f-877c-445b-95e9-123b77493037",
   "metadata": {},
   "outputs": [
    {
     "data": {
      "text/plain": [
       "MongoClient(host=['192.168.2.172:27017'], document_class=dict, tz_aware=False, connect=True, read_preference=Primary(), uuidrepresentation=3)"
      ]
     },
     "execution_count": 3,
     "metadata": {},
     "output_type": "execute_result"
    }
   ],
   "source": [
    "# 连接到已创建的数据库\n",
    "connect(TEST_DB1, host=HOST, port=PORT, username=USERNAME, password=PASSWORD, authentication_source=TEST_DB1, alias=TEST_DB1)\n",
    "connect(TEST_DB2, host=HOST, port=PORT, username=USERNAME, password=PASSWORD, authentication_source=TEST_DB2, alias=TEST_DB2)\n",
    "connect(TEST_DB3, host=HOST, port=PORT, username=USERNAME, password=PASSWORD, authentication_source=TEST_DB3, alias=TEST_DB3)"
   ]
  },
  {
   "cell_type": "markdown",
   "id": "d7e4ab24-45de-450a-bae7-68f0662569dd",
   "metadata": {},
   "source": [
    "### 使用Enum, choice, 限定某一个字段值的范围\n",
    "\n",
    "Values are stored underneath as is, so it will only work with **simple types (str, int, etc)** that are bson encodable"
   ]
  },
  {
   "cell_type": "code",
   "execution_count": 43,
   "id": "c8f0d2e5-3d7f-49c3-9933-831d7bc70213",
   "metadata": {},
   "outputs": [],
   "source": [
    "from enum import Enum  # Python 3.4 中新增加了 Enum 枚举类。也就是说，对于这些实例化对象个数固定的类，可以用枚举类来定义\n",
    "class BookTypeEnum(Enum):\n",
    "    IT = \"计算机\"\n",
    "    ECONOMIC = \"经济\"\n",
    "    LITERATURE = \"文学\"\n",
    "    HISTORY = \"历史\"\n",
    "    MATH = \"数学\""
   ]
  },
  {
   "cell_type": "code",
   "execution_count": 46,
   "id": "0f1ceff0-c81d-44a6-96c1-078286adacfc",
   "metadata": {},
   "outputs": [],
   "source": [
    "from mongoengine import EnumField\n",
    "class BookEnum(Document):\n",
    "    bookid = StringField()\n",
    "    name = StringField()\n",
    "    book_type = EnumField(BookTypeEnum, default=BookTypeEnum.IT)\n",
    "    meta = {\"db_alias\": TEST_DB1}"
   ]
  },
  {
   "cell_type": "code",
   "execution_count": 36,
   "id": "bce549b2-a26a-4638-bb1f-bed020ce4500",
   "metadata": {},
   "outputs": [
    {
     "data": {
      "text/plain": [
       "<BookEnum: BookEnum object>"
      ]
     },
     "execution_count": 36,
     "metadata": {},
     "output_type": "execute_result"
    }
   ],
   "source": [
    "# 如果赋值字段不在 Enum类 范围内，将报错\n",
    "book_enum = BookEnum(bookid=\"wx9387221\")\n",
    "book_enum.name = \"论语\"\n",
    "book_enum.book_type = BookTypeEnum.LITERATURE  # 使用Enum类赋值\n",
    "book_enum.save()"
   ]
  },
  {
   "cell_type": "code",
   "execution_count": 42,
   "id": "9f80c392-0d61-4481-91f4-789db0df76af",
   "metadata": {},
   "outputs": [
    {
     "data": {
      "text/plain": [
       "<BookEnum: BookEnum object>"
      ]
     },
     "execution_count": 42,
     "metadata": {},
     "output_type": "execute_result"
    }
   ],
   "source": [
    "# 也可以直接使用Enum的值赋值给字段\n",
    "BookEnum(bookid=\"wx9387e492\", name=\"春秋\", book_type=\"历史\").save()"
   ]
  },
  {
   "cell_type": "code",
   "execution_count": 45,
   "id": "f07d2cdf-9345-409d-9014-dcbf0b24a86c",
   "metadata": {},
   "outputs": [],
   "source": [
    "# 使用字段通用参数choice的情形\n",
    "class BookEnumChoice(Document):\n",
    "    bookid = StringField()\n",
    "    name = StringField()\n",
    "    book_type = EnumField(BookTypeEnum, default=BookTypeEnum.IT, choices=[BookTypeEnum.IT, BookTypeEnum.MATH])\n",
    "    meta = {\"db_alias\": TEST_DB1}"
   ]
  },
  {
   "cell_type": "code",
   "execution_count": null,
   "id": "105b0f88-e29b-45af-8a79-0ffd7c141e19",
   "metadata": {},
   "outputs": [],
   "source": [
    "# choices限定后，如果值不在之内，则报错 ValidationError\n",
    "BookEnumChoice(bookid=\"wx9dd3492\", name=\"春秋\", book_type=\"历史\").save()"
   ]
  },
  {
   "cell_type": "code",
   "execution_count": 48,
   "id": "cfde169c-e83b-4b31-ba68-95d9fae1af91",
   "metadata": {},
   "outputs": [
    {
     "data": {
      "text/plain": [
       "<BookEnumChoice: BookEnumChoice object>"
      ]
     },
     "execution_count": 48,
     "metadata": {},
     "output_type": "execute_result"
    }
   ],
   "source": [
    "BookEnumChoice(bookid=\"wx9dd3492\", name=\"C语言基础\").save()"
   ]
  },
  {
   "cell_type": "code",
   "execution_count": 49,
   "id": "e357fcee-8331-4337-b1ad-12220516f95d",
   "metadata": {},
   "outputs": [
    {
     "data": {
      "text/plain": [
       "<BookEnumChoice: BookEnumChoice object>"
      ]
     },
     "execution_count": 49,
     "metadata": {},
     "output_type": "execute_result"
    }
   ],
   "source": [
    "BookEnumChoice(bookid=\"wx9dd3492\", name=\"Python入门经典\", book_type=BookTypeEnum.MATH).save()"
   ]
  },
  {
   "cell_type": "markdown",
   "id": "611459ce-50b4-48c8-ad3c-34a72341a168",
   "metadata": {
    "tags": []
   },
   "source": [
    "### DateTimeField字段"
   ]
  },
  {
   "cell_type": "code",
   "execution_count": 53,
   "id": "91e14af8-3cce-4d5d-a035-286ba4ff2aeb",
   "metadata": {},
   "outputs": [],
   "source": [
    "from datetime import datetime\n",
    "class BookDate(Document):\n",
    "    bookid = StringField()\n",
    "    name = StringField()\n",
    "    chapter = StringField(required=True, default=\"2.3-2.4\")\n",
    "    shelves_date = DateTimeField(default=datetime.now)  # 注意，此时传入参数并不立即执行，即不添加()\n",
    "    meta = {\"db_alias\": TEST_DB1}"
   ]
  },
  {
   "cell_type": "code",
   "execution_count": 52,
   "id": "dfc448f6-dffe-4d9d-aa94-74b9296215ee",
   "metadata": {},
   "outputs": [
    {
     "data": {
      "text/plain": [
       "<BookDate: BookDate object>"
      ]
     },
     "execution_count": 52,
     "metadata": {},
     "output_type": "execute_result"
    }
   ],
   "source": [
    "BookDate(bookid=\"wx93kkid3\", name=\"格林童话\").save()  # 使用默认的日期"
   ]
  },
  {
   "cell_type": "code",
   "execution_count": 54,
   "id": "6df140ac-d761-46a4-8634-e87037b2f7de",
   "metadata": {},
   "outputs": [
    {
     "data": {
      "text/plain": [
       "<BookDate: BookDate object>"
      ]
     },
     "execution_count": 54,
     "metadata": {},
     "output_type": "execute_result"
    }
   ],
   "source": [
    "BookDate(bookid=\"wx9349id3\", name=\"小王子\").save()  # 使用默认的日期"
   ]
  },
  {
   "cell_type": "code",
   "execution_count": 56,
   "id": "c98f205d-f5f1-45a5-9f16-ae5f0d8ccea1",
   "metadata": {},
   "outputs": [
    {
     "data": {
      "text/plain": [
       "<BookDate: BookDate object>"
      ]
     },
     "execution_count": 56,
     "metadata": {},
     "output_type": "execute_result"
    }
   ],
   "source": [
    "# 字符串类型的日期，转化为时间类型的日期并存储至 DateTimeField 字段中\n",
    "book_d = BookDate(bookid=\"wx9326700\", name=\"道德经\")\n",
    "book_d.shelves_date = datetime.strptime(\"2020/12/29 8:8:00\",'%Y/%m/%d %H:%M:%S')\n",
    "book_d.save()\n",
    "# 使用 datetime 进行日期数据类型的操作"
   ]
  },
  {
   "cell_type": "markdown",
   "id": "b25e1d8d-0322-4260-9bc7-335376fa6d5e",
   "metadata": {},
   "source": [
    "### 列表字段  List fields\n",
    "\n",
    "ListField takes another field object as its first argument, which specifies which type elements may be stored within the list"
   ]
  },
  {
   "cell_type": "code",
   "execution_count": 5,
   "id": "7609cffc-ec99-40ae-b1e1-66a6b0ba0355",
   "metadata": {},
   "outputs": [],
   "source": [
    "class BookList(Document):\n",
    "    bookid = StringField()\n",
    "    name = StringField()\n",
    "    chapter = StringField(required=True, default=\"2.3-2.4\")\n",
    "    tags = ListField(StringField(max_length=50))\n",
    "    meta = {\"db_alias\": TEST_DB1}"
   ]
  },
  {
   "cell_type": "code",
   "execution_count": 6,
   "id": "0d8d47b3-ac70-4016-a879-90324c124405",
   "metadata": {},
   "outputs": [
    {
     "data": {
      "text/plain": [
       "<BookList: BookList object>"
      ]
     },
     "execution_count": 6,
     "metadata": {},
     "output_type": "execute_result"
    }
   ],
   "source": [
    "book_l = BookList(bookid=\"wx932wq700\", name=\"大学\")\n",
    "book_l.tags = [\"古典名著\", \"儒家经典\"]\n",
    "book_l.save()"
   ]
  },
  {
   "cell_type": "code",
   "execution_count": null,
   "id": "1d10df69-4176-43ce-be1e-c61720d2ed24",
   "metadata": {},
   "outputs": [],
   "source": []
  },
  {
   "cell_type": "code",
   "execution_count": null,
   "id": "f5087a60-7663-409f-88c0-ca5a3c5702c3",
   "metadata": {},
   "outputs": [],
   "source": []
  }
 ],
 "metadata": {
  "kernelspec": {
   "display_name": "Python 3 (ipykernel)",
   "language": "python",
   "name": "python3"
  },
  "language_info": {
   "codemirror_mode": {
    "name": "ipython",
    "version": 3
   },
   "file_extension": ".py",
   "mimetype": "text/x-python",
   "name": "python",
   "nbconvert_exporter": "python",
   "pygments_lexer": "ipython3",
   "version": "3.10.6"
  }
 },
 "nbformat": 4,
 "nbformat_minor": 5
}
