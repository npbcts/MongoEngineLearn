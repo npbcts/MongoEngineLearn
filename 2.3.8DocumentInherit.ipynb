{
 "cells": [
  {
   "cell_type": "markdown",
   "id": "d50810f0-0fbe-4217-bce8-34cde4e31224",
   "metadata": {},
   "source": [
    "## 文档的继承"
   ]
  },
  {
   "cell_type": "code",
   "execution_count": 1,
   "id": "6a34be15-fcaa-44be-9fe0-9147752bb296",
   "metadata": {},
   "outputs": [],
   "source": [
    "from mongoengine import connect, disconnect\n",
    "from mongoengine import Document, DynamicDocument\n",
    "from mongoengine import StringField, IntField\n",
    "from mongo_config import TEST_DB1, TEST_DB2, TEST_DB3, HOST, PORT, USERNAME, PASSWORD"
   ]
  },
  {
   "cell_type": "code",
   "execution_count": 2,
   "id": "2b05d6fa-22e8-420f-b9e9-2a0f9f602ef1",
   "metadata": {},
   "outputs": [],
   "source": [
    "from mongoengine import BooleanField, DateTimeField, DictField, EmailField, FloatField, ListField, ReferenceField"
   ]
  },
  {
   "cell_type": "code",
   "execution_count": 3,
   "id": "79663e3f-877c-445b-95e9-123b77493037",
   "metadata": {},
   "outputs": [
    {
     "data": {
      "text/plain": [
       "MongoClient(host=['192.168.2.172:27017'], document_class=dict, tz_aware=False, connect=True, read_preference=Primary(), uuidrepresentation=3)"
      ]
     },
     "execution_count": 3,
     "metadata": {},
     "output_type": "execute_result"
    }
   ],
   "source": [
    "# 连接到已创建的数据库\n",
    "connect(TEST_DB1, host=HOST, port=PORT, username=USERNAME, password=PASSWORD, authentication_source=TEST_DB1, alias=TEST_DB1)\n",
    "connect(TEST_DB2, host=HOST, port=PORT, username=USERNAME, password=PASSWORD, authentication_source=TEST_DB2, alias=TEST_DB2)\n",
    "connect(TEST_DB3, host=HOST, port=PORT, username=USERNAME, password=PASSWORD, authentication_source=TEST_DB3, alias=TEST_DB3)"
   ]
  },
  {
   "cell_type": "markdown",
   "id": "4cf4b83f-c1a6-4636-a1d6-bbb68cec8cf7",
   "metadata": {},
   "source": [
    "### 2.3.8. Document inheritance(文档继承)\n",
    "\n",
    "To create a specialised type of a `Document` you have defined, you may *subclass it and add any extra fields or methods you may need*. As this new class is not a direct subclass of `Document`, **it will not be stored in its own collection**; it will use the same collection as its superclass uses. This allows for more convenient and efficient retrieval of related documents – all you need do is set `allow_inheritance` to `True` in the `meta` data for a document\n",
    "\n",
    "创建一个继承自现有文档类(此文档类继承自 `Document`)的新类， 新类由于没有直接继承自 `Document`, 所以不会在数据库中建立集合。这样做的好处是**可以在原有的 文档类 基础上添加 额外的字段和类方法**。 需要继承现有文档类的 `meta` 参数 是  `allow_inheritance` to `True`."
   ]
  },
  {
   "cell_type": "code",
   "execution_count": 6,
   "id": "54b5175b-4cd7-484f-a653-ded50a0cae4a",
   "metadata": {},
   "outputs": [],
   "source": [
    "class BookInherit(Document):\n",
    "    bookid = StringField()\n",
    "    name = StringField()\n",
    "    meta = {\n",
    "        \"db_alias\": TEST_DB1,\n",
    "        \"allow_inheritance\": True\n",
    "        # 不设置此参数时报错: \n",
    "        #ValueError: Document BookOrdering may not be subclassed. \n",
    "        # To enable inheritance, use the \"allow_inheritance\" meta attribute.\n",
    "    }\n",
    "\n",
    "class BookExtra(BookInherit):\n",
    "    count = IntField()\n",
    "    # 继承类，不需要设置 meta 参数"
   ]
  },
  {
   "cell_type": "code",
   "execution_count": 31,
   "id": "6c102df2-e412-49b1-9881-12c0a70ae104",
   "metadata": {},
   "outputs": [
    {
     "data": {
      "text/plain": [
       "<BookExtra: BookExtra object>"
      ]
     },
     "execution_count": 31,
     "metadata": {},
     "output_type": "execute_result"
    }
   ],
   "source": [
    "BookInherit(bookid=\"wx000006\", name=\"水浒传\").save()\n",
    "BookExtra(bookid=\"wx000007\", name=\"红楼梦\", count=109).save()"
   ]
  },
  {
   "cell_type": "markdown",
   "id": "0de931a1-a74e-4304-9759-b130774d43e4",
   "metadata": {},
   "source": [
    "BookInherit 保存结果:\n",
    "```json\n",
    "{\n",
    "    \"_id\" : ObjectId(\"63ff4f123ba566dfccb4e2ac\"),\n",
    "    \"_cls\" : \"BookInherit\",\n",
    "    \"bookid\" : \"wx000006\",\n",
    "    \"name\" : \"水浒传\"\n",
    "}\n",
    "```\n",
    "BookExtra 保存结果:\n",
    "```json\n",
    "{\n",
    "    \"_id\" : ObjectId(\"63ff4f123ba566dfccb4e2ad\"),\n",
    "    \"_cls\" : \"BookInherit.BookExtra\",\n",
    "    \"bookid\" : \"wx000007\",\n",
    "    \"name\" : \"红楼梦\",\n",
    "    \"count\" : NumberInt(109)\n",
    "}\n",
    "```\n",
    "可以看到，保存的结果中，**自动添加了字段 `_cls`**"
   ]
  },
  {
   "cell_type": "markdown",
   "id": "eab0c4d3-93c5-4275-9983-d04d6b5a8171",
   "metadata": {},
   "source": [
    "### 继承文档的注意事项\n",
    "\n",
    "> From 0.8 onwards `allow_inheritance` defaults to `False`, meaning you must set it to `True` to use inheritance. \n",
    "> Setting `allow_inheritance` to `True` should also be used in **`EmbeddedDocument`** class in case you need to subclass it"
   ]
  },
  {
   "cell_type": "markdown",
   "id": "5ebb8202-1c77-4bf6-a801-e655d4bd6f43",
   "metadata": {},
   "source": [
    "### 继承文档的检索\n",
    "\n",
    "When it comes to querying using `objects()`, querying `BookInherit.objects()` will query both `BookInherit` and `BookExtra` whereas querying `BookExtra` will only query the `BookExtra` documents. Behind the scenes, MongoEngine deals with inheritance by adding a `_cls` attribute that contains the class name in every documents. When a document is loaded, MongoEngine checks it’s `_cls` attribute and use that class to construct the instance.\n",
    "\n",
    "即： 基类的检索结果包括基类和子类；而子类的检索结果只包括子类。这个过程，是通过存在继承关系的类文档， 在基类和子类生成的文档中 **自动添加了字段 `_cls`** 完成的。"
   ]
  },
  {
   "cell_type": "code",
   "execution_count": 7,
   "id": "44c2cd15-13d0-4b34-ae63-ae8e591f0480",
   "metadata": {},
   "outputs": [
    {
     "data": {
      "text/plain": [
       "'[{\"_id\": {\"$oid\": \"63ff4f123ba566dfccb4e2ac\"}, \"_cls\": \"BookInherit\", \"bookid\": \"wx000006\", \"name\": \"\\\\u6c34\\\\u6d52\\\\u4f20\"}, {\"_id\": {\"$oid\": \"63ff4f123ba566dfccb4e2ad\"}, \"_cls\": \"BookInherit.BookExtra\", \"bookid\": \"wx000007\", \"name\": \"\\\\u7ea2\\\\u697c\\\\u68a6\", \"count\": 109}]'"
      ]
     },
     "execution_count": 7,
     "metadata": {},
     "output_type": "execute_result"
    }
   ],
   "source": [
    "BookInherit.objects.to_json()"
   ]
  },
  {
   "cell_type": "code",
   "execution_count": 8,
   "id": "6d0fcbff-2169-4a3f-a014-a1d85ddffe59",
   "metadata": {},
   "outputs": [
    {
     "data": {
      "text/plain": [
       "'[{\"_id\": {\"$oid\": \"63ff4f123ba566dfccb4e2ad\"}, \"_cls\": \"BookInherit.BookExtra\", \"bookid\": \"wx000007\", \"name\": \"\\\\u7ea2\\\\u697c\\\\u68a6\", \"count\": 109}]'"
      ]
     },
     "execution_count": 8,
     "metadata": {},
     "output_type": "execute_result"
    }
   ],
   "source": [
    "BookExtra.objects.to_json()"
   ]
  },
  {
   "cell_type": "markdown",
   "id": "50967605-6f04-4cb3-aac8-16d4549a9676",
   "metadata": {},
   "source": [
    "### 2.3.8.1 Working with existing data(在已有数据基础上工作)\n",
    "\n",
    "As MongoEngine no longer defaults to needing `_cls`, you can quickly and easily get working with existing data. Just define the document to match the expected schema in your database  \n",
    "译: 由于 MongoEngine 不再默认需要 `_cls`，您可以快速轻松地使用现有数据。只需定义文档以匹配数据库中的预期模式。\n",
    "\n",
    "If you have wildly varying schemas then using a `DynamicDocument` might be more appropriate, instead of defining all possible field types.\n",
    "译： 如果数据模式变化很大， 在已有数据基础上创建 `DynamicDocument` 动态文档类比定义所有可能的字段更为合适。\n",
    "\n",
    "If you use `Document` and the database contains data that isn’t defined then that data will be stored in the `document._data` dictionary.\n",
    "译： 如果你使用了  `Document` 类基础上创建 文档类去匹配现有集合中的文档，没有被定义的已有数据字段，将被储存在 字典 `document._data` 中。\n"
   ]
  },
  {
   "cell_type": "code",
   "execution_count": 4,
   "id": "8b4e8571-7bad-4d1c-894a-38bdc01972bb",
   "metadata": {},
   "outputs": [],
   "source": [
    "# 使用 DynamicDocument 对应现有的数据库 book_inherit\n",
    "# 注意参数 \"collection\": \"book_inherit\"\n",
    "class BookExistingData(DynamicDocument):\n",
    "    bookid = StringField()\n",
    "    name = StringField()\n",
    "    meta = {\n",
    "        \"db_alias\": TEST_DB1,\n",
    "        \"collection\": \"book_all_field\"\n",
    "    }"
   ]
  },
  {
   "cell_type": "code",
   "execution_count": 5,
   "id": "cde7f148-2e50-4c38-83d2-23e40632fabf",
   "metadata": {},
   "outputs": [
    {
     "data": {
      "text/plain": [
       "'[{\"_id\": {\"$oid\": \"63fcd8131be34fe2c671fb4b\"}, \"bookid\": \"wx092761\", \"name\": \"\\\\u53f2\\\\u8bb0\", \"ifnewbook\": false, \"author\": {\"$oid\": \"63fcd8131be34fe2c671fb4a\"}, \"price\": 19.8, \"tag\": [\"\\\\u5386\\\\u53f2\", \"\\\\u7ecf\\\\u5178\"]}, {\"_id\": {\"$oid\": \"63fe9de15990799fbfd9fb90\"}, \"bookid\": \"wx09sah61\", \"name\": \"\\\\u672c\\\\u8349\\\\u7eb2\\\\u76ee\", \"ifnewbook\": false, \"author\": {\"$oid\": \"63fe9da75990799fbfd9fb8e\"}, \"author_email\": \"lsz@qq.com\", \"price\": 19.8, \"book_type\": {\"$oid\": \"63fe9da75990799fbfd9fb8f\"}, \"tag\": []}]'"
      ]
     },
     "execution_count": 5,
     "metadata": {},
     "output_type": "execute_result"
    }
   ],
   "source": [
    "BookExistingData.objects.to_json()\n",
    "# BookExistingData 中较 数据库中已有文档缺少 count 字段\n",
    "# 继承了动态文档类之后， 能够 像正常获取文档一样获取数据"
   ]
  },
  {
   "cell_type": "code",
   "execution_count": 6,
   "id": "37191ab6-956b-497d-a41c-fcfd6e92c192",
   "metadata": {},
   "outputs": [],
   "source": [
    "# 使用 Document 对应现有的数据库 book_inherit\n",
    "# 注意参数 \"collection\": \"book_inherit\"\n",
    "class BookExistingData2(Document):\n",
    "    bookid = StringField()\n",
    "    name = StringField()\n",
    "    meta = {\n",
    "        \"db_alias\": TEST_DB1,\n",
    "        \"collection\": \"book_all_field\"\n",
    "    }"
   ]
  },
  {
   "cell_type": "code",
   "execution_count": 7,
   "id": "0f2b8c90-f509-41fd-9875-d9a8f4712d7f",
   "metadata": {},
   "outputs": [
    {
     "data": {
      "text/plain": [
       "'[{\"_id\": {\"$oid\": \"63fcd8131be34fe2c671fb4b\"}, \"bookid\": \"wx092761\", \"name\": \"\\\\u53f2\\\\u8bb0\", \"ifnewbook\": false, \"author\": {\"$oid\": \"63fcd8131be34fe2c671fb4a\"}, \"price\": 19.8, \"tag\": [\"\\\\u5386\\\\u53f2\", \"\\\\u7ecf\\\\u5178\"]}, {\"_id\": {\"$oid\": \"63fe9de15990799fbfd9fb90\"}, \"bookid\": \"wx09sah61\", \"name\": \"\\\\u672c\\\\u8349\\\\u7eb2\\\\u76ee\", \"ifnewbook\": false, \"author\": {\"$oid\": \"63fe9da75990799fbfd9fb8e\"}, \"author_email\": \"lsz@qq.com\", \"price\": 19.8, \"book_type\": {\"$oid\": \"63fe9da75990799fbfd9fb8f\"}, \"tag\": []}]'"
      ]
     },
     "execution_count": 7,
     "metadata": {},
     "output_type": "execute_result"
    }
   ],
   "source": [
    "BookExistingData2.objects.to_json()\n",
    "# BookExistingData 中较 数据库中已有文档缺少 count 字段\n",
    "# 文档类之后， 能够 像正常获取文档一样获取数据????"
   ]
  },
  {
   "cell_type": "markdown",
   "id": "139ba418-8658-4019-813f-5261b437b91d",
   "metadata": {},
   "source": [
    "总结: 在现有的数据上 创建 文档类， 有诸多不便， 查询后增加了 新的字段 `\"_id\": {\"$oid\": \"63fcd8131be34fe2c671fb4b\"}`"
   ]
  },
  {
   "cell_type": "markdown",
   "id": "e45c88a6-03fa-448f-ac0c-1400897fb677",
   "metadata": {},
   "source": [
    "### 2.3.9. Abstract classes(抽象的文档类)\n",
    "\n",
    "If you want to add some extra functionality to a group of Document classes but you don’t need or want the overhead of inheritance you can use the `abstract` attribute of `meta`. This won’t turn on Document inheritance but will allow you to keep your code DRY(Don’t repeat yourself).\n",
    "\n",
    "译： 如果你想为一组文档类(Document classes)添加额外的功能， 但你又不想使用继承的方法，可以使用 创建抽象文档类。这样可以使你的代码保持简洁而不重复(DRY)。"
   ]
  },
  {
   "cell_type": "code",
   "execution_count": 14,
   "id": "e9201ee2-6a37-451c-b4ba-e8f70b30f912",
   "metadata": {},
   "outputs": [],
   "source": [
    "from mongoengine import ValidationError\n",
    "class BaseDocument(Document):\n",
    "    meta = {\n",
    "        \"db_alias\": TEST_DB1,\n",
    "        'abstract': True,\n",
    "    }\n",
    "    def _not_empty(val):\n",
    "        if not val:\n",
    "            # 创建一个通用的，判断输入文本不为空的函数\n",
    "            raise ValidationError('value can not be empty')\n",
    "\n",
    "class BookAbstract1(BaseDocument):\n",
    "    bookid = StringField(validation=BaseDocument._not_empty)\n",
    "    name = StringField()"
   ]
  },
  {
   "cell_type": "code",
   "execution_count": null,
   "id": "a2ccea51-06ac-4ae4-9c40-77a1cc4bac67",
   "metadata": {},
   "outputs": [],
   "source": [
    "BookAbstract1(bookid=\"\", name=\"中庸\").save()\n",
    "# 报错如下:\n",
    "# ValidationError: ValidationError (BookAbstract1:None) (value can not be empty: ['bookid'])"
   ]
  },
  {
   "cell_type": "code",
   "execution_count": 17,
   "id": "a20779b1-036c-4672-9574-f4fe92512b2e",
   "metadata": {},
   "outputs": [
    {
     "data": {
      "text/plain": [
       "<BookAbstract1: BookAbstract1 object>"
      ]
     },
     "execution_count": 17,
     "metadata": {},
     "output_type": "execute_result"
    }
   ],
   "source": [
    "BookAbstract1(bookid=\"abc\", name=\"中庸\").save()  # 正常保存至 集合 book_abstract1 中"
   ]
  },
  {
   "cell_type": "code",
   "execution_count": 18,
   "id": "6a2ba8a0-fc2c-490f-a222-da82afde532e",
   "metadata": {},
   "outputs": [],
   "source": [
    "class BookAbstract2(BaseDocument):\n",
    "    bookid = StringField()\n",
    "    name = StringField(validation=BaseDocument._not_empty)"
   ]
  },
  {
   "cell_type": "code",
   "execution_count": null,
   "id": "be5179c5-222a-4f3c-b069-71c857b6de74",
   "metadata": {},
   "outputs": [],
   "source": [
    "BookAbstract2(bookid=\"dshj\", name=\"\").save()\n",
    "# 报错如下:\n",
    "# ValidationError: ValidationError (BookAbstract2:None) (value can not be empty: ['name'])"
   ]
  },
  {
   "cell_type": "code",
   "execution_count": 20,
   "id": "b39a51c8-fd90-4b0a-af2e-53017f070066",
   "metadata": {},
   "outputs": [
    {
     "data": {
      "text/plain": [
       "<BookAbstract2: BookAbstract2 object>"
      ]
     },
     "execution_count": 20,
     "metadata": {},
     "output_type": "execute_result"
    }
   ],
   "source": [
    "BookAbstract2(bookid=\"dshj\", name=\"诗经\").save()  # 正常保存至 集合 book_abstract2 中"
   ]
  },
  {
   "cell_type": "markdown",
   "id": "faacd736-96d3-4866-968c-8421f0646f4b",
   "metadata": {},
   "source": [
    "### 总结\n",
    "\n",
    "- 2.3.8. Document inheritance(文档继承) 对于扩展文档很有帮助；\n",
    "- 2.3.9. Abstract classes(抽象的文档类)对于将通用方法写在一起避免重复很有帮助\n",
    "- 2.3.8.1 Working with existing data(在已有数据基础上工作)，对于更为细致的延续数据管理帮助不大。"
   ]
  }
 ],
 "metadata": {
  "kernelspec": {
   "display_name": "Python 3 (ipykernel)",
   "language": "python",
   "name": "python3"
  },
  "language_info": {
   "codemirror_mode": {
    "name": "ipython",
    "version": 3
   },
   "file_extension": ".py",
   "mimetype": "text/x-python",
   "name": "python",
   "nbconvert_exporter": "python",
   "pygments_lexer": "ipython3",
   "version": "3.10.6"
  }
 },
 "nbformat": 4,
 "nbformat_minor": 5
}
