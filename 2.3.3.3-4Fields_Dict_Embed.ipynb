{
 "cells": [
  {
   "cell_type": "markdown",
   "id": "d50810f0-0fbe-4217-bce8-34cde4e31224",
   "metadata": {},
   "source": [
    "## 文档的创建和实例"
   ]
  },
  {
   "cell_type": "code",
   "execution_count": 2,
   "id": "6a34be15-fcaa-44be-9fe0-9147752bb296",
   "metadata": {},
   "outputs": [],
   "source": [
    "from mongoengine import connect, disconnect\n",
    "from mongoengine import Document\n",
    "from mongoengine import StringField, IntField\n",
    "from mongo_config import TEST_DB1, TEST_DB2, TEST_DB3, HOST, PORT, USERNAME, PASSWORD"
   ]
  },
  {
   "cell_type": "code",
   "execution_count": 4,
   "id": "2b05d6fa-22e8-420f-b9e9-2a0f9f602ef1",
   "metadata": {},
   "outputs": [],
   "source": [
    "from mongoengine import BooleanField, DateTimeField, DictField, EmailField, FloatField, ListField, ReferenceField"
   ]
  },
  {
   "cell_type": "code",
   "execution_count": 3,
   "id": "79663e3f-877c-445b-95e9-123b77493037",
   "metadata": {},
   "outputs": [
    {
     "data": {
      "text/plain": [
       "MongoClient(host=['192.168.2.172:27017'], document_class=dict, tz_aware=False, connect=True, read_preference=Primary(), uuidrepresentation=3)"
      ]
     },
     "execution_count": 3,
     "metadata": {},
     "output_type": "execute_result"
    }
   ],
   "source": [
    "# 连接到已创建的数据库\n",
    "connect(TEST_DB1, host=HOST, port=PORT, username=USERNAME, password=PASSWORD, authentication_source=TEST_DB1, alias=TEST_DB1)\n",
    "connect(TEST_DB2, host=HOST, port=PORT, username=USERNAME, password=PASSWORD, authentication_source=TEST_DB2, alias=TEST_DB2)\n",
    "connect(TEST_DB3, host=HOST, port=PORT, username=USERNAME, password=PASSWORD, authentication_source=TEST_DB3, alias=TEST_DB3)"
   ]
  },
  {
   "cell_type": "markdown",
   "id": "01f2a53f-02e8-48d9-b864-7128cd456901",
   "metadata": {},
   "source": [
    "### 嵌入式文档，字段 EmbeddedDocuments，EmbeddedDocumentField, 字典字段DictFiled \n",
    "\n",
    "MongoDb能够将文档嵌入到其他文档中。可以为这些嵌入式文档定义模式，就像常规文档定义一样，但继承自EmbeddedDocuments而不是Documents。  \n",
    "嵌入文档(可以是正常文档)，是以 EmbeddedDocumentField 的形式包含被嵌入文档的。\n",
    "当然，从储存数据结果角度， 字典字段DictField也可以储存相同的内容，但失去了 数据模式检查字段规范的能力。\n",
    "单独的嵌入文档 类，并不单独储存值集合中，也是区别 引用字段ReferenceField的方面。"
   ]
  },
  {
   "cell_type": "code",
   "execution_count": 8,
   "id": "89de34ee-4517-4776-a550-e24fe44efccb",
   "metadata": {},
   "outputs": [],
   "source": [
    "from mongoengine import EmbeddedDocument, EmbeddedDocumentField\n",
    "class Author(EmbeddedDocument):\n",
    "    name = StringField()\n",
    "    age = StringField()"
   ]
  },
  {
   "cell_type": "code",
   "execution_count": 9,
   "id": "f8de0483-6407-40b7-b434-466d7cd9c42b",
   "metadata": {},
   "outputs": [],
   "source": [
    "class BookWithAuthor(Document):\n",
    "    bookid = StringField()\n",
    "    name = StringField()\n",
    "    chapter = StringField(required=True, default=\"2.3-2.4\")\n",
    "    author = EmbeddedDocumentField(Author)\n",
    "    meta = {\"db_alias\": TEST_DB1}"
   ]
  },
  {
   "cell_type": "code",
   "execution_count": 10,
   "id": "9dfd5b4c-6ae6-4640-bd11-092824b1feeb",
   "metadata": {},
   "outputs": [
    {
     "data": {
      "text/plain": [
       "<BookWithAuthor: BookWithAuthor object>"
      ]
     },
     "execution_count": 10,
     "metadata": {},
     "output_type": "execute_result"
    }
   ],
   "source": [
    "author = Author(name=\"司马迁\", age=\"西汉\")\n",
    "book_a = BookWithAuthor(bookid=\"wx93ll700\", name=\"史记\", author=author)\n",
    "book_a.save()"
   ]
  },
  {
   "cell_type": "markdown",
   "id": "40916496-9680-47ec-be9c-90245abcbb95",
   "metadata": {},
   "source": [
    "mongodb保存结果:\n",
    "```python\n",
    "{\n",
    "    \"_id\" : ObjectId(\"63fe09b96afa912dc75ba51e\"),\n",
    "    \"bookid\" : \"wx93ll700\",\n",
    "    \"name\" : \"史记\",\n",
    "    \"chapter\" : \"2.3-2.4\",\n",
    "    \"author\" : {\n",
    "        \"name\" : \"司马迁\",\n",
    "        \"age\" : \"西汉\"\n",
    "    }\n",
    "}\n",
    "```"
   ]
  },
  {
   "cell_type": "code",
   "execution_count": 11,
   "id": "3347578e-2f52-4bfd-9200-001f8eac0753",
   "metadata": {},
   "outputs": [],
   "source": [
    "# 使用DictFiled 保存\n",
    "class BookDict(Document):\n",
    "    bookid = StringField()\n",
    "    name = StringField()\n",
    "    chapter = StringField(required=True, default=\"2.3-2.4\")\n",
    "    author = DictField()\n",
    "    meta = {\"db_alias\": TEST_DB1}"
   ]
  },
  {
   "cell_type": "code",
   "execution_count": 12,
   "id": "2ad49f00-7df9-43e4-815f-a6b38e2948cb",
   "metadata": {},
   "outputs": [
    {
     "data": {
      "text/plain": [
       "<BookDict: BookDict object>"
      ]
     },
     "execution_count": 12,
     "metadata": {},
     "output_type": "execute_result"
    }
   ],
   "source": [
    "book_d = BookDict(bookid=\"wx93l56700\", name=\"史记\", author={'name':\"司马迁\", 'age':\"西汉\"})\n",
    "book_d.save()"
   ]
  },
  {
   "cell_type": "markdown",
   "id": "76ab859a-f7da-4b02-9b06-f695a4174eb7",
   "metadata": {},
   "source": [
    "mongodb保存结果:\n",
    "```python\n",
    "{\n",
    "    \"_id\" : ObjectId(\"63fe0ab16afa912dc75ba51f\"),\n",
    "    \"bookid\" : \"wx93l56700\",\n",
    "    \"name\" : \"史记\",\n",
    "    \"chapter\" : \"2.3-2.4\",\n",
    "    \"author\" : {\n",
    "        \"name\" : \"司马迁\",\n",
    "        \"age\" : \"西汉\"\n",
    "    }\n",
    "}\n",
    "```"
   ]
  },
  {
   "cell_type": "markdown",
   "id": "9288a882-dad4-4048-9ff3-aadc637791f1",
   "metadata": {},
   "source": [
    "#### 小结：嵌入式文档还是字典字段？\n",
    "从结果看，字典字段和嵌入式文档保存结果一致；但中间的检查过程是使用嵌入式文档的优势。\n",
    "\n",
    "通常，可以使用嵌入式文档代替字典——通常建议使用嵌入式文档，因为字典不支持验证或自定义字段类型。然而，有时您并不知道要存储的内容的结构；在这种情况下使用DictFile是合适的.\n",
    "字典可以存储复杂的数据、其他字典、列表、对其他对象的引用，因此是最灵活的可用字段类型。\n"
   ]
  },
  {
   "cell_type": "code",
   "execution_count": null,
   "id": "f5087a60-7663-409f-88c0-ca5a3c5702c3",
   "metadata": {},
   "outputs": [],
   "source": []
  }
 ],
 "metadata": {
  "kernelspec": {
   "display_name": "Python 3 (ipykernel)",
   "language": "python",
   "name": "python3"
  },
  "language_info": {
   "codemirror_mode": {
    "name": "ipython",
    "version": 3
   },
   "file_extension": ".py",
   "mimetype": "text/x-python",
   "name": "python",
   "nbconvert_exporter": "python",
   "pygments_lexer": "ipython3",
   "version": "3.10.6"
  }
 },
 "nbformat": 4,
 "nbformat_minor": 5
}
