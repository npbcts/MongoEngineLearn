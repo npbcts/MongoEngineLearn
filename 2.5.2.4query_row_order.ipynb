{
 "cells": [
  {
   "cell_type": "code",
   "execution_count": 1,
   "id": "55389cbb-5279-44a1-8faf-81e1e0279c60",
   "metadata": {},
   "outputs": [],
   "source": [
    "from book_model import BookAllField"
   ]
  },
  {
   "cell_type": "markdown",
   "id": "8f8643c9-7dfb-472d-bfe0-4d90478a6561",
   "metadata": {
    "tags": []
   },
   "source": [
    "### 2.5.2.4. Raw queries(原始查询)和更新  \n",
    "\n",
    "如果外部查询给出的条件直接是字典形式，那么就可以使用原始查询"
   ]
  },
  {
   "cell_type": "markdown",
   "id": "6b9b045c-292f-4eb8-a2a3-f1b2b3ca9176",
   "metadata": {},
   "source": [
    "**原始查询**  \n",
    "It is possible to provide a raw `PyMongo` query as a query parameter, which will be integrated directly into the query. This is done using the `__raw__` keyword argument:\n",
    "\n",
    "```python\n",
    "Page.objects(__raw__={'tags': 'coding'})\n",
    "```\n",
    "\n",
    "这里的原始查询，指使用 `PyMongo`的查询方式，直接传入 查询筛选文档的字典， 而不是使用 `MongoEngine `的`key = value` 形式。"
   ]
  },
  {
   "cell_type": "markdown",
   "id": "e7bf63a6-2ae3-4a87-9a01-c1a373e15058",
   "metadata": {},
   "source": [
    "**原始更新**  \n",
    "Similarly, a raw update can be provided to the update() method:\n",
    "```python\n",
    "Page.objects(tags='coding').update(__raw__={'$set': {'tags': 'coding'}})\n",
    "```"
   ]
  },
  {
   "cell_type": "markdown",
   "id": "31cdbec2-85a4-4d8f-8e77-97edb5df25f1",
   "metadata": {},
   "source": [
    "**原始查询+原始更新**  \n",
    "And the two can also be combined:\n",
    "```python\n",
    "Page.objects(__raw__={'tags': 'coding'}).update(__raw__={'$set': {'tags': 'coding'}})\n",
    "```"
   ]
  },
  {
   "cell_type": "markdown",
   "id": "ff49db18-c2e2-4c1b-9e85-c085079f35de",
   "metadata": {},
   "source": [
    "#### 原始查询练习"
   ]
  },
  {
   "cell_type": "code",
   "execution_count": 3,
   "id": "ba743cc7-851e-4ff1-90e8-ec5d1f8a3f5d",
   "metadata": {},
   "outputs": [
    {
     "data": {
      "text/plain": [
       "'{\"_id\": {\"$oid\": \"6408686b248d96a15f6ff2e4\"}, \"bookid\": \"wx0927615ssr\", \"name\": \"大学\", \"ifnewbook\": false, \"shelves_date\": {\"$date\": 1608422400000}, \"author\": {\"$oid\": \"6408686b248d96a15f6ff2e2\"}, \"author_email\": \"zengzi@qq.com\", \"price\": 10.8, \"book_type\": {\"$ref\": \"book_type\", \"$id\": {\"$oid\": \"63fcd4f21be34fe2c671fb44\"}}, \"publishing_house\": {\"name\": \"人民教育出版社\", \"phone\": \"120934876\"}, \"seller\": {\"$ref\": \"seller\", \"$id\": {\"$oid\": \"6408686b248d96a15f6ff2e3\"}}, \"tag\": [\"历史\", \"经典\", \"必读\"]}'"
      ]
     },
     "execution_count": 3,
     "metadata": {},
     "output_type": "execute_result"
    }
   ],
   "source": [
    "BookAllField.objects(__raw__={\"name\": \"大学\"}).first().to_json(ensure_ascii=False)"
   ]
  },
  {
   "cell_type": "code",
   "execution_count": 4,
   "id": "94594c76-c9f5-42ee-ac3e-3044c73945a3",
   "metadata": {},
   "outputs": [
    {
     "data": {
      "text/plain": [
       "'{\"_id\": {\"$oid\": \"6408686b248d96a15f6ff2e4\"}, \"bookid\": \"wx0927615ssr\", \"name\": \"大学\", \"ifnewbook\": false, \"shelves_date\": {\"$date\": 1608422400000}, \"author\": {\"$oid\": \"6408686b248d96a15f6ff2e2\"}, \"author_email\": \"zengzi@qq.com\", \"price\": 10.8, \"book_type\": {\"$ref\": \"book_type\", \"$id\": {\"$oid\": \"63fcd4f21be34fe2c671fb44\"}}, \"publishing_house\": {\"name\": \"人民教育出版社\", \"phone\": \"120934876\"}, \"seller\": {\"$ref\": \"seller\", \"$id\": {\"$oid\": \"6408686b248d96a15f6ff2e3\"}}, \"tag\": [\"历史\", \"经典\", \"必读\"]}'"
      ]
     },
     "execution_count": 4,
     "metadata": {},
     "output_type": "execute_result"
    }
   ],
   "source": [
    "BookAllField.objects(name= \"大学\").first().to_json(ensure_ascii=False)"
   ]
  },
  {
   "cell_type": "code",
   "execution_count": 9,
   "id": "757b5463-73f0-4f02-932b-2a2fe1fdc429",
   "metadata": {},
   "outputs": [
    {
     "data": {
      "text/plain": [
       "'[{\"_id\": {\"$oid\": \"64087c7ecbd07ad56199892e\"}, \"bookid\": \"520330198010035219\", \"name\": \"没有搜索介绍\", \"ifnewbook\": true, \"shelves_date\": {\"$date\": 766713600000}, \"author\": {\"$oid\": \"64087c7ecbd07ad56199892b\"}, \"author_email\": \"fshen@example.org\", \"price\": 24.18, \"book_type\": {\"$ref\": \"book_type\", \"$id\": {\"$oid\": \"64087c7ecbd07ad56199892d\"}}, \"publishing_house\": {\"name\": \"彩虹网络有限公司\", \"address\": \"宁夏回族自治区宁德市海港刘路j座 117099\"}, \"seller\": {\"$ref\": \"seller\", \"$id\": {\"$oid\": \"64087c7ecbd07ad56199892c\"}}, \"tag\": [\"根据\", \"内容\"]}]'"
      ]
     },
     "execution_count": 9,
     "metadata": {},
     "output_type": "execute_result"
    }
   ],
   "source": [
    "BookAllField.objects(name= \"没有搜索介绍\").to_json(ensure_ascii=False)"
   ]
  },
  {
   "cell_type": "code",
   "execution_count": 11,
   "id": "b049499e-7cb8-44e0-b528-dc4c026d148a",
   "metadata": {},
   "outputs": [
    {
     "data": {
      "text/plain": [
       "1"
      ]
     },
     "execution_count": 11,
     "metadata": {},
     "output_type": "execute_result"
    }
   ],
   "source": [
    "BookAllField.objects(name= \"没有搜索介绍\").update(__raw__={\"$set\": {\"tag\": [\"根据\", \"内容\", \"我们\"]}})"
   ]
  },
  {
   "cell_type": "code",
   "execution_count": 12,
   "id": "6bff6823-ad24-4329-a23f-141a5e2334ec",
   "metadata": {},
   "outputs": [
    {
     "data": {
      "text/plain": [
       "'[{\"_id\": {\"$oid\": \"64087c7ecbd07ad56199892e\"}, \"bookid\": \"520330198010035219\", \"name\": \"没有搜索介绍\", \"ifnewbook\": true, \"shelves_date\": {\"$date\": 766713600000}, \"author\": {\"$oid\": \"64087c7ecbd07ad56199892b\"}, \"author_email\": \"fshen@example.org\", \"price\": 24.18, \"book_type\": {\"$ref\": \"book_type\", \"$id\": {\"$oid\": \"64087c7ecbd07ad56199892d\"}}, \"publishing_house\": {\"name\": \"彩虹网络有限公司\", \"address\": \"宁夏回族自治区宁德市海港刘路j座 117099\"}, \"seller\": {\"$ref\": \"seller\", \"$id\": {\"$oid\": \"64087c7ecbd07ad56199892c\"}}, \"tag\": [\"根据\", \"内容\", \"我们\"]}]'"
      ]
     },
     "execution_count": 12,
     "metadata": {},
     "output_type": "execute_result"
    }
   ],
   "source": [
    "# 查询后已tag更新成功\n",
    "BookAllField.objects(name= \"没有搜索介绍\").to_json(ensure_ascii=False)"
   ]
  },
  {
   "cell_type": "markdown",
   "id": "276d1cea-b1ad-4398-94fc-52b6f55b5438",
   "metadata": {},
   "source": [
    "### 2.5.3. Sorting/Ordering results(查询结果排序)\n",
    "\n",
    "It is possible to order the results by 1 or more keys using `order_by()`. The order may be specified by prepending each of the keys by “+” or “-”. Ascending(升序) order is assumed if there’s no prefix.:\n",
    "\n",
    "```python\n",
    "# Order by ascending date\n",
    "blogs = BlogPost.objects().order_by('date')    # equivalent to .order_by('+date')\n",
    "\n",
    "# Order by ascending date first, then descending title\n",
    "blogs = BlogPost.objects().order_by('+date', '-title')\n",
    "```"
   ]
  },
  {
   "cell_type": "code",
   "execution_count": 16,
   "id": "92927a65-efd5-4924-994c-a6ca08459eaf",
   "metadata": {},
   "outputs": [],
   "source": [
    "# 练习\n",
    "book_order_price = BookAllField.objects(name=\"大学\").order_by(\"-price\")"
   ]
  },
  {
   "cell_type": "code",
   "execution_count": 17,
   "id": "5e7d480e-02d1-4d3c-9b67-e1812230b6d4",
   "metadata": {},
   "outputs": [
    {
     "name": "stdout",
     "output_type": "stream",
     "text": [
      "196.62\n",
      "176.96\n",
      "167.72\n",
      "167.46\n",
      "122.21\n",
      "111.68\n",
      "97.49\n",
      "86.5\n",
      "78.29\n",
      "60.45\n",
      "37.04\n",
      "16.29\n",
      "10.8\n"
     ]
    }
   ],
   "source": [
    "for book in book_order_price:\n",
    "    print(book.price)"
   ]
  },
  {
   "cell_type": "markdown",
   "id": "9672834d-afe9-4bf4-90ba-73bb5fea9d19",
   "metadata": {},
   "source": [
    "### 2.5.4. Limiting and skipping results(限制输出结果)\n",
    "#### 可以使用 切片 代替 `limit()` and `skip()` \n",
    "Just as with traditional ORMs, you may limit the number of results returned or skip a number or results in you query. `limit()` and `skip()` methods are available on QuerySet objects, but the array-slicing syntax is preferred for achieving this:\n",
    "\n",
    "```python\n",
    "# Only the first 5 people\n",
    "users = User.objects[:5]\n",
    "\n",
    "# All except for the first 5 people\n",
    "users = User.objects[5:]\n",
    "\n",
    "# 5 users, starting from the 11th user found\n",
    "users = User.objects[10:15]\n",
    "```"
   ]
  },
  {
   "cell_type": "code",
   "execution_count": 19,
   "id": "13a9aef4-62c8-4d99-8cdc-6871d565e2e3",
   "metadata": {},
   "outputs": [
    {
     "data": {
      "text/plain": [
       "'[{\"_id\": {\"$oid\": \"6408686b248d96a15f6ff2e4\"}, \"bookid\": \"wx0927615ssr\", \"name\": \"大学\", \"ifnewbook\": false, \"shelves_date\": {\"$date\": 1608422400000}, \"author\": {\"$oid\": \"6408686b248d96a15f6ff2e2\"}, \"author_email\": \"zengzi@qq.com\", \"price\": 10.8, \"book_type\": {\"$ref\": \"book_type\", \"$id\": {\"$oid\": \"63fcd4f21be34fe2c671fb44\"}}, \"publishing_house\": {\"name\": \"人民教育出版社\", \"phone\": \"120934876\"}, \"seller\": {\"$ref\": \"seller\", \"$id\": {\"$oid\": \"6408686b248d96a15f6ff2e3\"}}, \"tag\": [\"历史\", \"经典\", \"必读\"]}, {\"_id\": {\"$oid\": \"64087d90cbd07ad561999418\"}, \"bookid\": \"350212199202171746\", \"name\": \"大学\", \"ifnewbook\": false, \"shelves_date\": {\"$date\": 1206403200000}, \"author\": {\"$oid\": \"64087d90cbd07ad561999417\"}, \"author_email\": \"pingzou@example.org\", \"price\": 86.5, \"book_type\": {\"$ref\": \"book_type\", \"$id\": {\"$oid\": \"64087d77cbd07ad561998bfe\"}}, \"publishing_house\": {\"name\": \"鸿睿思博传媒有限公司\", \"address\": \"上海市华县和平阜新街K座 319731\"}, \"seller\": {\"$ref\": \"seller\", \"$id\": {\"$oid\": \"64087d7dcbd07ad561998e52\"}}, \"tag\": [\"主题\"]}, {\"_id\": {\"$oid\": \"64087ddccbd07ad56199a615\"}, \"bookid\": \"530828199810014223\", \"name\": \"大学\", \"ifnewbook\": true, \"shelves_date\": {\"$date\": 776217600000}, \"author\": {\"$oid\": \"64087ddccbd07ad56199a614\"}, \"author_email\": \"lilei@example.org\", \"price\": 122.21, \"book_type\": {\"$ref\": \"book_type\", \"$id\": {\"$oid\": \"64087d77cbd07ad561998bce\"}}, \"publishing_house\": {\"name\": \"通际名联传媒有限公司\", \"address\": \"新疆维吾尔自治区兴安盟县怀柔曹街k座 768195\"}, \"seller\": {\"$ref\": \"seller\", \"$id\": {\"$oid\": \"64087d78cbd07ad561998c6e\"}}, \"tag\": [\"报告\", \"功能\", \"一下\"]}]'"
      ]
     },
     "execution_count": 19,
     "metadata": {},
     "output_type": "execute_result"
    }
   ],
   "source": [
    "BookAllField.objects(name=\"大学\")[:3].to_json(ensure_ascii=False)"
   ]
  },
  {
   "cell_type": "code",
   "execution_count": 21,
   "id": "d1c7ab54-4f5c-45ad-938a-30ad3adce9ec",
   "metadata": {},
   "outputs": [
    {
     "data": {
      "text/plain": [
       "'[{\"_id\": {\"$oid\": \"64088031cbd07ad56199f054\"}, \"bookid\": \"371481198711210815\", \"name\": \"大学\", \"ifnewbook\": true, \"shelves_date\": {\"$date\": 1633478400000}, \"author\": {\"$oid\": \"64088031cbd07ad56199f053\"}, \"author_email\": \"pfeng@example.com\", \"price\": 176.96, \"book_type\": {\"$ref\": \"book_type\", \"$id\": {\"$oid\": \"64087d7acbd07ad561998d0d\"}}, \"publishing_house\": {\"name\": \"海创网络有限公司\", \"address\": \"天津市秀英县西夏周街i座 656025\"}, \"seller\": {\"$ref\": \"seller\", \"$id\": {\"$oid\": \"64087d9ecbd07ad5619997da\"}}, \"tag\": [\"软件\"]}, {\"_id\": {\"$oid\": \"64088031cbd07ad56199f06a\"}, \"bookid\": \"350000197401128067\", \"name\": \"大学\", \"ifnewbook\": false, \"shelves_date\": {\"$date\": 208310400000}, \"author\": {\"$oid\": \"64087e4fcbd07ad56199bc46\"}, \"author_email\": \"oyuan@example.net\", \"price\": 78.29, \"book_type\": {\"$ref\": \"book_type\", \"$id\": {\"$oid\": \"64087d73cbd07ad561998a19\"}}, \"publishing_house\": {\"name\": \"七喜网络有限公司\", \"address\": \"宁夏回族自治区勇市西夏王路O座 679071\"}, \"seller\": {\"$ref\": \"seller\", \"$id\": {\"$oid\": \"64087d73cbd07ad5619989f0\"}}, \"tag\": [\"免费\", \"结果\", \"这些\"]}, {\"_id\": {\"$oid\": \"64088033cbd07ad56199f0b8\"}, \"bookid\": \"330103198705065451\", \"name\": \"大学\", \"ifnewbook\": true, \"shelves_date\": {\"$date\": 29721600000}, \"author\": {\"$oid\": \"64087db0cbd07ad561999c59\"}, \"author_email\": \"na40@example.net\", \"price\": 167.72, \"book_type\": {\"$ref\": \"book_type\", \"$id\": {\"$oid\": \"64087d72cbd07ad561998971\"}}, \"publishing_house\": {\"name\": \"海创传媒有限公司\", \"address\": \"甘肃省倩市双滦徐路i座 749821\"}, \"seller\": {\"$ref\": \"seller\", \"$id\": {\"$oid\": \"64087d87cbd07ad56199918d\"}}, \"tag\": [\"精华\", \"作为\", \"电影\"]}]'"
      ]
     },
     "execution_count": 21,
     "metadata": {},
     "output_type": "execute_result"
    }
   ],
   "source": [
    "BookAllField.objects(name=\"大学\")[10:].to_json(ensure_ascii=False)"
   ]
  },
  {
   "cell_type": "code",
   "execution_count": 22,
   "id": "56645e7e-4467-4578-8696-66a499961823",
   "metadata": {},
   "outputs": [
    {
     "data": {
      "text/plain": [
       "'[{\"_id\": {\"$oid\": \"64087e2dcbd07ad56199b61d\"}, \"bookid\": \"42070319550217697X\", \"name\": \"大学\", \"ifnewbook\": true, \"shelves_date\": {\"$date\": 12441600000}, \"author\": {\"$oid\": \"64087e2dcbd07ad56199b61c\"}, \"author_email\": \"guiyingzhu@example.com\", \"price\": 167.46, \"book_type\": {\"$ref\": \"book_type\", \"$id\": {\"$oid\": \"64087d71cbd07ad561998959\"}}, \"publishing_house\": {\"name\": \"凌云信息有限公司\", \"address\": \"西藏自治区楠县怀柔哈尔滨街Y座 459928\"}, \"seller\": {\"$ref\": \"seller\", \"$id\": {\"$oid\": \"64087d7bcbd07ad561998d97\"}}, \"tag\": [\"都是\", \"学校\"]}, {\"_id\": {\"$oid\": \"64087e35cbd07ad56199b797\"}, \"bookid\": \"130628195702059631\", \"name\": \"大学\", \"ifnewbook\": false, \"shelves_date\": {\"$date\": 1574726400000}, \"author\": {\"$oid\": \"64087d86cbd07ad56199913b\"}, \"author_email\": \"ijin@example.com\", \"price\": 111.68, \"book_type\": {\"$ref\": \"book_type\", \"$id\": {\"$oid\": \"64087d7ecbd07ad561998e84\"}}, \"publishing_house\": {\"name\": \"创汇信息有限公司\", \"address\": \"广东省福州县梁平广州街j座 364778\"}, \"seller\": {\"$ref\": \"seller\", \"$id\": {\"$oid\": \"64087d7bcbd07ad561998d46\"}}, \"tag\": [\"电子\"]}]'"
      ]
     },
     "execution_count": 22,
     "metadata": {},
     "output_type": "execute_result"
    }
   ],
   "source": [
    "BookAllField.objects(name=\"大学\")[5:7].to_json(ensure_ascii=False)"
   ]
  },
  {
   "cell_type": "markdown",
   "id": "22da67b3-f170-47ce-9ea6-137469fb6e57",
   "metadata": {},
   "source": [
    "#### 没有查询到文档\n",
    "You may also index the query to retrieve a single result. If an item at that index does not exists, an `IndexError` will be raised. A shortcut for retrieving the first result and returning `None` if no result exists is provided `(first())`:\n",
    "\n",
    "```python\n",
    "# Make sure there are no users\n",
    "User.drop_collection()\n",
    "User.objects[0]\n",
    "IndexError: list index out of range\n",
    "User.objects.first() == None\n",
    "True\n",
    "User(name='Test User').save()\n",
    "User.objects[0] == User.objects.first()\n",
    "True\n",
    "```"
   ]
  },
  {
   "cell_type": "code",
   "execution_count": null,
   "id": "62813bd3-4684-4035-be1a-bd12adc88381",
   "metadata": {},
   "outputs": [],
   "source": []
  }
 ],
 "metadata": {
  "kernelspec": {
   "display_name": "Python 3 (ipykernel)",
   "language": "python",
   "name": "python3"
  },
  "language_info": {
   "codemirror_mode": {
    "name": "ipython",
    "version": 3
   },
   "file_extension": ".py",
   "mimetype": "text/x-python",
   "name": "python",
   "nbconvert_exporter": "python",
   "pygments_lexer": "ipython3",
   "version": "3.10.6"
  }
 },
 "nbformat": 4,
 "nbformat_minor": 5
}
