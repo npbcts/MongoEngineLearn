{
 "cells": [
  {
   "cell_type": "markdown",
   "id": "c99af815-41f9-4947-abd8-88e5c044c9e4",
   "metadata": {},
   "source": [
    "## 练习代码"
   ]
  },
  {
   "cell_type": "code",
   "execution_count": 33,
   "id": "be217609-5be0-43d3-8492-190605491a00",
   "metadata": {},
   "outputs": [],
   "source": [
    "from mongoengine import connect, disconnect\n",
    "from mongoengine import Document\n",
    "from mongoengine import StringField, IntField"
   ]
  },
  {
   "cell_type": "code",
   "execution_count": 19,
   "id": "5914dfb8-8ff2-441f-9767-80b474d853a5",
   "metadata": {},
   "outputs": [
    {
     "data": {
      "text/plain": [
       "MongoClient(host=['192.168.2.172:27017'], document_class=dict, tz_aware=False, connect=True, read_preference=Primary(), uuidrepresentation=3)"
      ]
     },
     "execution_count": 19,
     "metadata": {},
     "output_type": "execute_result"
    }
   ],
   "source": [
    "# 连接到已创建的数据库\n",
    "connect(\n",
    "    'engine_learn', \n",
    "    host='192.168.2.172', \n",
    "    port=27017, \n",
    "    username='student', \n",
    "    password='stu123', \n",
    "    authentication_source='engine_learn',\n",
    "    alias='engine_learn'\n",
    ")\n",
    "# 此种方法连接成功\n",
    "# authentication_source='engine_learn' 使用正确"
   ]
  },
  {
   "cell_type": "code",
   "execution_count": 35,
   "id": "2a25a5b9-aec1-412e-a3bb-9c440a0612a5",
   "metadata": {},
   "outputs": [
    {
     "data": {
      "text/plain": [
       "MongoClient(host=['192.168.2.172:27017'], document_class=dict, tz_aware=False, connect=True, read_preference=Primary(), uuidrepresentation=3)"
      ]
     },
     "execution_count": 35,
     "metadata": {},
     "output_type": "execute_result"
    }
   ],
   "source": [
    "# 连接到已创建的数据库\n",
    "connect(\n",
    "    'engine_learn2', \n",
    "    host='192.168.2.172', \n",
    "    port=27017, \n",
    "    username='student', \n",
    "    password='stu123', \n",
    "    authentication_source='engine_learn2',\n",
    "    # alias='engine_learn'  # 没指定别名\n",
    ")\n",
    "# 此种方法连接成功\n",
    "# 如果已有连接为default, 修改参数再次连接时会报错\n",
    "# 如果已连接默认default,想连接其他数据库，可先disconnect"
   ]
  },
  {
   "cell_type": "code",
   "execution_count": 34,
   "id": "d1340bf8-6c7d-4188-9e17-95c3d668c2ea",
   "metadata": {},
   "outputs": [],
   "source": [
    "disconnect()"
   ]
  },
  {
   "cell_type": "code",
   "execution_count": 23,
   "id": "c534f193-cf5d-438b-8c59-66bb6f601966",
   "metadata": {},
   "outputs": [],
   "source": [
    "# 为数据库创建集合\n",
    "class Book(Document):\n",
    "    bookid = StringField()\n",
    "    name = StringField()\n",
    "    count = IntField()\n",
    "    meta = {\"db_alias\": \"engine_learn\"}"
   ]
  },
  {
   "cell_type": "code",
   "execution_count": 36,
   "id": "8b7e83fb-3e33-43e9-a9a6-0b1a36f800f7",
   "metadata": {},
   "outputs": [],
   "source": [
    "# 为数据库创建集合\n",
    "class Book2(Document):\n",
    "    bookid = StringField()  # 如果使用 id 作为关键字，被判定不合法\n",
    "    name = StringField()\n",
    "    count = IntField()\n",
    "    # meta = {\"db_alias\": \"engine_learn\"}  # notebook中不指定"
   ]
  },
  {
   "cell_type": "code",
   "execution_count": 24,
   "id": "761e3040-7f55-410c-b899-f791e9f870c0",
   "metadata": {},
   "outputs": [],
   "source": [
    "sgyy = Book(bookid=\"wx000001\", name=\"三国演义\", count=20)\n",
    "sgyy.save()"
   ]
  },
  {
   "cell_type": "code",
   "execution_count": 37,
   "id": "944f1bf4-c99c-4d67-b84b-cf08a1a37ffc",
   "metadata": {},
   "outputs": [
    {
     "data": {
      "text/plain": [
       "<Book2: Book2 object>"
      ]
     },
     "execution_count": 37,
     "metadata": {},
     "output_type": "execute_result"
    }
   ],
   "source": [
    "sgyy2 = Book2(bookid=\"wx000001\", name=\"三国演义\", count=20)\n",
    "sgyy2.save()"
   ]
  },
  {
   "cell_type": "markdown",
   "id": "fcabacaf-28da-4800-af25-13ada1611f4a",
   "metadata": {},
   "source": [
    "## 总结"
   ]
  },
  {
   "cell_type": "markdown",
   "id": "a6995438-1716-4fa9-88ed-2668b0c81963",
   "metadata": {},
   "source": [
    "### 上下文环境中的数据库使用\n",
    "\n",
    "- `connect` 函数不添加 `alias` 参数，会指向 `default`为默认别名的数据库。因此创建 文档类时，不添加 `meta = {\"db_alias\": \"engine_learn\"}`，此时文档类自动指向 `default`为默认别名的数据库。即默认环境上下文存在 `default`数据库, 同时 文档也默认指向 `default`, 文档示例创建保存时可以成功。\n",
    "- `connect` 函数添加 `alias = engine_learn` 参数，创建 文档类时，也添加 `meta = {\"db_alias\": \"engine_learn\"}`， 上下文一致，保存成功。\n",
    "- 即， `connect` 函数 无论是默认的别名还是显示的别名都应该存在上下文中， 文档 指向与其保持一致， 否则 抛出异常。"
   ]
  },
  {
   "cell_type": "markdown",
   "id": "97451c51-fc47-436e-af98-b023588c60a5",
   "metadata": {},
   "source": [
    "### 认证数据库源参数\n",
    "\n",
    "`connect` 函数 `authentication_source='engine_learn'` 使用正确, 即需要连接的数据库。"
   ]
  },
  {
   "cell_type": "markdown",
   "id": "a5356d47-b5ab-4331-9dd4-1a9e0c470fb6",
   "metadata": {},
   "source": [
    "### 文档创建时的字段要求\n",
    "\n",
    "如果使用 `id` 作为关键字，被判定不合法"
   ]
  },
  {
   "cell_type": "markdown",
   "id": "bc1f551d-bb58-4378-b9bb-f84f9416fda0",
   "metadata": {},
   "source": [
    "### 已有连接再连接\n",
    "\n",
    "如果已有连接为 `default`, 修改参数再次连接时会报错\n",
    "如果已连接默认 `default`,想连接其他数据库，可先`disconnect`"
   ]
  }
 ],
 "metadata": {
  "kernelspec": {
   "display_name": "Python 3 (ipykernel)",
   "language": "python",
   "name": "python3"
  },
  "language_info": {
   "codemirror_mode": {
    "name": "ipython",
    "version": 3
   },
   "file_extension": ".py",
   "mimetype": "text/x-python",
   "name": "python",
   "nbconvert_exporter": "python",
   "pygments_lexer": "ipython3",
   "version": "3.10.6"
  }
 },
 "nbformat": 4,
 "nbformat_minor": 5
}
